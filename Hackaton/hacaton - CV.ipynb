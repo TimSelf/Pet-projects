{
 "cells": [
  {
   "cell_type": "markdown",
   "metadata": {},
   "source": [
    "## Идеи"
   ]
  },
  {
   "cell_type": "markdown",
   "metadata": {},
   "source": [
    "1. Необходимо классифицировать изображения на 12 классов. Используем простую сверточную сеть с двумя полносвязными слоями. На выходе - слой размера 12 с softmax. На входе - тензор батча изобржаний\n",
    "2. Изображения очень похожи друг на друга. В центре - побег растения, фон - почва (камни, замля и т.д.)\n",
    "3. Изображения не стандартного формата (вроде). Необходимо привести к одному масштабу. \n",
    "4. Так как фото сделаны сверху - нет строгой ориентации побега (однако, он центрирован) и нет строгого отношения размер изображения/размер побега. Поэтому точно классной идеей будет применить аугментацию изображений поворотом и масштабированием. Возможно, также сдвигом. ImageDataGenerator\n",
    "5. В качестве доп. фичей можно применить гистограмму цветов в области побега\n",
    "6. Обучить несколько независимых сетей на частях данных (допустим, 4), делать стекинг на тестовой выборке из их предсказаний. Сам стекинг не обучать (для скорости)\n",
    "7. Попробовать дообучать несколько слоев ResNet (хотя, эта сеть обучена для слишком большого количества изображений)\n",
    "8. После обучения смотреть матрицу ошибок, выделять дополнительно то, что можно дообучить в случае больших ошибок сети\n",
    "9. Подумать над размером и стратификацией батча (видел батчи по 16-20 фото, но у нас 12 классов. Так, есть большая вероятность не попадания нескольких классов в батч)"
   ]
  },
  {
   "cell_type": "markdown",
   "metadata": {},
   "source": [
    "## imports"
   ]
  },
  {
   "cell_type": "code",
   "execution_count": 1,
   "metadata": {},
   "outputs": [
    {
     "name": "stderr",
     "output_type": "stream",
     "text": [
      "C:\\ProgramData\\Anaconda3\\lib\\site-packages\\h5py\\__init__.py:36: FutureWarning: Conversion of the second argument of issubdtype from `float` to `np.floating` is deprecated. In future, it will be treated as `np.float64 == np.dtype(float).type`.\n",
      "  from ._conv import register_converters as _register_converters\n",
      "Using TensorFlow backend.\n"
     ]
    }
   ],
   "source": [
    "import pandas as pd\n",
    "import numpy as np\n",
    "import os\n",
    "import imageio\n",
    "\n",
    "from keras.utils import plot_model\n",
    "from keras.models import Model\n",
    "from keras.models import Sequential\n",
    "from keras.layers import Input\n",
    "from keras.layers import Dense\n",
    "from keras.layers import Flatten\n",
    "from keras.layers import Activation\n",
    "from keras.layers import Dropout\n",
    "from keras.layers import Maximum\n",
    "from keras.layers import ZeroPadding2D\n",
    "from keras.layers.convolutional import Conv2D\n",
    "from keras.layers.pooling import MaxPooling2D\n",
    "from keras.layers.merge import concatenate\n",
    "from keras import regularizers\n",
    "from keras.layers import BatchNormalization\n",
    "from keras.optimizers import Adam, SGD\n",
    "from keras.preprocessing.image import ImageDataGenerator\n",
    "from keras.callbacks import ModelCheckpoint, ReduceLROnPlateau\n",
    "from keras.layers.advanced_activations import LeakyReLU\n",
    "from keras.utils import to_categorical\n",
    "from sklearn.model_selection import train_test_split\n",
    "from skimage.transform import resize as imresize\n",
    "from tqdm import tqdm\n",
    "import os\n",
    "import numpy as np\n",
    "import cv2\n",
    "from glob import glob\n",
    "from sklearn.decomposition import PCA\n",
    "\n",
    "# from subprocess import check_output\n",
    "# print(check_output([\"ls\", \"../input\"]).decode(\"utf8\"))"
   ]
  },
  {
   "cell_type": "markdown",
   "metadata": {},
   "source": [
    "# global vars"
   ]
  },
  {
   "cell_type": "code",
   "execution_count": 24,
   "metadata": {},
   "outputs": [],
   "source": [
    "BATCH_SIZE = 16\n",
    "EPOCHS = 10\n",
    "RANDOM_STATE = 5\n",
    "CLASS = {\n",
    "    'Black-grass': 0,\n",
    "    'Charlock': 1,\n",
    "    'Cleavers': 2,\n",
    "    'Common Chickweed': 3,\n",
    "    'Common wheat': 4,\n",
    "    'Fat Hen': 5,\n",
    "    'Loose Silky-bent': 6,\n",
    "    'Maize': 7,\n",
    "    'Scentless Mayweed': 8,\n",
    "    'Shepherds Purse': 9,\n",
    "    'Small-flowered Cranesbill': 10,\n",
    "    'Sugar beet': 11\n",
    "}\n",
    "\n",
    "INV_CLASS = {\n",
    "    0: 'Black-grass',\n",
    "    1: 'Charlock',\n",
    "    2: 'Cleavers',\n",
    "    3: 'Common Chickweed',\n",
    "    4: 'Common wheat',\n",
    "    5: 'Fat Hen',\n",
    "    6: 'Loose Silky-bent',\n",
    "    7: 'Maize',\n",
    "    8: 'Scentless Mayweed',\n",
    "    9: 'Shepherds Purse',\n",
    "    10: 'Small-flowered Cranesbill',\n",
    "    11: 'Sugar beet'\n",
    "}"
   ]
  },
  {
   "cell_type": "markdown",
   "metadata": {},
   "source": [
    "# Создание сети"
   ]
  },
  {
   "cell_type": "code",
   "execution_count": 5,
   "metadata": {},
   "outputs": [],
   "source": [
    "def dense_set(inp_layer, n, activation, drop_rate=0.):\n",
    "    dp = Dropout(drop_rate)(inp_layer)\n",
    "    dns = Dense(n)(dp)\n",
    "    bn = BatchNormalization(axis=-1)(dns)\n",
    "    act = Activation(activation=activation)(bn)\n",
    "    return act"
   ]
  },
  {
   "cell_type": "code",
   "execution_count": 6,
   "metadata": {},
   "outputs": [],
   "source": [
    "def conv_layer(feature_batch, feature_map, kernel_size=(3, 3),strides=(1,1), zp_flag=False):\n",
    "    if zp_flag:\n",
    "        zp = ZeroPadding2D((1,1))(feature_batch)\n",
    "    else:\n",
    "        zp = feature_batch\n",
    "    conv = Conv2D(filters=feature_map, kernel_size=kernel_size, strides=strides)(zp)\n",
    "    bn = BatchNormalization(axis=3)(conv)\n",
    "    act = LeakyReLU(1/10)(bn)\n",
    "    return act"
   ]
  },
  {
   "cell_type": "code",
   "execution_count": 21,
   "metadata": {},
   "outputs": [],
   "source": [
    "def get_model():\n",
    "    inp_img = Input(shape=(51, 51, 3))\n",
    "\n",
    "    # 51\n",
    "    conv1 = conv_layer(inp_img, 16, zp_flag=False)\n",
    "    conv2 = conv_layer(conv1, 16, zp_flag=False)\n",
    "    mp1 = MaxPooling2D(pool_size=(3, 3), strides=(2, 2))(conv2)\n",
    "    # 23\n",
    "    conv3 = conv_layer(mp1, 32, zp_flag=False)\n",
    "    conv4 = conv_layer(conv3, 32, zp_flag=False)\n",
    "    mp2 = MaxPooling2D(pool_size=(3, 3), strides=(2, 2))(conv4)\n",
    "    # 9\n",
    "    conv7 = conv_layer(mp2, 64, zp_flag=False)\n",
    "    conv8 = conv_layer(conv7, 64, zp_flag=False)\n",
    "    conv9 = conv_layer(conv8, 64, zp_flag=False)\n",
    "    mp3 = MaxPooling2D(pool_size=(3, 3), strides=(2, 2))(conv9)\n",
    "    # 1\n",
    "    # dense layers\n",
    "    flt = Flatten()(mp3)\n",
    "    ds1 = dense_set(flt, 128, activation='tanh')\n",
    "    out = dense_set(ds1, 12, activation='softmax')\n",
    "\n",
    "    model = Model(inputs=inp_img, outputs=out)\n",
    "\n",
    "    \n",
    "    mypotim = Adam(lr=2 * 1e-3, beta_1=0.9, beta_2=0.999, epsilon=1e-08)\n",
    "#     mypotim = SGD(lr=1 * 1e-1, momentum=0.9, nesterov=True)\n",
    "    model.compile(loss='categorical_crossentropy',\n",
    "                   optimizer=mypotim,\n",
    "                   metrics=['accuracy'])\n",
    "    model.summary()\n",
    "    return model"
   ]
  },
  {
   "cell_type": "code",
   "execution_count": 8,
   "metadata": {},
   "outputs": [],
   "source": [
    "def get_callbacks(filepath, patience=5):\n",
    "    lr_reduce = ReduceLROnPlateau(monitor='val_acc', factor=0.1, epsilon=1e-5, patience=patience, verbose=1)\n",
    "    msave = ModelCheckpoint(filepath, save_best_only=True)\n",
    "    return [lr_reduce, msave]"
   ]
  },
  {
   "cell_type": "code",
   "execution_count": 9,
   "metadata": {},
   "outputs": [],
   "source": [
    "# Архитектура MNIST, не применяю тут\n",
    "def gen_model():\n",
    "    model = Sequential([\n",
    "        Conv2D(filters=32, kernel_size=(3, 3), activation='relu', input_shape=(51, 51, 3)),\n",
    "        Conv2D(filters=32, kernel_size=(3, 3), activation='relu'),\n",
    "        Conv2D(filters=32, kernel_size=(3, 3), activation='relu'),\n",
    "        MaxPooling2D(pool_size=(2, 2)),\n",
    "        Conv2D(filters=32, kernel_size=(3, 3), activation='relu'),\n",
    "        Conv2D(filters=32, kernel_size=(3, 3), activation='relu'),\n",
    "        MaxPooling2D(pool_size=(2, 2)),\n",
    "        Conv2D(filters=32, kernel_size=(3, 3), activation='relu'),\n",
    "        Conv2D(filters=32, kernel_size=(3, 3), activation='relu'),\n",
    "        MaxPooling2D(pool_size=(2, 2)),\n",
    "        Dropout(rate=0.25),\n",
    "        Flatten(),\n",
    "        Dense(1024, activation='relu'),\n",
    "        Dense(12, activation='softmax')\n",
    "    ])\n",
    "    model.compile(optimizer='adam', loss='categorical_crossentropy', metrics=['accuracy'])\n",
    "    return model"
   ]
  },
  {
   "cell_type": "markdown",
   "metadata": {},
   "source": [
    "## Методы для обучения и предсказания"
   ]
  },
  {
   "cell_type": "code",
   "execution_count": 10,
   "metadata": {},
   "outputs": [],
   "source": [
    "def train_model(img, target):\n",
    "    callbacks = get_callbacks(filepath='model_weight_Adam.hdf5', patience=6)\n",
    "    gmodel = get_model()\n",
    "#     gmodel.load_weights(filepath='model_weight_Adam.hdf5')\n",
    "    x_train, x_valid, y_train, y_valid = train_test_split(\n",
    "                                                        img,\n",
    "                                                        target,\n",
    "                                                        shuffle=True,\n",
    "                                                        train_size=0.8,\n",
    "                                                        random_state=RANDOM_STATE\n",
    "                                                        )\n",
    "    gen = ImageDataGenerator(\n",
    "            rotation_range=180.,\n",
    "            width_shift_range=0.4,\n",
    "            height_shift_range=0.4,\n",
    "            zoom_range=0.5,\n",
    "            vertical_flip=True\n",
    "    )\n",
    "    gmodel.fit_generator(gen.flow(x_train, y_train,batch_size=BATCH_SIZE),\n",
    "               steps_per_epoch=len(x_train)/BATCH_SIZE,\n",
    "               epochs=EPOCHS,\n",
    "               verbose=1,\n",
    "               shuffle=True,\n",
    "               validation_data=(x_valid, y_valid),\n",
    "               callbacks=callbacks\n",
    "               )\n",
    "#     "
   ]
  },
  {
   "cell_type": "code",
   "execution_count": 26,
   "metadata": {},
   "outputs": [],
   "source": [
    "def test_model(img, label):\n",
    "    gmodel = get_model()\n",
    "    gmodel.load_weights(filepath='model_weight_Adam.hdf5')\n",
    "    prob = gmodel.predict(img, verbose=1)\n",
    "    pred = prob.argmax(axis=-1)\n",
    "    sub = pd.DataFrame({\"file\": label,\n",
    "                         \"species\": [INV_CLASS[p] for p in pred]})\n",
    "    sub.to_csv(\"sub.csv\", index=False, header=True)"
   ]
  },
  {
   "cell_type": "code",
   "execution_count": null,
   "metadata": {},
   "outputs": [],
   "source": []
  },
  {
   "cell_type": "markdown",
   "metadata": {},
   "source": [
    "# чтение и предобработка данных"
   ]
  },
  {
   "cell_type": "code",
   "execution_count": 13,
   "metadata": {},
   "outputs": [],
   "source": [
    "def img_reshape(img):\n",
    "    img = imresize(img, (51, 51, 3))\n",
    "    return img"
   ]
  },
  {
   "cell_type": "code",
   "execution_count": 14,
   "metadata": {},
   "outputs": [],
   "source": [
    "def img_label(path):\n",
    "    return str(str(path.split('\\\\')[-1]))"
   ]
  },
  {
   "cell_type": "code",
   "execution_count": 15,
   "metadata": {},
   "outputs": [],
   "source": [
    "def img_class(path):\n",
    "    return str(path.split('\\\\')[-2])"
   ]
  },
  {
   "cell_type": "code",
   "execution_count": 16,
   "metadata": {},
   "outputs": [],
   "source": [
    "def fill_dict(paths, some_dict):\n",
    "    text = ''\n",
    "    if 'train' in paths[0]:\n",
    "        text = 'Start fill train_dict'\n",
    "    elif 'test' in paths[0]:\n",
    "        text = 'Start fill test_dict'\n",
    "\n",
    "    for p in tqdm(paths, ascii=True, ncols=85, desc=text):\n",
    "        img = cv2.imread(p)\n",
    "        hsv = cv2.cvtColor(img, cv2.COLOR_BGR2HSV)    \n",
    "        mask = cv2.inRange(hsv, (24, 50, 0), (55, 255, 140))\n",
    "        img = cv2.bitwise_and(img, img, mask=mask)\n",
    "        img = img_reshape(img)\n",
    "        some_dict['image'].append(img)\n",
    "        some_dict['label'].append(img_label(p))\n",
    "        if 'train' in paths[0]:\n",
    "            some_dict['class'].append(img_class(p))\n",
    "    return some_dict"
   ]
  },
  {
   "cell_type": "code",
   "execution_count": 17,
   "metadata": {},
   "outputs": [],
   "source": [
    "def reader():\n",
    "    file_ext = []\n",
    "    train_path = []\n",
    "    test_path = []\n",
    "\n",
    "    for root, dirs, files in os.walk('Data-hackaton'):\n",
    "        if dirs != []:\n",
    "            print('Root:\\n'+str(root))\n",
    "            print('Dirs:\\n'+str(dirs))\n",
    "        else:\n",
    "            for f in files:\n",
    "                ext = os.path.splitext(str(f))[1][1:]\n",
    "\n",
    "                if ext not in file_ext:\n",
    "                    file_ext.append(ext)\n",
    "\n",
    "                if 'train' in root:\n",
    "                    path = os.path.join(root, f)\n",
    "                    train_path.append(path)\n",
    "                elif 'test' in root:\n",
    "                    path = os.path.join(root, f)\n",
    "                    test_path.append(path)\n",
    "    train_dict = {\n",
    "        'image': [],\n",
    "        'label': [],\n",
    "        'class': []\n",
    "    }\n",
    "    test_dict = {\n",
    "        'image': [],\n",
    "        'label': []\n",
    "    }\n",
    "\n",
    "    train_dict = fill_dict(train_path, train_dict)\n",
    "    test_dict = fill_dict(test_path, test_dict)\n",
    "    return train_dict, test_dict"
   ]
  },
  {
   "cell_type": "markdown",
   "metadata": {},
   "source": [
    "## Собственно, чтение данных в словарь"
   ]
  },
  {
   "cell_type": "code",
   "execution_count": 18,
   "metadata": {},
   "outputs": [
    {
     "name": "stdout",
     "output_type": "stream",
     "text": [
      "Root:\n",
      "Data-hackaton\n",
      "Dirs:\n",
      "['test', 'train']\n",
      "Root:\n",
      "Data-hackaton\\train\n",
      "Dirs:\n",
      "['Black-grass', 'Charlock', 'Cleavers', 'Common Chickweed', 'Common wheat', 'Fat Hen', 'Loose Silky-bent', 'Maize', 'Scentless Mayweed', 'Shepherds Purse', 'Small-flowered Cranesbill', 'Sugar beet']\n"
     ]
    },
    {
     "name": "stderr",
     "output_type": "stream",
     "text": [
      "Start fill train_dict:   0%|                                | 0/4750 [00:00<?, ?it/s]C:\\ProgramData\\Anaconda3\\lib\\site-packages\\skimage\\transform\\_warps.py:84: UserWarning: The default mode, 'constant', will be changed to 'reflect' in skimage 0.15.\n",
      "  warn(\"The default mode, 'constant', will be changed to 'reflect' in \"\n",
      "Start fill train_dict: 100%|#####################| 4750/4750 [05:01<00:00, 15.75it/s]\n",
      "Start fill test_dict: 100%|########################| 794/794 [00:27<00:00, 28.96it/s]\n"
     ]
    }
   ],
   "source": [
    "train_dict, test_dict = reader()"
   ]
  },
  {
   "cell_type": "markdown",
   "metadata": {},
   "source": [
    "## Составление необходимых ndarray, передаваемых в модель"
   ]
  },
  {
   "cell_type": "code",
   "execution_count": 22,
   "metadata": {},
   "outputs": [],
   "source": [
    "X_train = np.array(train_dict['image'])\n",
    "y_train = to_categorical(np.array([CLASS[l] for l in train_dict['class']]))"
   ]
  },
  {
   "cell_type": "code",
   "execution_count": 23,
   "metadata": {},
   "outputs": [],
   "source": [
    "X_test = np.array(test_dict['image'])\n",
    "label = test_dict['label']"
   ]
  },
  {
   "cell_type": "markdown",
   "metadata": {},
   "source": [
    "## Обучение модели"
   ]
  },
  {
   "cell_type": "code",
   "execution_count": 25,
   "metadata": {},
   "outputs": [
    {
     "name": "stderr",
     "output_type": "stream",
     "text": [
      "C:\\ProgramData\\Anaconda3\\lib\\site-packages\\keras\\callbacks.py:999: UserWarning: `epsilon` argument is deprecated and will be removed, use `min_delta` instead.\n",
      "  warnings.warn('`epsilon` argument is deprecated and '\n"
     ]
    },
    {
     "name": "stdout",
     "output_type": "stream",
     "text": [
      "_________________________________________________________________\n",
      "Layer (type)                 Output Shape              Param #   \n",
      "=================================================================\n",
      "input_1 (InputLayer)         (None, 51, 51, 3)         0         \n",
      "_________________________________________________________________\n",
      "conv2d_1 (Conv2D)            (None, 49, 49, 16)        448       \n",
      "_________________________________________________________________\n",
      "batch_normalization_1 (Batch (None, 49, 49, 16)        64        \n",
      "_________________________________________________________________\n",
      "leaky_re_lu_1 (LeakyReLU)    (None, 49, 49, 16)        0         \n",
      "_________________________________________________________________\n",
      "conv2d_2 (Conv2D)            (None, 47, 47, 16)        2320      \n",
      "_________________________________________________________________\n",
      "batch_normalization_2 (Batch (None, 47, 47, 16)        64        \n",
      "_________________________________________________________________\n",
      "leaky_re_lu_2 (LeakyReLU)    (None, 47, 47, 16)        0         \n",
      "_________________________________________________________________\n",
      "max_pooling2d_1 (MaxPooling2 (None, 23, 23, 16)        0         \n",
      "_________________________________________________________________\n",
      "conv2d_3 (Conv2D)            (None, 21, 21, 32)        4640      \n",
      "_________________________________________________________________\n",
      "batch_normalization_3 (Batch (None, 21, 21, 32)        128       \n",
      "_________________________________________________________________\n",
      "leaky_re_lu_3 (LeakyReLU)    (None, 21, 21, 32)        0         \n",
      "_________________________________________________________________\n",
      "conv2d_4 (Conv2D)            (None, 19, 19, 32)        9248      \n",
      "_________________________________________________________________\n",
      "batch_normalization_4 (Batch (None, 19, 19, 32)        128       \n",
      "_________________________________________________________________\n",
      "leaky_re_lu_4 (LeakyReLU)    (None, 19, 19, 32)        0         \n",
      "_________________________________________________________________\n",
      "max_pooling2d_2 (MaxPooling2 (None, 9, 9, 32)          0         \n",
      "_________________________________________________________________\n",
      "conv2d_5 (Conv2D)            (None, 7, 7, 64)          18496     \n",
      "_________________________________________________________________\n",
      "batch_normalization_5 (Batch (None, 7, 7, 64)          256       \n",
      "_________________________________________________________________\n",
      "leaky_re_lu_5 (LeakyReLU)    (None, 7, 7, 64)          0         \n",
      "_________________________________________________________________\n",
      "conv2d_6 (Conv2D)            (None, 5, 5, 64)          36928     \n",
      "_________________________________________________________________\n",
      "batch_normalization_6 (Batch (None, 5, 5, 64)          256       \n",
      "_________________________________________________________________\n",
      "leaky_re_lu_6 (LeakyReLU)    (None, 5, 5, 64)          0         \n",
      "_________________________________________________________________\n",
      "conv2d_7 (Conv2D)            (None, 3, 3, 64)          36928     \n",
      "_________________________________________________________________\n",
      "batch_normalization_7 (Batch (None, 3, 3, 64)          256       \n",
      "_________________________________________________________________\n",
      "leaky_re_lu_7 (LeakyReLU)    (None, 3, 3, 64)          0         \n",
      "_________________________________________________________________\n",
      "max_pooling2d_3 (MaxPooling2 (None, 1, 1, 64)          0         \n",
      "_________________________________________________________________\n",
      "flatten_1 (Flatten)          (None, 64)                0         \n",
      "_________________________________________________________________\n",
      "dropout_1 (Dropout)          (None, 64)                0         \n",
      "_________________________________________________________________\n",
      "dense_1 (Dense)              (None, 128)               8320      \n",
      "_________________________________________________________________\n",
      "batch_normalization_8 (Batch (None, 128)               512       \n",
      "_________________________________________________________________\n",
      "activation_1 (Activation)    (None, 128)               0         \n",
      "_________________________________________________________________\n",
      "dropout_2 (Dropout)          (None, 128)               0         \n",
      "_________________________________________________________________\n",
      "dense_2 (Dense)              (None, 12)                1548      \n",
      "_________________________________________________________________\n",
      "batch_normalization_9 (Batch (None, 12)                48        \n",
      "_________________________________________________________________\n",
      "activation_2 (Activation)    (None, 12)                0         \n",
      "=================================================================\n",
      "Total params: 120,588\n",
      "Trainable params: 119,732\n",
      "Non-trainable params: 856\n",
      "_________________________________________________________________\n"
     ]
    },
    {
     "name": "stderr",
     "output_type": "stream",
     "text": [
      "C:\\ProgramData\\Anaconda3\\lib\\site-packages\\sklearn\\model_selection\\_split.py:2026: FutureWarning: From version 0.21, test_size will always complement train_size unless both are specified.\n",
      "  FutureWarning)\n"
     ]
    },
    {
     "name": "stdout",
     "output_type": "stream",
     "text": [
      "Epoch 1/10\n"
     ]
    },
    {
     "name": "stdout",
     "output_type": "stream",
     "text": [
      "206/237 [=========================>....] - ETA: 21:28 - loss: 3.0258 - acc: 0.0000e+ - ETA: 12:07 - loss: 2.8841 - acc: 0.0312   - ETA: 8:59 - loss: 2.7663 - acc: 0.1042 - ETA: 7:25 - loss: 2.7226 - acc: 0.109 - ETA: 6:28 - loss: 2.7058 - acc: 0.112 - ETA: 5:50 - loss: 2.7540 - acc: 0.104 - ETA: 5:23 - loss: 2.7088 - acc: 0.116 - ETA: 5:02 - loss: 2.7494 - acc: 0.117 - ETA: 4:46 - loss: 2.6952 - acc: 0.131 - ETA: 4:32 - loss: 2.6778 - acc: 0.143 - ETA: 4:21 - loss: 2.6897 - acc: 0.153 - ETA: 4:12 - loss: 2.6722 - acc: 0.161 - ETA: 4:05 - loss: 2.7063 - acc: 0.149 - ETA: 3:58 - loss: 2.6849 - acc: 0.147 - ETA: 3:52 - loss: 2.6599 - acc: 0.158 - ETA: 3:46 - loss: 2.6659 - acc: 0.152 - ETA: 3:41 - loss: 2.6492 - acc: 0.158 - ETA: 3:37 - loss: 2.6623 - acc: 0.159 - ETA: 3:33 - loss: 2.6540 - acc: 0.151 - ETA: 3:30 - loss: 2.6299 - acc: 0.156 - ETA: 3:26 - loss: 2.6136 - acc: 0.160 - ETA: 3:23 - loss: 2.6004 - acc: 0.167 - ETA: 3:20 - loss: 2.5990 - acc: 0.171 - ETA: 3:18 - loss: 2.5908 - acc: 0.169 - ETA: 3:15 - loss: 2.5715 - acc: 0.172 - ETA: 3:12 - loss: 2.5612 - acc: 0.170 - ETA: 3:10 - loss: 2.5516 - acc: 0.178 - ETA: 3:08 - loss: 2.5457 - acc: 0.176 - ETA: 3:06 - loss: 2.5388 - acc: 0.178 - ETA: 3:04 - loss: 2.5466 - acc: 0.172 - ETA: 3:02 - loss: 2.5383 - acc: 0.175 - ETA: 3:00 - loss: 2.5274 - acc: 0.171 - ETA: 2:58 - loss: 2.5089 - acc: 0.179 - ETA: 2:56 - loss: 2.5029 - acc: 0.180 - ETA: 2:55 - loss: 2.4979 - acc: 0.182 - ETA: 2:53 - loss: 2.4773 - acc: 0.189 - ETA: 2:51 - loss: 2.4708 - acc: 0.192 - ETA: 2:50 - loss: 2.4584 - acc: 0.195 - ETA: 2:48 - loss: 2.4589 - acc: 0.192 - ETA: 2:47 - loss: 2.4560 - acc: 0.195 - ETA: 2:46 - loss: 2.4456 - acc: 0.195 - ETA: 2:44 - loss: 2.4336 - acc: 0.196 - ETA: 2:43 - loss: 2.4282 - acc: 0.199 - ETA: 2:42 - loss: 2.4168 - acc: 0.204 - ETA: 2:40 - loss: 2.4054 - acc: 0.211 - ETA: 2:39 - loss: 2.4035 - acc: 0.213 - ETA: 2:38 - loss: 2.3972 - acc: 0.214 - ETA: 2:37 - loss: 2.3856 - acc: 0.218 - ETA: 2:35 - loss: 2.3805 - acc: 0.220 - ETA: 2:34 - loss: 2.3732 - acc: 0.223 - ETA: 2:33 - loss: 2.3676 - acc: 0.224 - ETA: 2:32 - loss: 2.3645 - acc: 0.226 - ETA: 2:31 - loss: 2.3614 - acc: 0.224 - ETA: 2:30 - loss: 2.3576 - acc: 0.224 - ETA: 2:28 - loss: 2.3588 - acc: 0.222 - ETA: 2:27 - loss: 2.3519 - acc: 0.225 - ETA: 2:27 - loss: 2.3485 - acc: 0.227 - ETA: 2:26 - loss: 2.3422 - acc: 0.229 - ETA: 2:25 - loss: 2.3396 - acc: 0.227 - ETA: 2:24 - loss: 2.3342 - acc: 0.229 - ETA: 2:23 - loss: 2.3304 - acc: 0.229 - ETA: 2:22 - loss: 2.3264 - acc: 0.228 - ETA: 2:21 - loss: 2.3203 - acc: 0.232 - ETA: 2:20 - loss: 2.3116 - acc: 0.236 - ETA: 2:19 - loss: 2.3120 - acc: 0.235 - ETA: 2:18 - loss: 2.3057 - acc: 0.239 - ETA: 2:17 - loss: 2.3036 - acc: 0.240 - ETA: 2:16 - loss: 2.3010 - acc: 0.240 - ETA: 2:15 - loss: 2.3010 - acc: 0.239 - ETA: 2:14 - loss: 2.2963 - acc: 0.242 - ETA: 2:13 - loss: 2.2946 - acc: 0.244 - ETA: 2:12 - loss: 2.2950 - acc: 0.243 - ETA: 2:11 - loss: 2.2882 - acc: 0.247 - ETA: 2:10 - loss: 2.2834 - acc: 0.247 - ETA: 2:09 - loss: 2.2785 - acc: 0.249 - ETA: 2:08 - loss: 2.2783 - acc: 0.249 - ETA: 2:07 - loss: 2.2728 - acc: 0.252 - ETA: 2:06 - loss: 2.2644 - acc: 0.256 - ETA: 2:05 - loss: 2.2580 - acc: 0.258 - ETA: 2:04 - loss: 2.2539 - acc: 0.260 - ETA: 2:03 - loss: 2.2508 - acc: 0.261 - ETA: 2:03 - loss: 2.2438 - acc: 0.263 - ETA: 2:02 - loss: 2.2405 - acc: 0.264 - ETA: 2:01 - loss: 2.2363 - acc: 0.264 - ETA: 2:00 - loss: 2.2324 - acc: 0.266 - ETA: 1:59 - loss: 2.2290 - acc: 0.267 - ETA: 1:59 - loss: 2.2244 - acc: 0.268 - ETA: 1:58 - loss: 2.2208 - acc: 0.269 - ETA: 1:57 - loss: 2.2185 - acc: 0.269 - ETA: 1:56 - loss: 2.2166 - acc: 0.271 - ETA: 1:55 - loss: 2.2136 - acc: 0.273 - ETA: 1:54 - loss: 2.2089 - acc: 0.275 - ETA: 1:53 - loss: 2.2035 - acc: 0.278 - ETA: 1:53 - loss: 2.1997 - acc: 0.281 - ETA: 1:52 - loss: 2.1957 - acc: 0.282 - ETA: 1:51 - loss: 2.1917 - acc: 0.283 - ETA: 1:50 - loss: 2.1877 - acc: 0.286 - ETA: 1:49 - loss: 2.1830 - acc: 0.286 - ETA: 1:48 - loss: 2.1808 - acc: 0.288 - ETA: 1:47 - loss: 2.1818 - acc: 0.287 - ETA: 1:47 - loss: 2.1751 - acc: 0.290 - ETA: 1:46 - loss: 2.1744 - acc: 0.290 - ETA: 1:45 - loss: 2.1703 - acc: 0.291 - ETA: 1:44 - loss: 2.1679 - acc: 0.292 - ETA: 1:43 - loss: 2.1630 - acc: 0.294 - ETA: 1:42 - loss: 2.1655 - acc: 0.293 - ETA: 1:42 - loss: 2.1608 - acc: 0.295 - ETA: 1:41 - loss: 2.1563 - acc: 0.296 - ETA: 1:40 - loss: 2.1509 - acc: 0.298 - ETA: 1:39 - loss: 2.1487 - acc: 0.297 - ETA: 1:38 - loss: 2.1463 - acc: 0.296 - ETA: 1:37 - loss: 2.1432 - acc: 0.298 - ETA: 1:37 - loss: 2.1411 - acc: 0.299 - ETA: 1:36 - loss: 2.1384 - acc: 0.299 - ETA: 1:35 - loss: 2.1357 - acc: 0.301 - ETA: 1:34 - loss: 2.1347 - acc: 0.301 - ETA: 1:33 - loss: 2.1312 - acc: 0.302 - ETA: 1:33 - loss: 2.1281 - acc: 0.303 - ETA: 1:32 - loss: 2.1272 - acc: 0.303 - ETA: 1:31 - loss: 2.1250 - acc: 0.304 - ETA: 1:30 - loss: 2.1223 - acc: 0.305 - ETA: 1:29 - loss: 2.1194 - acc: 0.306 - ETA: 1:29 - loss: 2.1184 - acc: 0.307 - ETA: 1:28 - loss: 2.1190 - acc: 0.307 - ETA: 1:27 - loss: 2.1140 - acc: 0.309 - ETA: 1:26 - loss: 2.1113 - acc: 0.309 - ETA: 1:25 - loss: 2.1072 - acc: 0.311 - ETA: 1:25 - loss: 2.1036 - acc: 0.314 - ETA: 1:24 - loss: 2.1025 - acc: 0.314 - ETA: 1:23 - loss: 2.1006 - acc: 0.314 - ETA: 1:22 - loss: 2.0983 - acc: 0.315 - ETA: 1:21 - loss: 2.0978 - acc: 0.315 - ETA: 1:21 - loss: 2.0940 - acc: 0.317 - ETA: 1:20 - loss: 2.0912 - acc: 0.318 - ETA: 1:19 - loss: 2.0897 - acc: 0.318 - ETA: 1:18 - loss: 2.0874 - acc: 0.318 - ETA: 1:17 - loss: 2.0829 - acc: 0.320 - ETA: 1:17 - loss: 2.0809 - acc: 0.320 - ETA: 1:16 - loss: 2.0794 - acc: 0.320 - ETA: 1:15 - loss: 2.0754 - acc: 0.323 - ETA: 1:14 - loss: 2.0751 - acc: 0.324 - ETA: 1:13 - loss: 2.0718 - acc: 0.324 - ETA: 1:13 - loss: 2.0704 - acc: 0.324 - ETA: 1:12 - loss: 2.0680 - acc: 0.324 - ETA: 1:11 - loss: 2.0653 - acc: 0.326 - ETA: 1:11 - loss: 2.0634 - acc: 0.325 - ETA: 1:10 - loss: 2.0612 - acc: 0.326 - ETA: 1:09 - loss: 2.0615 - acc: 0.326 - ETA: 1:08 - loss: 2.0585 - acc: 0.326 - ETA: 1:07 - loss: 2.0573 - acc: 0.326 - ETA: 1:07 - loss: 2.0589 - acc: 0.326 - ETA: 1:06 - loss: 2.0561 - acc: 0.327 - ETA: 1:05 - loss: 2.0553 - acc: 0.327 - ETA: 1:04 - loss: 2.0536 - acc: 0.327 - ETA: 1:03 - loss: 2.0511 - acc: 0.329 - ETA: 1:03 - loss: 2.0473 - acc: 0.330 - ETA: 1:02 - loss: 2.0442 - acc: 0.332 - ETA: 1:01 - loss: 2.0427 - acc: 0.333 - ETA: 1:00 - loss: 2.0416 - acc: 0.333 - ETA: 1:00 - loss: 2.0399 - acc: 0.334 - ETA: 59s - loss: 2.0398 - acc: 0.334 - ETA: 58s - loss: 2.0415 - acc: 0.33 - ETA: 57s - loss: 2.0405 - acc: 0.33 - ETA: 56s - loss: 2.0384 - acc: 0.33 - ETA: 56s - loss: 2.0385 - acc: 0.33 - ETA: 55s - loss: 2.0386 - acc: 0.33 - ETA: 54s - loss: 2.0363 - acc: 0.33 - ETA: 53s - loss: 2.0337 - acc: 0.33 - ETA: 53s - loss: 2.0324 - acc: 0.33 - ETA: 52s - loss: 2.0310 - acc: 0.33 - ETA: 51s - loss: 2.0298 - acc: 0.33 - ETA: 50s - loss: 2.0287 - acc: 0.33 - ETA: 49s - loss: 2.0261 - acc: 0.33 - ETA: 49s - loss: 2.0218 - acc: 0.33 - ETA: 48s - loss: 2.0218 - acc: 0.33 - ETA: 47s - loss: 2.0210 - acc: 0.33 - ETA: 46s - loss: 2.0203 - acc: 0.33 - ETA: 45s - loss: 2.0188 - acc: 0.34 - ETA: 45s - loss: 2.0160 - acc: 0.34 - ETA: 44s - loss: 2.0147 - acc: 0.34 - ETA: 43s - loss: 2.0133 - acc: 0.34 - ETA: 42s - loss: 2.0130 - acc: 0.34 - ETA: 41s - loss: 2.0113 - acc: 0.34 - ETA: 41s - loss: 2.0093 - acc: 0.34 - ETA: 40s - loss: 2.0074 - acc: 0.34 - ETA: 39s - loss: 2.0042 - acc: 0.34 - ETA: 38s - loss: 2.0020 - acc: 0.34 - ETA: 38s - loss: 2.0014 - acc: 0.34 - ETA: 37s - loss: 1.9990 - acc: 0.34 - ETA: 36s - loss: 1.9973 - acc: 0.34 - ETA: 35s - loss: 1.9942 - acc: 0.34 - ETA: 35s - loss: 1.9911 - acc: 0.35 - ETA: 34s - loss: 1.9896 - acc: 0.35 - ETA: 33s - loss: 1.9885 - acc: 0.35 - ETA: 32s - loss: 1.9881 - acc: 0.35 - ETA: 31s - loss: 1.9845 - acc: 0.35 - ETA: 31s - loss: 1.9828 - acc: 0.35 - ETA: 30s - loss: 1.9829 - acc: 0.35 - ETA: 29s - loss: 1.9810 - acc: 0.35 - ETA: 28s - loss: 1.9794 - acc: 0.35 - ETA: 28s - loss: 1.9770 - acc: 0.35 - ETA: 27s - loss: 1.9775 - acc: 0.35 - ETA: 26s - loss: 1.9773 - acc: 0.35 - ETA: 25s - loss: 1.9756 - acc: 0.35 - ETA: 24s - loss: 1.9738 - acc: 0.35 - ETA: 24s - loss: 1.9718 - acc: 0.3568\b\b\b\b\b\b\b\b\b\b\b\b\b\b\b\b\b\b\b\b\b\b\b\b\b\b\b\b\b\b\b\b\b\b\b\b\b\b\b\b\b\b\b\b\b\b\b\b\b\b\b\b\b\b\b\b\b\b\b\b\b\b\b\b\b\b\b\b\b\b\b\b\b\b\b\b\b\b\b\b"
     ]
    },
    {
     "name": "stdout",
     "output_type": "stream",
     "text": [
      "238/237 [==============================] - ETA: 23s - loss: 1.9703 - acc: 0.35 - ETA: 22s - loss: 1.9705 - acc: 0.35 - ETA: 21s - loss: 1.9693 - acc: 0.35 - ETA: 21s - loss: 1.9670 - acc: 0.35 - ETA: 20s - loss: 1.9652 - acc: 0.36 - ETA: 19s - loss: 1.9652 - acc: 0.36 - ETA: 18s - loss: 1.9635 - acc: 0.36 - ETA: 18s - loss: 1.9641 - acc: 0.36 - ETA: 17s - loss: 1.9632 - acc: 0.36 - ETA: 16s - loss: 1.9619 - acc: 0.36 - ETA: 15s - loss: 1.9607 - acc: 0.36 - ETA: 14s - loss: 1.9591 - acc: 0.36 - ETA: 14s - loss: 1.9568 - acc: 0.36 - ETA: 13s - loss: 1.9537 - acc: 0.36 - ETA: 12s - loss: 1.9520 - acc: 0.36 - ETA: 11s - loss: 1.9513 - acc: 0.36 - ETA: 11s - loss: 1.9502 - acc: 0.36 - ETA: 10s - loss: 1.9485 - acc: 0.36 - ETA: 9s - loss: 1.9476 - acc: 0.3664 - ETA: 8s - loss: 1.9461 - acc: 0.366 - ETA: 8s - loss: 1.9452 - acc: 0.367 - ETA: 7s - loss: 1.9431 - acc: 0.368 - ETA: 6s - loss: 1.9434 - acc: 0.368 - ETA: 5s - loss: 1.9430 - acc: 0.368 - ETA: 4s - loss: 1.9410 - acc: 0.369 - ETA: 4s - loss: 1.9406 - acc: 0.369 - ETA: 3s - loss: 1.9405 - acc: 0.369 - ETA: 2s - loss: 1.9401 - acc: 0.369 - ETA: 1s - loss: 1.9389 - acc: 0.370 - ETA: 1s - loss: 1.9380 - acc: 0.370 - ETA: 0s - loss: 1.9367 - acc: 0.370 - 204s 858ms/step - loss: 1.9356 - acc: 0.3713 - val_loss: 2.4822 - val_acc: 0.2000\n",
      "Epoch 2/10\n"
     ]
    },
    {
     "name": "stdout",
     "output_type": "stream",
     "text": [
      "207/237 [=========================>....] - ETA: 3:02 - loss: 1.8780 - acc: 0.375 - ETA: 3:02 - loss: 1.7293 - acc: 0.406 - ETA: 2:58 - loss: 1.6974 - acc: 0.416 - ETA: 2:56 - loss: 1.6573 - acc: 0.421 - ETA: 2:54 - loss: 1.6667 - acc: 0.450 - ETA: 2:52 - loss: 1.6860 - acc: 0.427 - ETA: 2:51 - loss: 1.7014 - acc: 0.428 - ETA: 2:50 - loss: 1.7165 - acc: 0.421 - ETA: 2:49 - loss: 1.6700 - acc: 0.451 - ETA: 2:48 - loss: 1.6752 - acc: 0.437 - ETA: 2:47 - loss: 1.6704 - acc: 0.437 - ETA: 2:46 - loss: 1.6641 - acc: 0.458 - ETA: 2:45 - loss: 1.6412 - acc: 0.461 - ETA: 2:44 - loss: 1.6299 - acc: 0.468 - ETA: 2:43 - loss: 1.6556 - acc: 0.458 - ETA: 2:43 - loss: 1.6407 - acc: 0.472 - ETA: 2:42 - loss: 1.6351 - acc: 0.474 - ETA: 2:42 - loss: 1.6642 - acc: 0.472 - ETA: 2:41 - loss: 1.6667 - acc: 0.470 - ETA: 2:41 - loss: 1.6610 - acc: 0.468 - ETA: 2:40 - loss: 1.6613 - acc: 0.467 - ETA: 2:39 - loss: 1.6699 - acc: 0.460 - ETA: 2:38 - loss: 1.6554 - acc: 0.467 - ETA: 2:38 - loss: 1.6357 - acc: 0.476 - ETA: 2:37 - loss: 1.6226 - acc: 0.480 - ETA: 2:36 - loss: 1.6199 - acc: 0.476 - ETA: 2:35 - loss: 1.6316 - acc: 0.474 - ETA: 2:35 - loss: 1.6407 - acc: 0.468 - ETA: 2:34 - loss: 1.6328 - acc: 0.469 - ETA: 2:33 - loss: 1.6347 - acc: 0.466 - ETA: 2:33 - loss: 1.6314 - acc: 0.467 - ETA: 2:32 - loss: 1.6378 - acc: 0.466 - ETA: 2:31 - loss: 1.6351 - acc: 0.467 - ETA: 2:31 - loss: 1.6421 - acc: 0.466 - ETA: 2:30 - loss: 1.6283 - acc: 0.475 - ETA: 2:29 - loss: 1.6406 - acc: 0.468 - ETA: 2:28 - loss: 1.6433 - acc: 0.464 - ETA: 2:28 - loss: 1.6492 - acc: 0.465 - ETA: 2:27 - loss: 1.6534 - acc: 0.466 - ETA: 2:26 - loss: 1.6574 - acc: 0.465 - ETA: 2:25 - loss: 1.6579 - acc: 0.464 - ETA: 2:25 - loss: 1.6687 - acc: 0.456 - ETA: 2:24 - loss: 1.6624 - acc: 0.459 - ETA: 2:23 - loss: 1.6639 - acc: 0.457 - ETA: 2:22 - loss: 1.6658 - acc: 0.455 - ETA: 2:22 - loss: 1.6606 - acc: 0.457 - ETA: 2:21 - loss: 1.6621 - acc: 0.456 - ETA: 2:20 - loss: 1.6604 - acc: 0.458 - ETA: 2:19 - loss: 1.6587 - acc: 0.460 - ETA: 2:18 - loss: 1.6605 - acc: 0.458 - ETA: 2:18 - loss: 1.6617 - acc: 0.455 - ETA: 2:17 - loss: 1.6651 - acc: 0.453 - ETA: 2:16 - loss: 1.6606 - acc: 0.455 - ETA: 2:15 - loss: 1.6529 - acc: 0.459 - ETA: 2:15 - loss: 1.6459 - acc: 0.462 - ETA: 2:14 - loss: 1.6448 - acc: 0.463 - ETA: 2:13 - loss: 1.6417 - acc: 0.463 - ETA: 2:12 - loss: 1.6408 - acc: 0.463 - ETA: 2:12 - loss: 1.6341 - acc: 0.465 - ETA: 2:11 - loss: 1.6318 - acc: 0.467 - ETA: 2:10 - loss: 1.6317 - acc: 0.467 - ETA: 2:09 - loss: 1.6352 - acc: 0.464 - ETA: 2:09 - loss: 1.6340 - acc: 0.465 - ETA: 2:08 - loss: 1.6318 - acc: 0.466 - ETA: 2:07 - loss: 1.6339 - acc: 0.468 - ETA: 2:07 - loss: 1.6310 - acc: 0.468 - ETA: 2:06 - loss: 1.6312 - acc: 0.466 - ETA: 2:05 - loss: 1.6323 - acc: 0.465 - ETA: 2:04 - loss: 1.6310 - acc: 0.466 - ETA: 2:04 - loss: 1.6324 - acc: 0.465 - ETA: 2:03 - loss: 1.6306 - acc: 0.464 - ETA: 2:02 - loss: 1.6288 - acc: 0.466 - ETA: 2:02 - loss: 1.6266 - acc: 0.467 - ETA: 2:01 - loss: 1.6335 - acc: 0.465 - ETA: 2:00 - loss: 1.6354 - acc: 0.464 - ETA: 1:59 - loss: 1.6352 - acc: 0.463 - ETA: 1:59 - loss: 1.6345 - acc: 0.461 - ETA: 1:58 - loss: 1.6328 - acc: 0.462 - ETA: 1:57 - loss: 1.6329 - acc: 0.463 - ETA: 1:56 - loss: 1.6303 - acc: 0.464 - ETA: 1:56 - loss: 1.6268 - acc: 0.466 - ETA: 1:55 - loss: 1.6261 - acc: 0.464 - ETA: 1:54 - loss: 1.6234 - acc: 0.466 - ETA: 1:53 - loss: 1.6250 - acc: 0.465 - ETA: 1:53 - loss: 1.6238 - acc: 0.465 - ETA: 1:52 - loss: 1.6204 - acc: 0.468 - ETA: 1:51 - loss: 1.6169 - acc: 0.469 - ETA: 1:50 - loss: 1.6148 - acc: 0.469 - ETA: 1:50 - loss: 1.6125 - acc: 0.471 - ETA: 1:49 - loss: 1.6160 - acc: 0.468 - ETA: 1:48 - loss: 1.6229 - acc: 0.467 - ETA: 1:47 - loss: 1.6245 - acc: 0.468 - ETA: 1:47 - loss: 1.6241 - acc: 0.467 - ETA: 1:46 - loss: 1.6216 - acc: 0.468 - ETA: 1:45 - loss: 1.6257 - acc: 0.465 - ETA: 1:44 - loss: 1.6250 - acc: 0.466 - ETA: 1:44 - loss: 1.6265 - acc: 0.465 - ETA: 1:43 - loss: 1.6275 - acc: 0.466 - ETA: 1:42 - loss: 1.6261 - acc: 0.465 - ETA: 1:41 - loss: 1.6238 - acc: 0.468 - ETA: 1:41 - loss: 1.6213 - acc: 0.470 - ETA: 1:40 - loss: 1.6175 - acc: 0.472 - ETA: 1:39 - loss: 1.6184 - acc: 0.471 - ETA: 1:39 - loss: 1.6165 - acc: 0.471 - ETA: 1:38 - loss: 1.6146 - acc: 0.474 - ETA: 1:37 - loss: 1.6103 - acc: 0.476 - ETA: 1:36 - loss: 1.6124 - acc: 0.476 - ETA: 1:36 - loss: 1.6093 - acc: 0.477 - ETA: 1:35 - loss: 1.6079 - acc: 0.477 - ETA: 1:34 - loss: 1.6072 - acc: 0.477 - ETA: 1:34 - loss: 1.6069 - acc: 0.477 - ETA: 1:33 - loss: 1.6045 - acc: 0.478 - ETA: 1:32 - loss: 1.6022 - acc: 0.479 - ETA: 1:31 - loss: 1.6011 - acc: 0.480 - ETA: 1:31 - loss: 1.5996 - acc: 0.480 - ETA: 1:30 - loss: 1.5998 - acc: 0.480 - ETA: 1:30 - loss: 1.6023 - acc: 0.479 - ETA: 1:29 - loss: 1.5998 - acc: 0.480 - ETA: 1:28 - loss: 1.6010 - acc: 0.479 - ETA: 1:28 - loss: 1.5962 - acc: 0.481 - ETA: 1:27 - loss: 1.5969 - acc: 0.480 - ETA: 1:26 - loss: 1.5944 - acc: 0.481 - ETA: 1:25 - loss: 1.5966 - acc: 0.480 - ETA: 1:25 - loss: 1.5976 - acc: 0.479 - ETA: 1:24 - loss: 1.5979 - acc: 0.481 - ETA: 1:23 - loss: 1.6004 - acc: 0.480 - ETA: 1:22 - loss: 1.5982 - acc: 0.481 - ETA: 1:22 - loss: 1.5983 - acc: 0.480 - ETA: 1:21 - loss: 1.5993 - acc: 0.480 - ETA: 1:20 - loss: 1.6002 - acc: 0.480 - ETA: 1:19 - loss: 1.5996 - acc: 0.480 - ETA: 1:19 - loss: 1.5995 - acc: 0.480 - ETA: 1:18 - loss: 1.6027 - acc: 0.479 - ETA: 1:17 - loss: 1.6000 - acc: 0.480 - ETA: 1:16 - loss: 1.5998 - acc: 0.480 - ETA: 1:16 - loss: 1.5963 - acc: 0.482 - ETA: 1:15 - loss: 1.5967 - acc: 0.482 - ETA: 1:14 - loss: 1.5928 - acc: 0.484 - ETA: 1:13 - loss: 1.5943 - acc: 0.484 - ETA: 1:13 - loss: 1.5960 - acc: 0.483 - ETA: 1:12 - loss: 1.5957 - acc: 0.484 - ETA: 1:11 - loss: 1.5947 - acc: 0.485 - ETA: 1:10 - loss: 1.5920 - acc: 0.486 - ETA: 1:10 - loss: 1.5937 - acc: 0.485 - ETA: 1:09 - loss: 1.5947 - acc: 0.485 - ETA: 1:08 - loss: 1.5974 - acc: 0.483 - ETA: 1:07 - loss: 1.5964 - acc: 0.485 - ETA: 1:07 - loss: 1.5957 - acc: 0.485 - ETA: 1:06 - loss: 1.5948 - acc: 0.486 - ETA: 1:05 - loss: 1.5955 - acc: 0.485 - ETA: 1:04 - loss: 1.5944 - acc: 0.485 - ETA: 1:04 - loss: 1.5934 - acc: 0.485 - ETA: 1:03 - loss: 1.5923 - acc: 0.486 - ETA: 1:02 - loss: 1.5921 - acc: 0.486 - ETA: 1:01 - loss: 1.5918 - acc: 0.486 - ETA: 1:01 - loss: 1.5909 - acc: 0.487 - ETA: 1:00 - loss: 1.5891 - acc: 0.488 - ETA: 59s - loss: 1.5888 - acc: 0.488 - ETA: 58s - loss: 1.5886 - acc: 0.48 - ETA: 58s - loss: 1.5880 - acc: 0.48 - ETA: 57s - loss: 1.5869 - acc: 0.49 - ETA: 56s - loss: 1.5862 - acc: 0.49 - ETA: 55s - loss: 1.5863 - acc: 0.49 - ETA: 55s - loss: 1.5880 - acc: 0.48 - ETA: 54s - loss: 1.5867 - acc: 0.48 - ETA: 53s - loss: 1.5847 - acc: 0.49 - ETA: 52s - loss: 1.5851 - acc: 0.49 - ETA: 52s - loss: 1.5856 - acc: 0.48 - ETA: 51s - loss: 1.5848 - acc: 0.48 - ETA: 50s - loss: 1.5843 - acc: 0.49 - ETA: 49s - loss: 1.5823 - acc: 0.49 - ETA: 49s - loss: 1.5827 - acc: 0.49 - ETA: 48s - loss: 1.5808 - acc: 0.49 - ETA: 47s - loss: 1.5810 - acc: 0.49 - ETA: 46s - loss: 1.5809 - acc: 0.49 - ETA: 46s - loss: 1.5797 - acc: 0.49 - ETA: 45s - loss: 1.5792 - acc: 0.49 - ETA: 44s - loss: 1.5773 - acc: 0.49 - ETA: 43s - loss: 1.5748 - acc: 0.49 - ETA: 43s - loss: 1.5770 - acc: 0.49 - ETA: 42s - loss: 1.5758 - acc: 0.49 - ETA: 41s - loss: 1.5771 - acc: 0.49 - ETA: 40s - loss: 1.5775 - acc: 0.49 - ETA: 40s - loss: 1.5759 - acc: 0.49 - ETA: 39s - loss: 1.5773 - acc: 0.49 - ETA: 38s - loss: 1.5772 - acc: 0.49 - ETA: 37s - loss: 1.5762 - acc: 0.49 - ETA: 37s - loss: 1.5760 - acc: 0.49 - ETA: 36s - loss: 1.5767 - acc: 0.49 - ETA: 35s - loss: 1.5772 - acc: 0.49 - ETA: 34s - loss: 1.5760 - acc: 0.49 - ETA: 34s - loss: 1.5764 - acc: 0.49 - ETA: 33s - loss: 1.5769 - acc: 0.49 - ETA: 32s - loss: 1.5760 - acc: 0.49 - ETA: 31s - loss: 1.5746 - acc: 0.49 - ETA: 30s - loss: 1.5730 - acc: 0.49 - ETA: 30s - loss: 1.5752 - acc: 0.49 - ETA: 29s - loss: 1.5760 - acc: 0.49 - ETA: 28s - loss: 1.5753 - acc: 0.49 - ETA: 27s - loss: 1.5736 - acc: 0.49 - ETA: 27s - loss: 1.5737 - acc: 0.49 - ETA: 26s - loss: 1.5763 - acc: 0.49 - ETA: 25s - loss: 1.5773 - acc: 0.49 - ETA: 25s - loss: 1.5769 - acc: 0.49 - ETA: 24s - loss: 1.5763 - acc: 0.49 - ETA: 23s - loss: 1.5764 - acc: 0.49 - ETA: 22s - loss: 1.5768 - acc: 0.4909"
     ]
    },
    {
     "name": "stdout",
     "output_type": "stream",
     "text": [
      "238/237 [==============================] - ETA: 22s - loss: 1.5767 - acc: 0.49 - ETA: 21s - loss: 1.5791 - acc: 0.49 - ETA: 20s - loss: 1.5782 - acc: 0.49 - ETA: 19s - loss: 1.5788 - acc: 0.49 - ETA: 19s - loss: 1.5775 - acc: 0.49 - ETA: 18s - loss: 1.5761 - acc: 0.49 - ETA: 17s - loss: 1.5784 - acc: 0.49 - ETA: 16s - loss: 1.5809 - acc: 0.48 - ETA: 16s - loss: 1.5802 - acc: 0.48 - ETA: 15s - loss: 1.5821 - acc: 0.48 - ETA: 14s - loss: 1.5830 - acc: 0.48 - ETA: 13s - loss: 1.5823 - acc: 0.48 - ETA: 13s - loss: 1.5816 - acc: 0.48 - ETA: 12s - loss: 1.5822 - acc: 0.48 - ETA: 11s - loss: 1.5820 - acc: 0.48 - ETA: 10s - loss: 1.5826 - acc: 0.48 - ETA: 10s - loss: 1.5826 - acc: 0.49 - ETA: 9s - loss: 1.5821 - acc: 0.4900 - ETA: 8s - loss: 1.5821 - acc: 0.490 - ETA: 7s - loss: 1.5834 - acc: 0.490 - ETA: 7s - loss: 1.5824 - acc: 0.490 - ETA: 6s - loss: 1.5834 - acc: 0.490 - ETA: 5s - loss: 1.5823 - acc: 0.490 - ETA: 4s - loss: 1.5818 - acc: 0.490 - ETA: 4s - loss: 1.5826 - acc: 0.490 - ETA: 3s - loss: 1.5839 - acc: 0.489 - ETA: 2s - loss: 1.5837 - acc: 0.489 - ETA: 1s - loss: 1.5842 - acc: 0.488 - ETA: 1s - loss: 1.5820 - acc: 0.489 - ETA: 0s - loss: 1.5813 - acc: 0.489 - 202s 850ms/step - loss: 1.5796 - acc: 0.4903 - val_loss: 1.9128 - val_acc: 0.3316\n",
      "Epoch 3/10\n"
     ]
    },
    {
     "name": "stdout",
     "output_type": "stream",
     "text": [
      "207/237 [=========================>....] - ETA: 2:46 - loss: 1.8881 - acc: 0.375 - ETA: 2:48 - loss: 1.8737 - acc: 0.375 - ETA: 2:51 - loss: 1.7790 - acc: 0.437 - ETA: 2:51 - loss: 1.6911 - acc: 0.421 - ETA: 2:50 - loss: 1.6352 - acc: 0.437 - ETA: 2:48 - loss: 1.6370 - acc: 0.447 - ETA: 2:50 - loss: 1.6385 - acc: 0.464 - ETA: 2:52 - loss: 1.5835 - acc: 0.468 - ETA: 2:52 - loss: 1.5591 - acc: 0.465 - ETA: 2:51 - loss: 1.5352 - acc: 0.487 - ETA: 2:50 - loss: 1.5701 - acc: 0.477 - ETA: 2:43 - loss: 1.5762 - acc: 0.468 - ETA: 2:44 - loss: 1.5598 - acc: 0.480 - ETA: 2:45 - loss: 1.5789 - acc: 0.468 - ETA: 2:45 - loss: 1.5599 - acc: 0.479 - ETA: 2:44 - loss: 1.5604 - acc: 0.480 - ETA: 2:43 - loss: 1.5481 - acc: 0.477 - ETA: 2:43 - loss: 1.5455 - acc: 0.479 - ETA: 2:43 - loss: 1.5538 - acc: 0.477 - ETA: 2:42 - loss: 1.5485 - acc: 0.481 - ETA: 2:41 - loss: 1.5259 - acc: 0.491 - ETA: 2:40 - loss: 1.5423 - acc: 0.485 - ETA: 2:39 - loss: 1.5587 - acc: 0.483 - ETA: 2:39 - loss: 1.5561 - acc: 0.487 - ETA: 2:38 - loss: 1.5504 - acc: 0.495 - ETA: 2:37 - loss: 1.5355 - acc: 0.500 - ETA: 2:37 - loss: 1.5318 - acc: 0.502 - ETA: 2:36 - loss: 1.5172 - acc: 0.511 - ETA: 2:35 - loss: 1.5059 - acc: 0.515 - ETA: 2:35 - loss: 1.5178 - acc: 0.506 - ETA: 2:34 - loss: 1.5245 - acc: 0.502 - ETA: 2:33 - loss: 1.5312 - acc: 0.494 - ETA: 2:32 - loss: 1.5346 - acc: 0.492 - ETA: 2:32 - loss: 1.5420 - acc: 0.489 - ETA: 2:31 - loss: 1.5387 - acc: 0.491 - ETA: 2:30 - loss: 1.5414 - acc: 0.489 - ETA: 2:30 - loss: 1.5464 - acc: 0.488 - ETA: 2:29 - loss: 1.5456 - acc: 0.490 - ETA: 2:28 - loss: 1.5348 - acc: 0.493 - ETA: 2:27 - loss: 1.5302 - acc: 0.496 - ETA: 2:26 - loss: 1.5322 - acc: 0.497 - ETA: 2:26 - loss: 1.5314 - acc: 0.497 - ETA: 2:25 - loss: 1.5210 - acc: 0.504 - ETA: 2:24 - loss: 1.5140 - acc: 0.508 - ETA: 2:23 - loss: 1.5170 - acc: 0.505 - ETA: 2:23 - loss: 1.5156 - acc: 0.505 - ETA: 2:22 - loss: 1.5101 - acc: 0.506 - ETA: 2:21 - loss: 1.5081 - acc: 0.506 - ETA: 2:20 - loss: 1.5051 - acc: 0.507 - ETA: 2:20 - loss: 1.4941 - acc: 0.511 - ETA: 2:19 - loss: 1.4937 - acc: 0.509 - ETA: 2:18 - loss: 1.4936 - acc: 0.509 - ETA: 2:17 - loss: 1.4931 - acc: 0.508 - ETA: 2:16 - loss: 1.4954 - acc: 0.508 - ETA: 2:16 - loss: 1.4943 - acc: 0.509 - ETA: 2:15 - loss: 1.4969 - acc: 0.511 - ETA: 2:14 - loss: 1.5015 - acc: 0.511 - ETA: 2:14 - loss: 1.5026 - acc: 0.509 - ETA: 2:13 - loss: 1.5017 - acc: 0.510 - ETA: 2:12 - loss: 1.4973 - acc: 0.512 - ETA: 2:11 - loss: 1.4915 - acc: 0.516 - ETA: 2:11 - loss: 1.4858 - acc: 0.517 - ETA: 2:10 - loss: 1.4843 - acc: 0.518 - ETA: 2:09 - loss: 1.4880 - acc: 0.515 - ETA: 2:08 - loss: 1.4817 - acc: 0.520 - ETA: 2:08 - loss: 1.4783 - acc: 0.521 - ETA: 2:07 - loss: 1.4846 - acc: 0.519 - ETA: 2:06 - loss: 1.4797 - acc: 0.523 - ETA: 2:05 - loss: 1.4872 - acc: 0.519 - ETA: 2:05 - loss: 1.4883 - acc: 0.519 - ETA: 2:04 - loss: 1.4932 - acc: 0.516 - ETA: 2:03 - loss: 1.4942 - acc: 0.517 - ETA: 2:02 - loss: 1.4935 - acc: 0.518 - ETA: 2:02 - loss: 1.4945 - acc: 0.516 - ETA: 2:01 - loss: 1.4912 - acc: 0.517 - ETA: 2:00 - loss: 1.4892 - acc: 0.518 - ETA: 1:59 - loss: 1.4905 - acc: 0.517 - ETA: 1:59 - loss: 1.4886 - acc: 0.520 - ETA: 1:58 - loss: 1.4908 - acc: 0.519 - ETA: 1:57 - loss: 1.4876 - acc: 0.521 - ETA: 1:56 - loss: 1.4917 - acc: 0.519 - ETA: 1:56 - loss: 1.4900 - acc: 0.518 - ETA: 1:55 - loss: 1.4879 - acc: 0.519 - ETA: 1:54 - loss: 1.4880 - acc: 0.517 - ETA: 1:53 - loss: 1.4880 - acc: 0.516 - ETA: 1:53 - loss: 1.4873 - acc: 0.516 - ETA: 1:52 - loss: 1.4848 - acc: 0.518 - ETA: 1:51 - loss: 1.4861 - acc: 0.518 - ETA: 1:50 - loss: 1.4880 - acc: 0.517 - ETA: 1:50 - loss: 1.4891 - acc: 0.518 - ETA: 1:49 - loss: 1.4897 - acc: 0.517 - ETA: 1:48 - loss: 1.4887 - acc: 0.519 - ETA: 1:48 - loss: 1.4876 - acc: 0.518 - ETA: 1:47 - loss: 1.4898 - acc: 0.518 - ETA: 1:46 - loss: 1.4927 - acc: 0.515 - ETA: 1:45 - loss: 1.4939 - acc: 0.515 - ETA: 1:45 - loss: 1.4944 - acc: 0.514 - ETA: 1:44 - loss: 1.4934 - acc: 0.514 - ETA: 1:43 - loss: 1.4937 - acc: 0.514 - ETA: 1:43 - loss: 1.4936 - acc: 0.514 - ETA: 1:42 - loss: 1.4934 - acc: 0.514 - ETA: 1:41 - loss: 1.4895 - acc: 0.516 - ETA: 1:40 - loss: 1.4884 - acc: 0.515 - ETA: 1:40 - loss: 1.4848 - acc: 0.517 - ETA: 1:39 - loss: 1.4802 - acc: 0.519 - ETA: 1:38 - loss: 1.4784 - acc: 0.520 - ETA: 1:37 - loss: 1.4762 - acc: 0.522 - ETA: 1:37 - loss: 1.4753 - acc: 0.523 - ETA: 1:36 - loss: 1.4743 - acc: 0.523 - ETA: 1:35 - loss: 1.4706 - acc: 0.525 - ETA: 1:34 - loss: 1.4727 - acc: 0.524 - ETA: 1:34 - loss: 1.4695 - acc: 0.525 - ETA: 1:33 - loss: 1.4648 - acc: 0.528 - ETA: 1:32 - loss: 1.4654 - acc: 0.529 - ETA: 1:31 - loss: 1.4613 - acc: 0.531 - ETA: 1:31 - loss: 1.4606 - acc: 0.530 - ETA: 1:30 - loss: 1.4626 - acc: 0.528 - ETA: 1:29 - loss: 1.4630 - acc: 0.528 - ETA: 1:28 - loss: 1.4641 - acc: 0.529 - ETA: 1:27 - loss: 1.4656 - acc: 0.528 - ETA: 1:27 - loss: 1.4655 - acc: 0.530 - ETA: 1:26 - loss: 1.4663 - acc: 0.529 - ETA: 1:25 - loss: 1.4657 - acc: 0.529 - ETA: 1:25 - loss: 1.4676 - acc: 0.528 - ETA: 1:24 - loss: 1.4667 - acc: 0.530 - ETA: 1:23 - loss: 1.4650 - acc: 0.530 - ETA: 1:22 - loss: 1.4646 - acc: 0.531 - ETA: 1:21 - loss: 1.4645 - acc: 0.530 - ETA: 1:21 - loss: 1.4628 - acc: 0.531 - ETA: 1:20 - loss: 1.4625 - acc: 0.531 - ETA: 1:19 - loss: 1.4632 - acc: 0.531 - ETA: 1:18 - loss: 1.4643 - acc: 0.530 - ETA: 1:18 - loss: 1.4628 - acc: 0.532 - ETA: 1:17 - loss: 1.4600 - acc: 0.531 - ETA: 1:16 - loss: 1.4617 - acc: 0.530 - ETA: 1:15 - loss: 1.4609 - acc: 0.530 - ETA: 1:15 - loss: 1.4600 - acc: 0.530 - ETA: 1:14 - loss: 1.4576 - acc: 0.530 - ETA: 1:13 - loss: 1.4554 - acc: 0.531 - ETA: 1:13 - loss: 1.4511 - acc: 0.533 - ETA: 1:12 - loss: 1.4494 - acc: 0.533 - ETA: 1:11 - loss: 1.4472 - acc: 0.534 - ETA: 1:10 - loss: 1.4474 - acc: 0.534 - ETA: 1:10 - loss: 1.4479 - acc: 0.534 - ETA: 1:09 - loss: 1.4486 - acc: 0.534 - ETA: 1:08 - loss: 1.4495 - acc: 0.533 - ETA: 1:07 - loss: 1.4482 - acc: 0.534 - ETA: 1:07 - loss: 1.4517 - acc: 0.533 - ETA: 1:06 - loss: 1.4505 - acc: 0.535 - ETA: 1:05 - loss: 1.4522 - acc: 0.534 - ETA: 1:05 - loss: 1.4535 - acc: 0.533 - ETA: 1:04 - loss: 1.4545 - acc: 0.533 - ETA: 1:03 - loss: 1.4529 - acc: 0.533 - ETA: 1:02 - loss: 1.4506 - acc: 0.534 - ETA: 1:02 - loss: 1.4530 - acc: 0.534 - ETA: 1:01 - loss: 1.4545 - acc: 0.534 - ETA: 1:00 - loss: 1.4538 - acc: 0.534 - ETA: 59s - loss: 1.4514 - acc: 0.534 - ETA: 59s - loss: 1.4525 - acc: 0.53 - ETA: 58s - loss: 1.4518 - acc: 0.53 - ETA: 57s - loss: 1.4483 - acc: 0.53 - ETA: 56s - loss: 1.4512 - acc: 0.53 - ETA: 56s - loss: 1.4494 - acc: 0.53 - ETA: 55s - loss: 1.4468 - acc: 0.53 - ETA: 54s - loss: 1.4452 - acc: 0.53 - ETA: 53s - loss: 1.4468 - acc: 0.53 - ETA: 53s - loss: 1.4447 - acc: 0.53 - ETA: 52s - loss: 1.4459 - acc: 0.53 - ETA: 51s - loss: 1.4452 - acc: 0.53 - ETA: 50s - loss: 1.4450 - acc: 0.53 - ETA: 50s - loss: 1.4432 - acc: 0.53 - ETA: 49s - loss: 1.4416 - acc: 0.54 - ETA: 48s - loss: 1.4422 - acc: 0.54 - ETA: 47s - loss: 1.4421 - acc: 0.54 - ETA: 47s - loss: 1.4417 - acc: 0.53 - ETA: 46s - loss: 1.4402 - acc: 0.53 - ETA: 45s - loss: 1.4384 - acc: 0.54 - ETA: 44s - loss: 1.4399 - acc: 0.53 - ETA: 43s - loss: 1.4405 - acc: 0.53 - ETA: 43s - loss: 1.4401 - acc: 0.54 - ETA: 42s - loss: 1.4391 - acc: 0.54 - ETA: 41s - loss: 1.4395 - acc: 0.54 - ETA: 40s - loss: 1.4389 - acc: 0.54 - ETA: 40s - loss: 1.4393 - acc: 0.54 - ETA: 39s - loss: 1.4420 - acc: 0.54 - ETA: 38s - loss: 1.4436 - acc: 0.54 - ETA: 37s - loss: 1.4439 - acc: 0.54 - ETA: 37s - loss: 1.4427 - acc: 0.54 - ETA: 36s - loss: 1.4412 - acc: 0.54 - ETA: 35s - loss: 1.4416 - acc: 0.54 - ETA: 34s - loss: 1.4415 - acc: 0.54 - ETA: 34s - loss: 1.4421 - acc: 0.54 - ETA: 33s - loss: 1.4400 - acc: 0.54 - ETA: 32s - loss: 1.4390 - acc: 0.54 - ETA: 31s - loss: 1.4372 - acc: 0.54 - ETA: 31s - loss: 1.4374 - acc: 0.54 - ETA: 30s - loss: 1.4360 - acc: 0.54 - ETA: 29s - loss: 1.4354 - acc: 0.54 - ETA: 28s - loss: 1.4363 - acc: 0.54 - ETA: 28s - loss: 1.4346 - acc: 0.54 - ETA: 27s - loss: 1.4349 - acc: 0.54 - ETA: 26s - loss: 1.4351 - acc: 0.54 - ETA: 25s - loss: 1.4357 - acc: 0.54 - ETA: 25s - loss: 1.4343 - acc: 0.54 - ETA: 24s - loss: 1.4346 - acc: 0.54 - ETA: 23s - loss: 1.4329 - acc: 0.54 - ETA: 22s - loss: 1.4329 - acc: 0.5468"
     ]
    },
    {
     "name": "stdout",
     "output_type": "stream",
     "text": [
      "238/237 [==============================] - ETA: 22s - loss: 1.4327 - acc: 0.54 - ETA: 21s - loss: 1.4330 - acc: 0.54 - ETA: 20s - loss: 1.4330 - acc: 0.54 - ETA: 19s - loss: 1.4321 - acc: 0.54 - ETA: 19s - loss: 1.4340 - acc: 0.54 - ETA: 18s - loss: 1.4315 - acc: 0.54 - ETA: 17s - loss: 1.4316 - acc: 0.54 - ETA: 16s - loss: 1.4318 - acc: 0.54 - ETA: 16s - loss: 1.4304 - acc: 0.54 - ETA: 15s - loss: 1.4314 - acc: 0.54 - ETA: 14s - loss: 1.4321 - acc: 0.54 - ETA: 13s - loss: 1.4333 - acc: 0.54 - ETA: 13s - loss: 1.4326 - acc: 0.54 - ETA: 12s - loss: 1.4316 - acc: 0.54 - ETA: 11s - loss: 1.4313 - acc: 0.54 - ETA: 10s - loss: 1.4328 - acc: 0.54 - ETA: 10s - loss: 1.4332 - acc: 0.54 - ETA: 9s - loss: 1.4327 - acc: 0.5453 - ETA: 8s - loss: 1.4323 - acc: 0.545 - ETA: 7s - loss: 1.4325 - acc: 0.544 - ETA: 7s - loss: 1.4319 - acc: 0.545 - ETA: 6s - loss: 1.4317 - acc: 0.545 - ETA: 5s - loss: 1.4312 - acc: 0.545 - ETA: 4s - loss: 1.4307 - acc: 0.545 - ETA: 4s - loss: 1.4318 - acc: 0.544 - ETA: 3s - loss: 1.4329 - acc: 0.543 - ETA: 2s - loss: 1.4332 - acc: 0.543 - ETA: 1s - loss: 1.4338 - acc: 0.543 - ETA: 1s - loss: 1.4336 - acc: 0.543 - ETA: 0s - loss: 1.4341 - acc: 0.542 - 199s 838ms/step - loss: 1.4333 - acc: 0.5433 - val_loss: 2.1521 - val_acc: 0.3747\n",
      "Epoch 4/10\n"
     ]
    },
    {
     "name": "stdout",
     "output_type": "stream",
     "text": [
      "207/237 [=========================>....] - ETA: 2:48 - loss: 1.6431 - acc: 0.500 - ETA: 2:12 - loss: 1.6298 - acc: 0.500 - ETA: 2:25 - loss: 1.6055 - acc: 0.458 - ETA: 2:30 - loss: 1.5212 - acc: 0.484 - ETA: 2:33 - loss: 1.4925 - acc: 0.487 - ETA: 2:34 - loss: 1.4490 - acc: 0.510 - ETA: 2:35 - loss: 1.4397 - acc: 0.517 - ETA: 2:36 - loss: 1.4524 - acc: 0.515 - ETA: 2:36 - loss: 1.4312 - acc: 0.513 - ETA: 2:36 - loss: 1.4559 - acc: 0.531 - ETA: 2:36 - loss: 1.4916 - acc: 0.522 - ETA: 2:36 - loss: 1.4674 - acc: 0.536 - ETA: 2:36 - loss: 1.4859 - acc: 0.519 - ETA: 2:36 - loss: 1.4940 - acc: 0.508 - ETA: 2:36 - loss: 1.4697 - acc: 0.525 - ETA: 2:38 - loss: 1.4815 - acc: 0.511 - ETA: 2:38 - loss: 1.4605 - acc: 0.525 - ETA: 2:37 - loss: 1.4543 - acc: 0.524 - ETA: 2:37 - loss: 1.4459 - acc: 0.516 - ETA: 2:36 - loss: 1.4428 - acc: 0.521 - ETA: 2:36 - loss: 1.4470 - acc: 0.517 - ETA: 2:35 - loss: 1.4595 - acc: 0.517 - ETA: 2:35 - loss: 1.4577 - acc: 0.519 - ETA: 2:34 - loss: 1.4553 - acc: 0.518 - ETA: 2:33 - loss: 1.4611 - acc: 0.517 - ETA: 2:33 - loss: 1.4443 - acc: 0.524 - ETA: 2:32 - loss: 1.4388 - acc: 0.523 - ETA: 2:32 - loss: 1.4302 - acc: 0.526 - ETA: 2:31 - loss: 1.4209 - acc: 0.532 - ETA: 2:31 - loss: 1.3979 - acc: 0.545 - ETA: 2:30 - loss: 1.3969 - acc: 0.548 - ETA: 2:29 - loss: 1.3888 - acc: 0.550 - ETA: 2:29 - loss: 1.3887 - acc: 0.551 - ETA: 2:28 - loss: 1.3915 - acc: 0.547 - ETA: 2:27 - loss: 1.3897 - acc: 0.546 - ETA: 2:26 - loss: 1.3912 - acc: 0.546 - ETA: 2:26 - loss: 1.3884 - acc: 0.547 - ETA: 2:25 - loss: 1.3835 - acc: 0.547 - ETA: 2:25 - loss: 1.3742 - acc: 0.552 - ETA: 2:24 - loss: 1.3702 - acc: 0.554 - ETA: 2:23 - loss: 1.3615 - acc: 0.556 - ETA: 2:23 - loss: 1.3573 - acc: 0.558 - ETA: 2:22 - loss: 1.3611 - acc: 0.561 - ETA: 2:21 - loss: 1.3595 - acc: 0.558 - ETA: 2:21 - loss: 1.3672 - acc: 0.551 - ETA: 2:20 - loss: 1.3650 - acc: 0.550 - ETA: 2:19 - loss: 1.3598 - acc: 0.554 - ETA: 2:19 - loss: 1.3518 - acc: 0.557 - ETA: 2:18 - loss: 1.3497 - acc: 0.559 - ETA: 2:17 - loss: 1.3438 - acc: 0.562 - ETA: 2:17 - loss: 1.3458 - acc: 0.562 - ETA: 2:16 - loss: 1.3383 - acc: 0.567 - ETA: 2:15 - loss: 1.3392 - acc: 0.566 - ETA: 2:14 - loss: 1.3427 - acc: 0.562 - ETA: 2:14 - loss: 1.3431 - acc: 0.562 - ETA: 2:13 - loss: 1.3502 - acc: 0.561 - ETA: 2:12 - loss: 1.3488 - acc: 0.562 - ETA: 2:12 - loss: 1.3460 - acc: 0.564 - ETA: 2:11 - loss: 1.3461 - acc: 0.566 - ETA: 2:10 - loss: 1.3447 - acc: 0.566 - ETA: 2:09 - loss: 1.3424 - acc: 0.568 - ETA: 2:09 - loss: 1.3489 - acc: 0.566 - ETA: 2:08 - loss: 1.3491 - acc: 0.566 - ETA: 2:07 - loss: 1.3528 - acc: 0.561 - ETA: 2:07 - loss: 1.3493 - acc: 0.562 - ETA: 2:06 - loss: 1.3519 - acc: 0.562 - ETA: 2:05 - loss: 1.3526 - acc: 0.560 - ETA: 2:04 - loss: 1.3505 - acc: 0.558 - ETA: 2:04 - loss: 1.3463 - acc: 0.562 - ETA: 2:03 - loss: 1.3384 - acc: 0.566 - ETA: 2:02 - loss: 1.3351 - acc: 0.567 - ETA: 2:01 - loss: 1.3429 - acc: 0.564 - ETA: 2:01 - loss: 1.3426 - acc: 0.565 - ETA: 2:00 - loss: 1.3433 - acc: 0.565 - ETA: 1:59 - loss: 1.3457 - acc: 0.564 - ETA: 1:58 - loss: 1.3472 - acc: 0.564 - ETA: 1:58 - loss: 1.3512 - acc: 0.560 - ETA: 1:57 - loss: 1.3541 - acc: 0.560 - ETA: 1:56 - loss: 1.3556 - acc: 0.558 - ETA: 1:56 - loss: 1.3518 - acc: 0.559 - ETA: 1:55 - loss: 1.3572 - acc: 0.557 - ETA: 1:54 - loss: 1.3623 - acc: 0.556 - ETA: 1:53 - loss: 1.3593 - acc: 0.558 - ETA: 1:53 - loss: 1.3617 - acc: 0.556 - ETA: 1:52 - loss: 1.3648 - acc: 0.555 - ETA: 1:51 - loss: 1.3625 - acc: 0.556 - ETA: 1:50 - loss: 1.3649 - acc: 0.556 - ETA: 1:50 - loss: 1.3674 - acc: 0.555 - ETA: 1:49 - loss: 1.3673 - acc: 0.556 - ETA: 1:48 - loss: 1.3671 - acc: 0.555 - ETA: 1:48 - loss: 1.3700 - acc: 0.554 - ETA: 1:47 - loss: 1.3717 - acc: 0.553 - ETA: 1:46 - loss: 1.3713 - acc: 0.553 - ETA: 1:45 - loss: 1.3716 - acc: 0.554 - ETA: 1:45 - loss: 1.3732 - acc: 0.553 - ETA: 1:44 - loss: 1.3769 - acc: 0.552 - ETA: 1:43 - loss: 1.3755 - acc: 0.554 - ETA: 1:42 - loss: 1.3736 - acc: 0.554 - ETA: 1:42 - loss: 1.3763 - acc: 0.553 - ETA: 1:41 - loss: 1.3761 - acc: 0.553 - ETA: 1:40 - loss: 1.3766 - acc: 0.552 - ETA: 1:40 - loss: 1.3764 - acc: 0.552 - ETA: 1:39 - loss: 1.3764 - acc: 0.552 - ETA: 1:38 - loss: 1.3712 - acc: 0.555 - ETA: 1:37 - loss: 1.3699 - acc: 0.556 - ETA: 1:37 - loss: 1.3661 - acc: 0.557 - ETA: 1:36 - loss: 1.3674 - acc: 0.557 - ETA: 1:35 - loss: 1.3707 - acc: 0.556 - ETA: 1:34 - loss: 1.3683 - acc: 0.556 - ETA: 1:34 - loss: 1.3677 - acc: 0.556 - ETA: 1:33 - loss: 1.3703 - acc: 0.554 - ETA: 1:32 - loss: 1.3689 - acc: 0.554 - ETA: 1:31 - loss: 1.3703 - acc: 0.554 - ETA: 1:31 - loss: 1.3687 - acc: 0.554 - ETA: 1:30 - loss: 1.3667 - acc: 0.554 - ETA: 1:29 - loss: 1.3677 - acc: 0.555 - ETA: 1:28 - loss: 1.3676 - acc: 0.555 - ETA: 1:28 - loss: 1.3652 - acc: 0.557 - ETA: 1:27 - loss: 1.3656 - acc: 0.555 - ETA: 1:26 - loss: 1.3638 - acc: 0.556 - ETA: 1:25 - loss: 1.3614 - acc: 0.557 - ETA: 1:25 - loss: 1.3601 - acc: 0.557 - ETA: 1:24 - loss: 1.3614 - acc: 0.557 - ETA: 1:23 - loss: 1.3660 - acc: 0.555 - ETA: 1:23 - loss: 1.3660 - acc: 0.555 - ETA: 1:22 - loss: 1.3661 - acc: 0.555 - ETA: 1:21 - loss: 1.3684 - acc: 0.555 - ETA: 1:20 - loss: 1.3650 - acc: 0.557 - ETA: 1:20 - loss: 1.3644 - acc: 0.556 - ETA: 1:19 - loss: 1.3641 - acc: 0.558 - ETA: 1:18 - loss: 1.3629 - acc: 0.557 - ETA: 1:17 - loss: 1.3613 - acc: 0.557 - ETA: 1:17 - loss: 1.3602 - acc: 0.557 - ETA: 1:16 - loss: 1.3595 - acc: 0.556 - ETA: 1:15 - loss: 1.3588 - acc: 0.556 - ETA: 1:14 - loss: 1.3569 - acc: 0.556 - ETA: 1:14 - loss: 1.3551 - acc: 0.557 - ETA: 1:13 - loss: 1.3532 - acc: 0.558 - ETA: 1:12 - loss: 1.3537 - acc: 0.558 - ETA: 1:12 - loss: 1.3527 - acc: 0.558 - ETA: 1:11 - loss: 1.3524 - acc: 0.558 - ETA: 1:10 - loss: 1.3523 - acc: 0.558 - ETA: 1:09 - loss: 1.3511 - acc: 0.558 - ETA: 1:09 - loss: 1.3513 - acc: 0.559 - ETA: 1:08 - loss: 1.3520 - acc: 0.559 - ETA: 1:07 - loss: 1.3526 - acc: 0.559 - ETA: 1:06 - loss: 1.3528 - acc: 0.559 - ETA: 1:06 - loss: 1.3516 - acc: 0.560 - ETA: 1:05 - loss: 1.3536 - acc: 0.558 - ETA: 1:04 - loss: 1.3583 - acc: 0.556 - ETA: 1:03 - loss: 1.3598 - acc: 0.555 - ETA: 1:03 - loss: 1.3584 - acc: 0.556 - ETA: 1:02 - loss: 1.3615 - acc: 0.555 - ETA: 1:01 - loss: 1.3582 - acc: 0.557 - ETA: 1:00 - loss: 1.3614 - acc: 0.555 - ETA: 1:00 - loss: 1.3583 - acc: 0.556 - ETA: 59s - loss: 1.3609 - acc: 0.557 - ETA: 58s - loss: 1.3619 - acc: 0.55 - ETA: 58s - loss: 1.3587 - acc: 0.55 - ETA: 57s - loss: 1.3569 - acc: 0.55 - ETA: 56s - loss: 1.3570 - acc: 0.55 - ETA: 55s - loss: 1.3568 - acc: 0.55 - ETA: 55s - loss: 1.3570 - acc: 0.55 - ETA: 54s - loss: 1.3591 - acc: 0.55 - ETA: 53s - loss: 1.3581 - acc: 0.55 - ETA: 52s - loss: 1.3569 - acc: 0.55 - ETA: 52s - loss: 1.3537 - acc: 0.55 - ETA: 51s - loss: 1.3542 - acc: 0.55 - ETA: 50s - loss: 1.3535 - acc: 0.56 - ETA: 50s - loss: 1.3505 - acc: 0.56 - ETA: 49s - loss: 1.3496 - acc: 0.56 - ETA: 48s - loss: 1.3503 - acc: 0.56 - ETA: 47s - loss: 1.3513 - acc: 0.56 - ETA: 47s - loss: 1.3524 - acc: 0.56 - ETA: 46s - loss: 1.3523 - acc: 0.56 - ETA: 45s - loss: 1.3508 - acc: 0.56 - ETA: 44s - loss: 1.3504 - acc: 0.56 - ETA: 44s - loss: 1.3508 - acc: 0.56 - ETA: 43s - loss: 1.3513 - acc: 0.56 - ETA: 42s - loss: 1.3488 - acc: 0.56 - ETA: 41s - loss: 1.3480 - acc: 0.56 - ETA: 41s - loss: 1.3467 - acc: 0.56 - ETA: 40s - loss: 1.3487 - acc: 0.56 - ETA: 39s - loss: 1.3497 - acc: 0.56 - ETA: 38s - loss: 1.3499 - acc: 0.56 - ETA: 38s - loss: 1.3488 - acc: 0.56 - ETA: 37s - loss: 1.3466 - acc: 0.56 - ETA: 36s - loss: 1.3457 - acc: 0.56 - ETA: 35s - loss: 1.3459 - acc: 0.56 - ETA: 35s - loss: 1.3484 - acc: 0.56 - ETA: 34s - loss: 1.3491 - acc: 0.56 - ETA: 33s - loss: 1.3489 - acc: 0.56 - ETA: 33s - loss: 1.3478 - acc: 0.56 - ETA: 32s - loss: 1.3490 - acc: 0.56 - ETA: 31s - loss: 1.3506 - acc: 0.56 - ETA: 30s - loss: 1.3512 - acc: 0.56 - ETA: 30s - loss: 1.3532 - acc: 0.56 - ETA: 29s - loss: 1.3527 - acc: 0.56 - ETA: 28s - loss: 1.3524 - acc: 0.56 - ETA: 27s - loss: 1.3542 - acc: 0.55 - ETA: 27s - loss: 1.3538 - acc: 0.55 - ETA: 26s - loss: 1.3532 - acc: 0.55 - ETA: 25s - loss: 1.3530 - acc: 0.55 - ETA: 24s - loss: 1.3546 - acc: 0.55 - ETA: 24s - loss: 1.3556 - acc: 0.55 - ETA: 23s - loss: 1.3549 - acc: 0.55 - ETA: 22s - loss: 1.3557 - acc: 0.5589"
     ]
    },
    {
     "name": "stdout",
     "output_type": "stream",
     "text": [
      "238/237 [==============================] - ETA: 21s - loss: 1.3563 - acc: 0.55 - ETA: 21s - loss: 1.3565 - acc: 0.55 - ETA: 20s - loss: 1.3575 - acc: 0.55 - ETA: 19s - loss: 1.3579 - acc: 0.55 - ETA: 18s - loss: 1.3591 - acc: 0.55 - ETA: 18s - loss: 1.3603 - acc: 0.55 - ETA: 17s - loss: 1.3607 - acc: 0.55 - ETA: 16s - loss: 1.3619 - acc: 0.55 - ETA: 15s - loss: 1.3610 - acc: 0.55 - ETA: 15s - loss: 1.3615 - acc: 0.55 - ETA: 14s - loss: 1.3606 - acc: 0.55 - ETA: 13s - loss: 1.3616 - acc: 0.55 - ETA: 12s - loss: 1.3623 - acc: 0.55 - ETA: 12s - loss: 1.3622 - acc: 0.55 - ETA: 11s - loss: 1.3619 - acc: 0.55 - ETA: 10s - loss: 1.3612 - acc: 0.55 - ETA: 9s - loss: 1.3613 - acc: 0.5566 - ETA: 9s - loss: 1.3600 - acc: 0.557 - ETA: 8s - loss: 1.3625 - acc: 0.557 - ETA: 7s - loss: 1.3631 - acc: 0.556 - ETA: 7s - loss: 1.3641 - acc: 0.555 - ETA: 6s - loss: 1.3642 - acc: 0.556 - ETA: 5s - loss: 1.3647 - acc: 0.555 - ETA: 4s - loss: 1.3673 - acc: 0.555 - ETA: 4s - loss: 1.3669 - acc: 0.555 - ETA: 3s - loss: 1.3651 - acc: 0.555 - ETA: 2s - loss: 1.3647 - acc: 0.556 - ETA: 1s - loss: 1.3671 - acc: 0.556 - ETA: 1s - loss: 1.3658 - acc: 0.556 - ETA: 0s - loss: 1.3647 - acc: 0.556 - 198s 831ms/step - loss: 1.3652 - acc: 0.5565 - val_loss: 2.0108 - val_acc: 0.3611\n",
      "Epoch 5/10\n"
     ]
    },
    {
     "name": "stdout",
     "output_type": "stream",
     "text": [
      "207/237 [=========================>....] - ETA: 2:55 - loss: 1.0540 - acc: 0.687 - ETA: 2:54 - loss: 1.1946 - acc: 0.625 - ETA: 2:54 - loss: 1.1351 - acc: 0.687 - ETA: 2:57 - loss: 1.1940 - acc: 0.656 - ETA: 2:55 - loss: 1.2115 - acc: 0.650 - ETA: 2:53 - loss: 1.2467 - acc: 0.625 - ETA: 2:52 - loss: 1.2495 - acc: 0.633 - ETA: 2:51 - loss: 1.2498 - acc: 0.625 - ETA: 2:50 - loss: 1.2784 - acc: 0.618 - ETA: 2:49 - loss: 1.2802 - acc: 0.606 - ETA: 2:48 - loss: 1.3238 - acc: 0.590 - ETA: 2:47 - loss: 1.3325 - acc: 0.588 - ETA: 2:46 - loss: 1.3094 - acc: 0.601 - ETA: 2:46 - loss: 1.2949 - acc: 0.607 - ETA: 2:45 - loss: 1.3013 - acc: 0.608 - ETA: 2:44 - loss: 1.3010 - acc: 0.605 - ETA: 2:44 - loss: 1.2899 - acc: 0.599 - ETA: 2:43 - loss: 1.2942 - acc: 0.597 - ETA: 2:42 - loss: 1.3139 - acc: 0.592 - ETA: 2:42 - loss: 1.3177 - acc: 0.603 - ETA: 2:41 - loss: 1.3102 - acc: 0.601 - ETA: 2:40 - loss: 1.3384 - acc: 0.590 - ETA: 2:40 - loss: 1.3319 - acc: 0.592 - ETA: 2:39 - loss: 1.3593 - acc: 0.583 - ETA: 2:38 - loss: 1.3519 - acc: 0.587 - ETA: 2:37 - loss: 1.3390 - acc: 0.591 - ETA: 2:37 - loss: 1.3455 - acc: 0.585 - ETA: 2:36 - loss: 1.3460 - acc: 0.582 - ETA: 2:35 - loss: 1.3565 - acc: 0.577 - ETA: 2:35 - loss: 1.3594 - acc: 0.575 - ETA: 2:34 - loss: 1.3496 - acc: 0.580 - ETA: 2:33 - loss: 1.3494 - acc: 0.580 - ETA: 2:33 - loss: 1.3490 - acc: 0.577 - ETA: 2:32 - loss: 1.3489 - acc: 0.575 - ETA: 2:31 - loss: 1.3383 - acc: 0.580 - ETA: 2:30 - loss: 1.3281 - acc: 0.585 - ETA: 2:30 - loss: 1.3326 - acc: 0.582 - ETA: 2:29 - loss: 1.3411 - acc: 0.580 - ETA: 2:28 - loss: 1.3426 - acc: 0.581 - ETA: 2:27 - loss: 1.3349 - acc: 0.584 - ETA: 2:27 - loss: 1.3287 - acc: 0.588 - ETA: 2:26 - loss: 1.3163 - acc: 0.592 - ETA: 2:25 - loss: 1.3076 - acc: 0.595 - ETA: 2:24 - loss: 1.3046 - acc: 0.593 - ETA: 2:24 - loss: 1.3052 - acc: 0.597 - ETA: 2:23 - loss: 1.3101 - acc: 0.595 - ETA: 2:22 - loss: 1.3066 - acc: 0.595 - ETA: 2:21 - loss: 1.3188 - acc: 0.588 - ETA: 2:21 - loss: 1.3226 - acc: 0.585 - ETA: 2:20 - loss: 1.3179 - acc: 0.586 - ETA: 2:19 - loss: 1.3216 - acc: 0.585 - ETA: 2:19 - loss: 1.3157 - acc: 0.587 - ETA: 2:18 - loss: 1.3161 - acc: 0.586 - ETA: 2:17 - loss: 1.3136 - acc: 0.585 - ETA: 2:17 - loss: 1.3231 - acc: 0.583 - ETA: 2:16 - loss: 1.3214 - acc: 0.580 - ETA: 2:16 - loss: 1.3306 - acc: 0.576 - ETA: 2:15 - loss: 1.3296 - acc: 0.576 - ETA: 2:15 - loss: 1.3261 - acc: 0.578 - ETA: 2:14 - loss: 1.3253 - acc: 0.579 - ETA: 2:13 - loss: 1.3266 - acc: 0.577 - ETA: 2:13 - loss: 1.3246 - acc: 0.577 - ETA: 2:12 - loss: 1.3210 - acc: 0.578 - ETA: 2:11 - loss: 1.3210 - acc: 0.577 - ETA: 2:10 - loss: 1.3266 - acc: 0.575 - ETA: 2:10 - loss: 1.3262 - acc: 0.572 - ETA: 2:09 - loss: 1.3256 - acc: 0.571 - ETA: 2:08 - loss: 1.3294 - acc: 0.569 - ETA: 2:07 - loss: 1.3345 - acc: 0.567 - ETA: 2:06 - loss: 1.3441 - acc: 0.565 - ETA: 2:06 - loss: 1.3413 - acc: 0.567 - ETA: 2:05 - loss: 1.3370 - acc: 0.570 - ETA: 2:04 - loss: 1.3393 - acc: 0.570 - ETA: 2:03 - loss: 1.3412 - acc: 0.569 - ETA: 2:03 - loss: 1.3397 - acc: 0.570 - ETA: 2:02 - loss: 1.3373 - acc: 0.570 - ETA: 2:01 - loss: 1.3338 - acc: 0.572 - ETA: 2:00 - loss: 1.3319 - acc: 0.572 - ETA: 1:59 - loss: 1.3332 - acc: 0.570 - ETA: 1:59 - loss: 1.3307 - acc: 0.571 - ETA: 1:58 - loss: 1.3312 - acc: 0.571 - ETA: 1:57 - loss: 1.3315 - acc: 0.570 - ETA: 1:56 - loss: 1.3335 - acc: 0.573 - ETA: 1:56 - loss: 1.3298 - acc: 0.575 - ETA: 1:55 - loss: 1.3316 - acc: 0.574 - ETA: 1:54 - loss: 1.3290 - acc: 0.574 - ETA: 1:53 - loss: 1.3312 - acc: 0.573 - ETA: 1:52 - loss: 1.3302 - acc: 0.572 - ETA: 1:52 - loss: 1.3321 - acc: 0.570 - ETA: 1:51 - loss: 1.3315 - acc: 0.570 - ETA: 1:50 - loss: 1.3285 - acc: 0.572 - ETA: 1:49 - loss: 1.3312 - acc: 0.569 - ETA: 1:49 - loss: 1.3328 - acc: 0.569 - ETA: 1:48 - loss: 1.3344 - acc: 0.569 - ETA: 1:47 - loss: 1.3289 - acc: 0.573 - ETA: 1:46 - loss: 1.3280 - acc: 0.571 - ETA: 1:46 - loss: 1.3269 - acc: 0.570 - ETA: 1:45 - loss: 1.3238 - acc: 0.572 - ETA: 1:44 - loss: 1.3268 - acc: 0.570 - ETA: 1:43 - loss: 1.3274 - acc: 0.570 - ETA: 1:42 - loss: 1.3237 - acc: 0.571 - ETA: 1:42 - loss: 1.3247 - acc: 0.572 - ETA: 1:41 - loss: 1.3220 - acc: 0.573 - ETA: 1:40 - loss: 1.3243 - acc: 0.573 - ETA: 1:39 - loss: 1.3268 - acc: 0.571 - ETA: 1:39 - loss: 1.3287 - acc: 0.570 - ETA: 1:38 - loss: 1.3301 - acc: 0.568 - ETA: 1:37 - loss: 1.3291 - acc: 0.569 - ETA: 1:36 - loss: 1.3248 - acc: 0.571 - ETA: 1:36 - loss: 1.3271 - acc: 0.570 - ETA: 1:35 - loss: 1.3263 - acc: 0.570 - ETA: 1:34 - loss: 1.3233 - acc: 0.572 - ETA: 1:33 - loss: 1.3252 - acc: 0.572 - ETA: 1:33 - loss: 1.3249 - acc: 0.572 - ETA: 1:32 - loss: 1.3218 - acc: 0.573 - ETA: 1:31 - loss: 1.3240 - acc: 0.573 - ETA: 1:30 - loss: 1.3233 - acc: 0.572 - ETA: 1:30 - loss: 1.3231 - acc: 0.572 - ETA: 1:29 - loss: 1.3200 - acc: 0.574 - ETA: 1:28 - loss: 1.3209 - acc: 0.573 - ETA: 1:27 - loss: 1.3194 - acc: 0.572 - ETA: 1:26 - loss: 1.3165 - acc: 0.575 - ETA: 1:26 - loss: 1.3167 - acc: 0.574 - ETA: 1:25 - loss: 1.3173 - acc: 0.573 - ETA: 1:24 - loss: 1.3184 - acc: 0.573 - ETA: 1:23 - loss: 1.3159 - acc: 0.574 - ETA: 1:23 - loss: 1.3153 - acc: 0.575 - ETA: 1:22 - loss: 1.3199 - acc: 0.572 - ETA: 1:21 - loss: 1.3202 - acc: 0.572 - ETA: 1:20 - loss: 1.3191 - acc: 0.572 - ETA: 1:20 - loss: 1.3197 - acc: 0.572 - ETA: 1:19 - loss: 1.3186 - acc: 0.573 - ETA: 1:18 - loss: 1.3200 - acc: 0.572 - ETA: 1:17 - loss: 1.3221 - acc: 0.571 - ETA: 1:17 - loss: 1.3251 - acc: 0.570 - ETA: 1:16 - loss: 1.3246 - acc: 0.571 - ETA: 1:15 - loss: 1.3245 - acc: 0.570 - ETA: 1:14 - loss: 1.3274 - acc: 0.569 - ETA: 1:14 - loss: 1.3316 - acc: 0.568 - ETA: 1:13 - loss: 1.3317 - acc: 0.567 - ETA: 1:12 - loss: 1.3288 - acc: 0.569 - ETA: 1:11 - loss: 1.3286 - acc: 0.569 - ETA: 1:11 - loss: 1.3294 - acc: 0.569 - ETA: 1:10 - loss: 1.3279 - acc: 0.569 - ETA: 1:09 - loss: 1.3299 - acc: 0.568 - ETA: 1:08 - loss: 1.3288 - acc: 0.568 - ETA: 1:07 - loss: 1.3277 - acc: 0.569 - ETA: 1:07 - loss: 1.3249 - acc: 0.570 - ETA: 1:06 - loss: 1.3255 - acc: 0.569 - ETA: 1:05 - loss: 1.3254 - acc: 0.569 - ETA: 1:04 - loss: 1.3224 - acc: 0.570 - ETA: 1:04 - loss: 1.3216 - acc: 0.570 - ETA: 1:03 - loss: 1.3217 - acc: 0.571 - ETA: 1:02 - loss: 1.3244 - acc: 0.570 - ETA: 1:02 - loss: 1.3238 - acc: 0.570 - ETA: 1:01 - loss: 1.3237 - acc: 0.570 - ETA: 1:00 - loss: 1.3228 - acc: 0.571 - ETA: 59s - loss: 1.3217 - acc: 0.571 - ETA: 59s - loss: 1.3197 - acc: 0.57 - ETA: 58s - loss: 1.3197 - acc: 0.57 - ETA: 57s - loss: 1.3203 - acc: 0.57 - ETA: 56s - loss: 1.3193 - acc: 0.57 - ETA: 56s - loss: 1.3180 - acc: 0.57 - ETA: 55s - loss: 1.3233 - acc: 0.57 - ETA: 54s - loss: 1.3234 - acc: 0.57 - ETA: 53s - loss: 1.3235 - acc: 0.57 - ETA: 52s - loss: 1.3255 - acc: 0.57 - ETA: 52s - loss: 1.3245 - acc: 0.57 - ETA: 51s - loss: 1.3225 - acc: 0.57 - ETA: 50s - loss: 1.3219 - acc: 0.57 - ETA: 49s - loss: 1.3243 - acc: 0.57 - ETA: 49s - loss: 1.3239 - acc: 0.57 - ETA: 48s - loss: 1.3228 - acc: 0.57 - ETA: 47s - loss: 1.3233 - acc: 0.57 - ETA: 46s - loss: 1.3230 - acc: 0.57 - ETA: 46s - loss: 1.3237 - acc: 0.57 - ETA: 45s - loss: 1.3240 - acc: 0.57 - ETA: 44s - loss: 1.3260 - acc: 0.57 - ETA: 43s - loss: 1.3252 - acc: 0.57 - ETA: 43s - loss: 1.3242 - acc: 0.57 - ETA: 42s - loss: 1.3247 - acc: 0.57 - ETA: 41s - loss: 1.3249 - acc: 0.57 - ETA: 40s - loss: 1.3254 - acc: 0.57 - ETA: 40s - loss: 1.3247 - acc: 0.57 - ETA: 39s - loss: 1.3253 - acc: 0.57 - ETA: 38s - loss: 1.3261 - acc: 0.57 - ETA: 37s - loss: 1.3257 - acc: 0.57 - ETA: 37s - loss: 1.3270 - acc: 0.57 - ETA: 36s - loss: 1.3256 - acc: 0.57 - ETA: 35s - loss: 1.3248 - acc: 0.57 - ETA: 34s - loss: 1.3262 - acc: 0.57 - ETA: 34s - loss: 1.3249 - acc: 0.57 - ETA: 33s - loss: 1.3234 - acc: 0.57 - ETA: 32s - loss: 1.3252 - acc: 0.57 - ETA: 31s - loss: 1.3249 - acc: 0.57 - ETA: 31s - loss: 1.3232 - acc: 0.57 - ETA: 30s - loss: 1.3255 - acc: 0.57 - ETA: 29s - loss: 1.3245 - acc: 0.57 - ETA: 28s - loss: 1.3256 - acc: 0.57 - ETA: 28s - loss: 1.3255 - acc: 0.57 - ETA: 27s - loss: 1.3261 - acc: 0.57 - ETA: 26s - loss: 1.3254 - acc: 0.57 - ETA: 25s - loss: 1.3232 - acc: 0.57 - ETA: 25s - loss: 1.3223 - acc: 0.57 - ETA: 24s - loss: 1.3239 - acc: 0.57 - ETA: 23s - loss: 1.3249 - acc: 0.57 - ETA: 22s - loss: 1.3256 - acc: 0.5704"
     ]
    },
    {
     "name": "stdout",
     "output_type": "stream",
     "text": [
      "238/237 [==============================] - ETA: 22s - loss: 1.3258 - acc: 0.57 - ETA: 21s - loss: 1.3238 - acc: 0.57 - ETA: 20s - loss: 1.3236 - acc: 0.57 - ETA: 19s - loss: 1.3238 - acc: 0.57 - ETA: 19s - loss: 1.3220 - acc: 0.57 - ETA: 18s - loss: 1.3250 - acc: 0.57 - ETA: 17s - loss: 1.3243 - acc: 0.57 - ETA: 16s - loss: 1.3228 - acc: 0.57 - ETA: 16s - loss: 1.3215 - acc: 0.57 - ETA: 15s - loss: 1.3210 - acc: 0.57 - ETA: 14s - loss: 1.3206 - acc: 0.57 - ETA: 13s - loss: 1.3204 - acc: 0.57 - ETA: 13s - loss: 1.3196 - acc: 0.57 - ETA: 12s - loss: 1.3193 - acc: 0.57 - ETA: 11s - loss: 1.3197 - acc: 0.57 - ETA: 10s - loss: 1.3193 - acc: 0.57 - ETA: 10s - loss: 1.3195 - acc: 0.57 - ETA: 9s - loss: 1.3179 - acc: 0.5725 - ETA: 8s - loss: 1.3165 - acc: 0.573 - ETA: 7s - loss: 1.3159 - acc: 0.572 - ETA: 7s - loss: 1.3171 - acc: 0.572 - ETA: 6s - loss: 1.3168 - acc: 0.572 - ETA: 5s - loss: 1.3157 - acc: 0.572 - ETA: 4s - loss: 1.3155 - acc: 0.572 - ETA: 4s - loss: 1.3147 - acc: 0.572 - ETA: 3s - loss: 1.3149 - acc: 0.573 - ETA: 2s - loss: 1.3127 - acc: 0.574 - ETA: 1s - loss: 1.3126 - acc: 0.574 - ETA: 1s - loss: 1.3128 - acc: 0.574 - ETA: 0s - loss: 1.3128 - acc: 0.574 - 199s 838ms/step - loss: 1.3129 - acc: 0.5738 - val_loss: 2.1245 - val_acc: 0.3442\n",
      "Epoch 6/10\n"
     ]
    },
    {
     "name": "stdout",
     "output_type": "stream",
     "text": [
      "207/237 [=========================>....] - ETA: 2:52 - loss: 1.1755 - acc: 0.500 - ETA: 2:50 - loss: 1.1899 - acc: 0.562 - ETA: 2:49 - loss: 1.3933 - acc: 0.541 - ETA: 2:48 - loss: 1.3023 - acc: 0.562 - ETA: 2:48 - loss: 1.2962 - acc: 0.587 - ETA: 2:47 - loss: 1.3278 - acc: 0.572 - ETA: 2:46 - loss: 1.2623 - acc: 0.607 - ETA: 2:45 - loss: 1.2789 - acc: 0.617 - ETA: 2:44 - loss: 1.2460 - acc: 0.618 - ETA: 2:44 - loss: 1.2347 - acc: 0.618 - ETA: 2:43 - loss: 1.2195 - acc: 0.630 - ETA: 2:42 - loss: 1.2101 - acc: 0.635 - ETA: 2:41 - loss: 1.2191 - acc: 0.629 - ETA: 2:40 - loss: 1.2408 - acc: 0.607 - ETA: 2:39 - loss: 1.2499 - acc: 0.600 - ETA: 2:39 - loss: 1.2491 - acc: 0.589 - ETA: 2:38 - loss: 1.2608 - acc: 0.584 - ETA: 2:37 - loss: 1.2517 - acc: 0.586 - ETA: 2:36 - loss: 1.2321 - acc: 0.592 - ETA: 2:36 - loss: 1.2334 - acc: 0.593 - ETA: 2:35 - loss: 1.2178 - acc: 0.598 - ETA: 2:34 - loss: 1.2213 - acc: 0.596 - ETA: 2:34 - loss: 1.2262 - acc: 0.595 - ETA: 2:33 - loss: 1.2309 - acc: 0.588 - ETA: 2:32 - loss: 1.2221 - acc: 0.592 - ETA: 2:31 - loss: 1.2196 - acc: 0.593 - ETA: 2:31 - loss: 1.2199 - acc: 0.592 - ETA: 2:30 - loss: 1.2341 - acc: 0.591 - ETA: 2:29 - loss: 1.2307 - acc: 0.590 - ETA: 2:29 - loss: 1.2299 - acc: 0.595 - ETA: 2:28 - loss: 1.2240 - acc: 0.594 - ETA: 2:27 - loss: 1.2149 - acc: 0.601 - ETA: 2:27 - loss: 1.2176 - acc: 0.598 - ETA: 2:27 - loss: 1.2195 - acc: 0.599 - ETA: 2:26 - loss: 1.2214 - acc: 0.596 - ETA: 2:26 - loss: 1.2161 - acc: 0.597 - ETA: 2:25 - loss: 1.2210 - acc: 0.592 - ETA: 2:24 - loss: 1.2220 - acc: 0.590 - ETA: 2:24 - loss: 1.2245 - acc: 0.584 - ETA: 2:23 - loss: 1.2281 - acc: 0.582 - ETA: 2:22 - loss: 1.2363 - acc: 0.579 - ETA: 2:22 - loss: 1.2374 - acc: 0.577 - ETA: 2:21 - loss: 1.2302 - acc: 0.578 - ETA: 2:20 - loss: 1.2387 - acc: 0.575 - ETA: 2:20 - loss: 1.2453 - acc: 0.576 - ETA: 2:19 - loss: 1.2328 - acc: 0.582 - ETA: 2:18 - loss: 1.2368 - acc: 0.579 - ETA: 2:18 - loss: 1.2352 - acc: 0.580 - ETA: 2:17 - loss: 1.2399 - acc: 0.582 - ETA: 2:16 - loss: 1.2449 - acc: 0.578 - ETA: 2:16 - loss: 1.2379 - acc: 0.580 - ETA: 2:15 - loss: 1.2385 - acc: 0.579 - ETA: 2:14 - loss: 1.2410 - acc: 0.576 - ETA: 2:14 - loss: 1.2425 - acc: 0.577 - ETA: 2:13 - loss: 1.2411 - acc: 0.578 - ETA: 2:12 - loss: 1.2437 - acc: 0.578 - ETA: 2:12 - loss: 1.2389 - acc: 0.580 - ETA: 2:11 - loss: 1.2407 - acc: 0.581 - ETA: 2:10 - loss: 1.2420 - acc: 0.582 - ETA: 2:09 - loss: 1.2465 - acc: 0.582 - ETA: 2:09 - loss: 1.2434 - acc: 0.582 - ETA: 2:08 - loss: 1.2421 - acc: 0.582 - ETA: 2:07 - loss: 1.2398 - acc: 0.583 - ETA: 2:07 - loss: 1.2454 - acc: 0.581 - ETA: 2:06 - loss: 1.2455 - acc: 0.582 - ETA: 2:05 - loss: 1.2475 - acc: 0.582 - ETA: 2:05 - loss: 1.2469 - acc: 0.582 - ETA: 2:04 - loss: 1.2473 - acc: 0.582 - ETA: 2:03 - loss: 1.2456 - acc: 0.585 - ETA: 2:02 - loss: 1.2383 - acc: 0.587 - ETA: 2:02 - loss: 1.2368 - acc: 0.587 - ETA: 2:01 - loss: 1.2407 - acc: 0.585 - ETA: 2:00 - loss: 1.2438 - acc: 0.585 - ETA: 2:00 - loss: 1.2406 - acc: 0.586 - ETA: 1:59 - loss: 1.2362 - acc: 0.588 - ETA: 1:58 - loss: 1.2354 - acc: 0.588 - ETA: 1:57 - loss: 1.2365 - acc: 0.585 - ETA: 1:57 - loss: 1.2371 - acc: 0.584 - ETA: 1:56 - loss: 1.2345 - acc: 0.586 - ETA: 1:55 - loss: 1.2359 - acc: 0.585 - ETA: 1:54 - loss: 1.2412 - acc: 0.585 - ETA: 1:54 - loss: 1.2488 - acc: 0.583 - ETA: 1:53 - loss: 1.2460 - acc: 0.584 - ETA: 1:52 - loss: 1.2474 - acc: 0.584 - ETA: 1:52 - loss: 1.2454 - acc: 0.587 - ETA: 1:51 - loss: 1.2427 - acc: 0.589 - ETA: 1:50 - loss: 1.2467 - acc: 0.589 - ETA: 1:49 - loss: 1.2450 - acc: 0.588 - ETA: 1:49 - loss: 1.2456 - acc: 0.588 - ETA: 1:48 - loss: 1.2487 - acc: 0.586 - ETA: 1:47 - loss: 1.2490 - acc: 0.587 - ETA: 1:47 - loss: 1.2553 - acc: 0.584 - ETA: 1:46 - loss: 1.2533 - acc: 0.585 - ETA: 1:45 - loss: 1.2532 - acc: 0.584 - ETA: 1:44 - loss: 1.2573 - acc: 0.584 - ETA: 1:44 - loss: 1.2538 - acc: 0.585 - ETA: 1:43 - loss: 1.2523 - acc: 0.587 - ETA: 1:42 - loss: 1.2538 - acc: 0.587 - ETA: 1:41 - loss: 1.2511 - acc: 0.588 - ETA: 1:41 - loss: 1.2521 - acc: 0.586 - ETA: 1:40 - loss: 1.2564 - acc: 0.583 - ETA: 1:39 - loss: 1.2615 - acc: 0.582 - ETA: 1:39 - loss: 1.2613 - acc: 0.581 - ETA: 1:38 - loss: 1.2625 - acc: 0.580 - ETA: 1:37 - loss: 1.2616 - acc: 0.579 - ETA: 1:36 - loss: 1.2582 - acc: 0.580 - ETA: 1:36 - loss: 1.2578 - acc: 0.580 - ETA: 1:35 - loss: 1.2580 - acc: 0.579 - ETA: 1:34 - loss: 1.2537 - acc: 0.582 - ETA: 1:33 - loss: 1.2546 - acc: 0.582 - ETA: 1:33 - loss: 1.2541 - acc: 0.583 - ETA: 1:32 - loss: 1.2515 - acc: 0.584 - ETA: 1:31 - loss: 1.2498 - acc: 0.586 - ETA: 1:31 - loss: 1.2500 - acc: 0.587 - ETA: 1:30 - loss: 1.2530 - acc: 0.586 - ETA: 1:29 - loss: 1.2535 - acc: 0.587 - ETA: 1:28 - loss: 1.2536 - acc: 0.586 - ETA: 1:28 - loss: 1.2531 - acc: 0.585 - ETA: 1:27 - loss: 1.2540 - acc: 0.585 - ETA: 1:26 - loss: 1.2550 - acc: 0.584 - ETA: 1:25 - loss: 1.2549 - acc: 0.585 - ETA: 1:25 - loss: 1.2547 - acc: 0.586 - ETA: 1:24 - loss: 1.2547 - acc: 0.586 - ETA: 1:23 - loss: 1.2536 - acc: 0.586 - ETA: 1:22 - loss: 1.2505 - acc: 0.588 - ETA: 1:22 - loss: 1.2524 - acc: 0.587 - ETA: 1:21 - loss: 1.2532 - acc: 0.587 - ETA: 1:20 - loss: 1.2542 - acc: 0.587 - ETA: 1:20 - loss: 1.2563 - acc: 0.586 - ETA: 1:19 - loss: 1.2554 - acc: 0.587 - ETA: 1:18 - loss: 1.2547 - acc: 0.588 - ETA: 1:17 - loss: 1.2534 - acc: 0.589 - ETA: 1:17 - loss: 1.2507 - acc: 0.590 - ETA: 1:16 - loss: 1.2527 - acc: 0.589 - ETA: 1:15 - loss: 1.2517 - acc: 0.589 - ETA: 1:14 - loss: 1.2510 - acc: 0.589 - ETA: 1:14 - loss: 1.2494 - acc: 0.589 - ETA: 1:13 - loss: 1.2494 - acc: 0.590 - ETA: 1:12 - loss: 1.2499 - acc: 0.589 - ETA: 1:11 - loss: 1.2496 - acc: 0.588 - ETA: 1:11 - loss: 1.2487 - acc: 0.588 - ETA: 1:10 - loss: 1.2499 - acc: 0.588 - ETA: 1:09 - loss: 1.2492 - acc: 0.587 - ETA: 1:09 - loss: 1.2524 - acc: 0.586 - ETA: 1:08 - loss: 1.2531 - acc: 0.586 - ETA: 1:07 - loss: 1.2551 - acc: 0.585 - ETA: 1:06 - loss: 1.2559 - acc: 0.584 - ETA: 1:06 - loss: 1.2545 - acc: 0.584 - ETA: 1:05 - loss: 1.2535 - acc: 0.585 - ETA: 1:04 - loss: 1.2517 - acc: 0.586 - ETA: 1:03 - loss: 1.2531 - acc: 0.586 - ETA: 1:03 - loss: 1.2523 - acc: 0.586 - ETA: 1:02 - loss: 1.2518 - acc: 0.587 - ETA: 1:01 - loss: 1.2508 - acc: 0.588 - ETA: 1:00 - loss: 1.2489 - acc: 0.589 - ETA: 1:00 - loss: 1.2530 - acc: 0.588 - ETA: 59s - loss: 1.2519 - acc: 0.589 - ETA: 58s - loss: 1.2521 - acc: 0.58 - ETA: 58s - loss: 1.2494 - acc: 0.58 - ETA: 57s - loss: 1.2495 - acc: 0.58 - ETA: 56s - loss: 1.2481 - acc: 0.58 - ETA: 55s - loss: 1.2496 - acc: 0.58 - ETA: 55s - loss: 1.2479 - acc: 0.59 - ETA: 54s - loss: 1.2471 - acc: 0.59 - ETA: 53s - loss: 1.2466 - acc: 0.59 - ETA: 52s - loss: 1.2469 - acc: 0.59 - ETA: 52s - loss: 1.2465 - acc: 0.59 - ETA: 51s - loss: 1.2479 - acc: 0.59 - ETA: 50s - loss: 1.2462 - acc: 0.59 - ETA: 50s - loss: 1.2462 - acc: 0.59 - ETA: 49s - loss: 1.2464 - acc: 0.59 - ETA: 48s - loss: 1.2467 - acc: 0.59 - ETA: 47s - loss: 1.2470 - acc: 0.59 - ETA: 47s - loss: 1.2443 - acc: 0.59 - ETA: 46s - loss: 1.2494 - acc: 0.59 - ETA: 45s - loss: 1.2486 - acc: 0.59 - ETA: 44s - loss: 1.2485 - acc: 0.59 - ETA: 44s - loss: 1.2492 - acc: 0.59 - ETA: 43s - loss: 1.2499 - acc: 0.59 - ETA: 42s - loss: 1.2519 - acc: 0.59 - ETA: 41s - loss: 1.2506 - acc: 0.59 - ETA: 41s - loss: 1.2496 - acc: 0.59 - ETA: 40s - loss: 1.2525 - acc: 0.59 - ETA: 39s - loss: 1.2516 - acc: 0.59 - ETA: 38s - loss: 1.2506 - acc: 0.59 - ETA: 38s - loss: 1.2521 - acc: 0.59 - ETA: 37s - loss: 1.2513 - acc: 0.59 - ETA: 36s - loss: 1.2517 - acc: 0.59 - ETA: 35s - loss: 1.2509 - acc: 0.59 - ETA: 35s - loss: 1.2515 - acc: 0.59 - ETA: 34s - loss: 1.2525 - acc: 0.59 - ETA: 33s - loss: 1.2504 - acc: 0.59 - ETA: 32s - loss: 1.2501 - acc: 0.59 - ETA: 32s - loss: 1.2496 - acc: 0.59 - ETA: 31s - loss: 1.2513 - acc: 0.59 - ETA: 30s - loss: 1.2499 - acc: 0.59 - ETA: 29s - loss: 1.2493 - acc: 0.59 - ETA: 29s - loss: 1.2521 - acc: 0.59 - ETA: 28s - loss: 1.2494 - acc: 0.59 - ETA: 27s - loss: 1.2493 - acc: 0.59 - ETA: 27s - loss: 1.2488 - acc: 0.59 - ETA: 26s - loss: 1.2472 - acc: 0.59 - ETA: 25s - loss: 1.2474 - acc: 0.59 - ETA: 24s - loss: 1.2488 - acc: 0.59 - ETA: 24s - loss: 1.2487 - acc: 0.59 - ETA: 23s - loss: 1.2499 - acc: 0.59 - ETA: 22s - loss: 1.2499 - acc: 0.5939"
     ]
    },
    {
     "name": "stdout",
     "output_type": "stream",
     "text": [
      "238/237 [==============================] - ETA: 21s - loss: 1.2503 - acc: 0.59 - ETA: 21s - loss: 1.2505 - acc: 0.59 - ETA: 20s - loss: 1.2503 - acc: 0.59 - ETA: 19s - loss: 1.2500 - acc: 0.59 - ETA: 18s - loss: 1.2489 - acc: 0.59 - ETA: 18s - loss: 1.2507 - acc: 0.59 - ETA: 17s - loss: 1.2490 - acc: 0.59 - ETA: 16s - loss: 1.2492 - acc: 0.59 - ETA: 15s - loss: 1.2481 - acc: 0.59 - ETA: 15s - loss: 1.2469 - acc: 0.59 - ETA: 14s - loss: 1.2463 - acc: 0.59 - ETA: 13s - loss: 1.2465 - acc: 0.59 - ETA: 12s - loss: 1.2470 - acc: 0.59 - ETA: 12s - loss: 1.2475 - acc: 0.59 - ETA: 11s - loss: 1.2470 - acc: 0.59 - ETA: 10s - loss: 1.2499 - acc: 0.59 - ETA: 9s - loss: 1.2506 - acc: 0.5921 - ETA: 9s - loss: 1.2496 - acc: 0.592 - ETA: 8s - loss: 1.2498 - acc: 0.592 - ETA: 7s - loss: 1.2490 - acc: 0.592 - ETA: 7s - loss: 1.2468 - acc: 0.592 - ETA: 6s - loss: 1.2451 - acc: 0.593 - ETA: 5s - loss: 1.2440 - acc: 0.593 - ETA: 4s - loss: 1.2434 - acc: 0.593 - ETA: 4s - loss: 1.2434 - acc: 0.593 - ETA: 3s - loss: 1.2422 - acc: 0.593 - ETA: 2s - loss: 1.2433 - acc: 0.593 - ETA: 1s - loss: 1.2432 - acc: 0.593 - ETA: 1s - loss: 1.2422 - acc: 0.593 - ETA: 0s - loss: 1.2426 - acc: 0.593 - 198s 830ms/step - loss: 1.2423 - acc: 0.5935 - val_loss: 1.7861 - val_acc: 0.3789\n",
      "Epoch 7/10\n"
     ]
    },
    {
     "name": "stdout",
     "output_type": "stream",
     "text": [
      "207/237 [=========================>....] - ETA: 2:55 - loss: 1.2404 - acc: 0.562 - ETA: 2:50 - loss: 1.0916 - acc: 0.625 - ETA: 2:49 - loss: 1.0696 - acc: 0.666 - ETA: 2:48 - loss: 1.1574 - acc: 0.640 - ETA: 2:49 - loss: 1.1923 - acc: 0.612 - ETA: 2:48 - loss: 1.1218 - acc: 0.625 - ETA: 2:49 - loss: 1.0725 - acc: 0.660 - ETA: 2:48 - loss: 1.1160 - acc: 0.632 - ETA: 2:47 - loss: 1.1673 - acc: 0.625 - ETA: 2:47 - loss: 1.1790 - acc: 0.625 - ETA: 2:46 - loss: 1.1752 - acc: 0.625 - ETA: 2:45 - loss: 1.1749 - acc: 0.625 - ETA: 2:44 - loss: 1.1590 - acc: 0.625 - ETA: 2:44 - loss: 1.1356 - acc: 0.633 - ETA: 2:43 - loss: 1.1389 - acc: 0.629 - ETA: 2:42 - loss: 1.1501 - acc: 0.625 - ETA: 2:42 - loss: 1.1564 - acc: 0.614 - ETA: 2:41 - loss: 1.1768 - acc: 0.607 - ETA: 2:40 - loss: 1.1649 - acc: 0.611 - ETA: 2:39 - loss: 1.1599 - acc: 0.612 - ETA: 2:39 - loss: 1.1708 - acc: 0.616 - ETA: 2:38 - loss: 1.1574 - acc: 0.613 - ETA: 2:37 - loss: 1.1583 - acc: 0.616 - ETA: 2:37 - loss: 1.1659 - acc: 0.614 - ETA: 2:36 - loss: 1.1890 - acc: 0.605 - ETA: 2:36 - loss: 1.1931 - acc: 0.601 - ETA: 2:35 - loss: 1.1779 - acc: 0.611 - ETA: 2:34 - loss: 1.1651 - acc: 0.616 - ETA: 2:34 - loss: 1.1604 - acc: 0.616 - ETA: 2:33 - loss: 1.1486 - acc: 0.622 - ETA: 2:32 - loss: 1.1539 - acc: 0.621 - ETA: 2:32 - loss: 1.1534 - acc: 0.621 - ETA: 2:31 - loss: 1.1630 - acc: 0.621 - ETA: 2:30 - loss: 1.1650 - acc: 0.619 - ETA: 2:30 - loss: 1.1673 - acc: 0.619 - ETA: 2:29 - loss: 1.1701 - acc: 0.619 - ETA: 2:28 - loss: 1.1637 - acc: 0.625 - ETA: 2:27 - loss: 1.1544 - acc: 0.629 - ETA: 2:27 - loss: 1.1534 - acc: 0.629 - ETA: 2:26 - loss: 1.1578 - acc: 0.626 - ETA: 2:25 - loss: 1.1466 - acc: 0.632 - ETA: 2:24 - loss: 1.1477 - acc: 0.631 - ETA: 2:23 - loss: 1.1482 - acc: 0.630 - ETA: 2:23 - loss: 1.1596 - acc: 0.626 - ETA: 2:22 - loss: 1.1636 - acc: 0.623 - ETA: 2:21 - loss: 1.1636 - acc: 0.618 - ETA: 2:20 - loss: 1.1608 - acc: 0.618 - ETA: 2:20 - loss: 1.1603 - acc: 0.617 - ETA: 2:19 - loss: 1.1603 - acc: 0.616 - ETA: 2:18 - loss: 1.1778 - acc: 0.608 - ETA: 2:17 - loss: 1.1761 - acc: 0.610 - ETA: 2:17 - loss: 1.1702 - acc: 0.614 - ETA: 2:16 - loss: 1.1746 - acc: 0.613 - ETA: 2:15 - loss: 1.1691 - acc: 0.615 - ETA: 2:14 - loss: 1.1787 - acc: 0.611 - ETA: 2:14 - loss: 1.1771 - acc: 0.613 - ETA: 2:13 - loss: 1.1740 - acc: 0.617 - ETA: 2:12 - loss: 1.1687 - acc: 0.619 - ETA: 2:11 - loss: 1.1690 - acc: 0.618 - ETA: 2:11 - loss: 1.1646 - acc: 0.620 - ETA: 2:10 - loss: 1.1621 - acc: 0.621 - ETA: 2:09 - loss: 1.1640 - acc: 0.622 - ETA: 2:08 - loss: 1.1644 - acc: 0.622 - ETA: 2:08 - loss: 1.1662 - acc: 0.621 - ETA: 2:07 - loss: 1.1675 - acc: 0.620 - ETA: 2:06 - loss: 1.1724 - acc: 0.619 - ETA: 2:05 - loss: 1.1694 - acc: 0.620 - ETA: 2:05 - loss: 1.1683 - acc: 0.619 - ETA: 2:04 - loss: 1.1634 - acc: 0.621 - ETA: 2:03 - loss: 1.1619 - acc: 0.623 - ETA: 2:02 - loss: 1.1631 - acc: 0.623 - ETA: 2:02 - loss: 1.1616 - acc: 0.624 - ETA: 2:01 - loss: 1.1666 - acc: 0.619 - ETA: 2:00 - loss: 1.1698 - acc: 0.619 - ETA: 1:59 - loss: 1.1668 - acc: 0.620 - ETA: 1:59 - loss: 1.1645 - acc: 0.620 - ETA: 1:58 - loss: 1.1675 - acc: 0.620 - ETA: 1:57 - loss: 1.1695 - acc: 0.621 - ETA: 1:56 - loss: 1.1776 - acc: 0.619 - ETA: 1:56 - loss: 1.1754 - acc: 0.620 - ETA: 1:55 - loss: 1.1763 - acc: 0.618 - ETA: 1:54 - loss: 1.1795 - acc: 0.618 - ETA: 1:54 - loss: 1.1843 - acc: 0.616 - ETA: 1:53 - loss: 1.1872 - acc: 0.614 - ETA: 1:52 - loss: 1.1860 - acc: 0.616 - ETA: 1:51 - loss: 1.1811 - acc: 0.618 - ETA: 1:51 - loss: 1.1816 - acc: 0.618 - ETA: 1:50 - loss: 1.1801 - acc: 0.618 - ETA: 1:49 - loss: 1.1800 - acc: 0.617 - ETA: 1:48 - loss: 1.1810 - acc: 0.616 - ETA: 1:48 - loss: 1.1767 - acc: 0.618 - ETA: 1:47 - loss: 1.1752 - acc: 0.620 - ETA: 1:46 - loss: 1.1775 - acc: 0.619 - ETA: 1:45 - loss: 1.1751 - acc: 0.621 - ETA: 1:45 - loss: 1.1712 - acc: 0.623 - ETA: 1:44 - loss: 1.1741 - acc: 0.621 - ETA: 1:43 - loss: 1.1698 - acc: 0.622 - ETA: 1:42 - loss: 1.1702 - acc: 0.621 - ETA: 1:42 - loss: 1.1711 - acc: 0.619 - ETA: 1:41 - loss: 1.1741 - acc: 0.619 - ETA: 1:40 - loss: 1.1731 - acc: 0.618 - ETA: 1:40 - loss: 1.1747 - acc: 0.617 - ETA: 1:39 - loss: 1.1749 - acc: 0.617 - ETA: 1:38 - loss: 1.1748 - acc: 0.617 - ETA: 1:37 - loss: 1.1739 - acc: 0.616 - ETA: 1:37 - loss: 1.1735 - acc: 0.617 - ETA: 1:36 - loss: 1.1746 - acc: 0.617 - ETA: 1:35 - loss: 1.1760 - acc: 0.618 - ETA: 1:34 - loss: 1.1736 - acc: 0.618 - ETA: 1:34 - loss: 1.1733 - acc: 0.619 - ETA: 1:33 - loss: 1.1709 - acc: 0.618 - ETA: 1:32 - loss: 1.1679 - acc: 0.620 - ETA: 1:31 - loss: 1.1669 - acc: 0.620 - ETA: 1:31 - loss: 1.1657 - acc: 0.619 - ETA: 1:30 - loss: 1.1649 - acc: 0.620 - ETA: 1:29 - loss: 1.1656 - acc: 0.619 - ETA: 1:28 - loss: 1.1663 - acc: 0.619 - ETA: 1:28 - loss: 1.1645 - acc: 0.619 - ETA: 1:27 - loss: 1.1648 - acc: 0.619 - ETA: 1:26 - loss: 1.1702 - acc: 0.617 - ETA: 1:25 - loss: 1.1724 - acc: 0.616 - ETA: 1:25 - loss: 1.1727 - acc: 0.616 - ETA: 1:24 - loss: 1.1723 - acc: 0.616 - ETA: 1:23 - loss: 1.1709 - acc: 0.617 - ETA: 1:23 - loss: 1.1738 - acc: 0.615 - ETA: 1:22 - loss: 1.1741 - acc: 0.615 - ETA: 1:21 - loss: 1.1777 - acc: 0.613 - ETA: 1:20 - loss: 1.1790 - acc: 0.613 - ETA: 1:20 - loss: 1.1794 - acc: 0.613 - ETA: 1:19 - loss: 1.1809 - acc: 0.612 - ETA: 1:18 - loss: 1.1832 - acc: 0.610 - ETA: 1:17 - loss: 1.1812 - acc: 0.612 - ETA: 1:17 - loss: 1.1784 - acc: 0.613 - ETA: 1:16 - loss: 1.1783 - acc: 0.612 - ETA: 1:15 - loss: 1.1780 - acc: 0.612 - ETA: 1:14 - loss: 1.1799 - acc: 0.611 - ETA: 1:14 - loss: 1.1838 - acc: 0.609 - ETA: 1:13 - loss: 1.1843 - acc: 0.609 - ETA: 1:12 - loss: 1.1875 - acc: 0.608 - ETA: 1:11 - loss: 1.1871 - acc: 0.608 - ETA: 1:11 - loss: 1.1884 - acc: 0.608 - ETA: 1:10 - loss: 1.1882 - acc: 0.609 - ETA: 1:09 - loss: 1.1884 - acc: 0.609 - ETA: 1:09 - loss: 1.1899 - acc: 0.609 - ETA: 1:08 - loss: 1.1892 - acc: 0.610 - ETA: 1:07 - loss: 1.1884 - acc: 0.610 - ETA: 1:06 - loss: 1.1895 - acc: 0.609 - ETA: 1:06 - loss: 1.1855 - acc: 0.611 - ETA: 1:05 - loss: 1.1827 - acc: 0.612 - ETA: 1:04 - loss: 1.1802 - acc: 0.612 - ETA: 1:03 - loss: 1.1778 - acc: 0.614 - ETA: 1:03 - loss: 1.1825 - acc: 0.613 - ETA: 1:02 - loss: 1.1839 - acc: 0.612 - ETA: 1:01 - loss: 1.1865 - acc: 0.612 - ETA: 1:00 - loss: 1.1890 - acc: 0.611 - ETA: 1:00 - loss: 1.1853 - acc: 0.613 - ETA: 59s - loss: 1.1869 - acc: 0.611 - ETA: 58s - loss: 1.1839 - acc: 0.61 - ETA: 57s - loss: 1.1854 - acc: 0.61 - ETA: 57s - loss: 1.1866 - acc: 0.61 - ETA: 56s - loss: 1.1880 - acc: 0.61 - ETA: 55s - loss: 1.1903 - acc: 0.61 - ETA: 55s - loss: 1.1897 - acc: 0.61 - ETA: 54s - loss: 1.1886 - acc: 0.61 - ETA: 53s - loss: 1.1882 - acc: 0.61 - ETA: 52s - loss: 1.1907 - acc: 0.61 - ETA: 51s - loss: 1.1899 - acc: 0.61 - ETA: 51s - loss: 1.1881 - acc: 0.61 - ETA: 50s - loss: 1.1874 - acc: 0.61 - ETA: 49s - loss: 1.1865 - acc: 0.61 - ETA: 48s - loss: 1.1856 - acc: 0.61 - ETA: 48s - loss: 1.1847 - acc: 0.61 - ETA: 47s - loss: 1.1837 - acc: 0.61 - ETA: 46s - loss: 1.1832 - acc: 0.61 - ETA: 46s - loss: 1.1826 - acc: 0.61 - ETA: 45s - loss: 1.1807 - acc: 0.61 - ETA: 44s - loss: 1.1803 - acc: 0.61 - ETA: 43s - loss: 1.1802 - acc: 0.61 - ETA: 43s - loss: 1.1800 - acc: 0.61 - ETA: 42s - loss: 1.1786 - acc: 0.61 - ETA: 41s - loss: 1.1773 - acc: 0.61 - ETA: 40s - loss: 1.1743 - acc: 0.61 - ETA: 40s - loss: 1.1726 - acc: 0.61 - ETA: 39s - loss: 1.1740 - acc: 0.61 - ETA: 38s - loss: 1.1724 - acc: 0.61 - ETA: 37s - loss: 1.1712 - acc: 0.61 - ETA: 37s - loss: 1.1717 - acc: 0.61 - ETA: 36s - loss: 1.1727 - acc: 0.61 - ETA: 35s - loss: 1.1723 - acc: 0.61 - ETA: 35s - loss: 1.1704 - acc: 0.61 - ETA: 34s - loss: 1.1710 - acc: 0.61 - ETA: 33s - loss: 1.1701 - acc: 0.61 - ETA: 32s - loss: 1.1695 - acc: 0.61 - ETA: 32s - loss: 1.1685 - acc: 0.61 - ETA: 31s - loss: 1.1692 - acc: 0.61 - ETA: 30s - loss: 1.1683 - acc: 0.61 - ETA: 29s - loss: 1.1673 - acc: 0.61 - ETA: 29s - loss: 1.1668 - acc: 0.61 - ETA: 28s - loss: 1.1655 - acc: 0.62 - ETA: 27s - loss: 1.1667 - acc: 0.62 - ETA: 26s - loss: 1.1686 - acc: 0.62 - ETA: 26s - loss: 1.1670 - acc: 0.61 - ETA: 25s - loss: 1.1659 - acc: 0.62 - ETA: 24s - loss: 1.1647 - acc: 0.62 - ETA: 23s - loss: 1.1644 - acc: 0.62 - ETA: 23s - loss: 1.1628 - acc: 0.62 - ETA: 22s - loss: 1.1627 - acc: 0.6211"
     ]
    },
    {
     "name": "stdout",
     "output_type": "stream",
     "text": [
      "238/237 [==============================] - ETA: 21s - loss: 1.1640 - acc: 0.62 - ETA: 21s - loss: 1.1674 - acc: 0.61 - ETA: 20s - loss: 1.1669 - acc: 0.61 - ETA: 19s - loss: 1.1695 - acc: 0.61 - ETA: 18s - loss: 1.1701 - acc: 0.61 - ETA: 18s - loss: 1.1706 - acc: 0.61 - ETA: 17s - loss: 1.1714 - acc: 0.61 - ETA: 16s - loss: 1.1691 - acc: 0.61 - ETA: 15s - loss: 1.1682 - acc: 0.61 - ETA: 15s - loss: 1.1683 - acc: 0.61 - ETA: 14s - loss: 1.1686 - acc: 0.61 - ETA: 13s - loss: 1.1685 - acc: 0.61 - ETA: 12s - loss: 1.1682 - acc: 0.61 - ETA: 12s - loss: 1.1669 - acc: 0.61 - ETA: 11s - loss: 1.1658 - acc: 0.61 - ETA: 10s - loss: 1.1649 - acc: 0.61 - ETA: 9s - loss: 1.1650 - acc: 0.6189 - ETA: 9s - loss: 1.1657 - acc: 0.618 - ETA: 8s - loss: 1.1652 - acc: 0.619 - ETA: 7s - loss: 1.1648 - acc: 0.619 - ETA: 6s - loss: 1.1648 - acc: 0.619 - ETA: 6s - loss: 1.1640 - acc: 0.619 - ETA: 5s - loss: 1.1635 - acc: 0.619 - ETA: 4s - loss: 1.1649 - acc: 0.619 - ETA: 4s - loss: 1.1654 - acc: 0.618 - ETA: 3s - loss: 1.1636 - acc: 0.619 - ETA: 2s - loss: 1.1633 - acc: 0.619 - ETA: 1s - loss: 1.1639 - acc: 0.618 - ETA: 1s - loss: 1.1637 - acc: 0.618 - ETA: 0s - loss: 1.1621 - acc: 0.619 - 197s 829ms/step - loss: 1.1650 - acc: 0.6182 - val_loss: 1.3585 - val_acc: 0.5747\n",
      "Epoch 8/10\n"
     ]
    },
    {
     "name": "stdout",
     "output_type": "stream",
     "text": [
      "207/237 [=========================>....] - ETA: 2:55 - loss: 0.9808 - acc: 0.687 - ETA: 2:53 - loss: 1.0755 - acc: 0.656 - ETA: 2:51 - loss: 1.2295 - acc: 0.583 - ETA: 2:51 - loss: 1.1391 - acc: 0.640 - ETA: 2:52 - loss: 1.1923 - acc: 0.650 - ETA: 2:52 - loss: 1.1284 - acc: 0.656 - ETA: 2:52 - loss: 1.1312 - acc: 0.633 - ETA: 2:51 - loss: 1.1105 - acc: 0.632 - ETA: 2:50 - loss: 1.0999 - acc: 0.645 - ETA: 2:49 - loss: 1.1007 - acc: 0.656 - ETA: 2:48 - loss: 1.0796 - acc: 0.659 - ETA: 2:47 - loss: 1.0697 - acc: 0.661 - ETA: 2:46 - loss: 1.0561 - acc: 0.658 - ETA: 2:45 - loss: 1.0458 - acc: 0.669 - ETA: 2:44 - loss: 1.0683 - acc: 0.658 - ETA: 2:44 - loss: 1.0459 - acc: 0.668 - ETA: 2:43 - loss: 1.0447 - acc: 0.669 - ETA: 2:42 - loss: 1.0296 - acc: 0.677 - ETA: 2:41 - loss: 1.0280 - acc: 0.674 - ETA: 2:40 - loss: 1.0371 - acc: 0.668 - ETA: 2:40 - loss: 1.0453 - acc: 0.669 - ETA: 2:39 - loss: 1.0392 - acc: 0.676 - ETA: 2:39 - loss: 1.0480 - acc: 0.668 - ETA: 2:38 - loss: 1.0589 - acc: 0.661 - ETA: 2:37 - loss: 1.0595 - acc: 0.665 - ETA: 2:36 - loss: 1.0645 - acc: 0.668 - ETA: 2:36 - loss: 1.0601 - acc: 0.671 - ETA: 2:35 - loss: 1.0665 - acc: 0.669 - ETA: 2:34 - loss: 1.0829 - acc: 0.657 - ETA: 2:34 - loss: 1.0737 - acc: 0.658 - ETA: 2:33 - loss: 1.0815 - acc: 0.655 - ETA: 2:32 - loss: 1.0940 - acc: 0.652 - ETA: 2:31 - loss: 1.0852 - acc: 0.655 - ETA: 2:31 - loss: 1.0755 - acc: 0.658 - ETA: 2:30 - loss: 1.0681 - acc: 0.660 - ETA: 2:29 - loss: 1.0675 - acc: 0.659 - ETA: 2:29 - loss: 1.0798 - acc: 0.655 - ETA: 2:28 - loss: 1.0783 - acc: 0.656 - ETA: 2:27 - loss: 1.0914 - acc: 0.652 - ETA: 2:26 - loss: 1.0943 - acc: 0.651 - ETA: 2:26 - loss: 1.0895 - acc: 0.652 - ETA: 2:25 - loss: 1.0824 - acc: 0.654 - ETA: 2:24 - loss: 1.0735 - acc: 0.657 - ETA: 2:23 - loss: 1.0798 - acc: 0.653 - ETA: 2:23 - loss: 1.0721 - acc: 0.655 - ETA: 2:22 - loss: 1.0767 - acc: 0.652 - ETA: 2:21 - loss: 1.0872 - acc: 0.644 - ETA: 2:20 - loss: 1.0874 - acc: 0.643 - ETA: 2:19 - loss: 1.0913 - acc: 0.640 - ETA: 2:19 - loss: 1.0877 - acc: 0.642 - ETA: 2:18 - loss: 1.0852 - acc: 0.642 - ETA: 2:17 - loss: 1.0819 - acc: 0.640 - ETA: 2:17 - loss: 1.0833 - acc: 0.639 - ETA: 2:16 - loss: 1.0884 - acc: 0.637 - ETA: 2:15 - loss: 1.0884 - acc: 0.636 - ETA: 2:14 - loss: 1.0854 - acc: 0.636 - ETA: 2:14 - loss: 1.0826 - acc: 0.638 - ETA: 2:13 - loss: 1.0862 - acc: 0.636 - ETA: 2:12 - loss: 1.0800 - acc: 0.640 - ETA: 2:11 - loss: 1.0866 - acc: 0.636 - ETA: 2:11 - loss: 1.0821 - acc: 0.639 - ETA: 2:10 - loss: 1.0882 - acc: 0.638 - ETA: 2:09 - loss: 1.0901 - acc: 0.635 - ETA: 2:08 - loss: 1.0866 - acc: 0.638 - ETA: 2:08 - loss: 1.0844 - acc: 0.639 - ETA: 2:07 - loss: 1.0823 - acc: 0.640 - ETA: 2:06 - loss: 1.0816 - acc: 0.641 - ETA: 2:05 - loss: 1.0855 - acc: 0.641 - ETA: 2:05 - loss: 1.0879 - acc: 0.641 - ETA: 2:04 - loss: 1.0838 - acc: 0.642 - ETA: 2:03 - loss: 1.0802 - acc: 0.644 - ETA: 2:03 - loss: 1.0812 - acc: 0.643 - ETA: 2:02 - loss: 1.0810 - acc: 0.643 - ETA: 2:01 - loss: 1.0840 - acc: 0.643 - ETA: 2:00 - loss: 1.0870 - acc: 0.644 - ETA: 2:00 - loss: 1.0865 - acc: 0.643 - ETA: 1:59 - loss: 1.0919 - acc: 0.642 - ETA: 1:58 - loss: 1.0935 - acc: 0.641 - ETA: 1:57 - loss: 1.0981 - acc: 0.639 - ETA: 1:57 - loss: 1.0963 - acc: 0.640 - ETA: 1:56 - loss: 1.0972 - acc: 0.641 - ETA: 1:55 - loss: 1.0932 - acc: 0.642 - ETA: 1:54 - loss: 1.0916 - acc: 0.642 - ETA: 1:54 - loss: 1.0924 - acc: 0.639 - ETA: 1:53 - loss: 1.0912 - acc: 0.639 - ETA: 1:52 - loss: 1.0960 - acc: 0.636 - ETA: 1:52 - loss: 1.1025 - acc: 0.635 - ETA: 1:51 - loss: 1.1011 - acc: 0.635 - ETA: 1:50 - loss: 1.0981 - acc: 0.637 - ETA: 1:49 - loss: 1.0945 - acc: 0.638 - ETA: 1:49 - loss: 1.0973 - acc: 0.637 - ETA: 1:48 - loss: 1.0966 - acc: 0.637 - ETA: 1:47 - loss: 1.0999 - acc: 0.635 - ETA: 1:46 - loss: 1.0992 - acc: 0.635 - ETA: 1:46 - loss: 1.1014 - acc: 0.633 - ETA: 1:45 - loss: 1.0998 - acc: 0.634 - ETA: 1:44 - loss: 1.1009 - acc: 0.634 - ETA: 1:44 - loss: 1.0998 - acc: 0.635 - ETA: 1:43 - loss: 1.1036 - acc: 0.635 - ETA: 1:42 - loss: 1.1059 - acc: 0.633 - ETA: 1:42 - loss: 1.1064 - acc: 0.634 - ETA: 1:41 - loss: 1.1088 - acc: 0.633 - ETA: 1:41 - loss: 1.1065 - acc: 0.634 - ETA: 1:40 - loss: 1.1111 - acc: 0.632 - ETA: 1:39 - loss: 1.1137 - acc: 0.631 - ETA: 1:39 - loss: 1.1122 - acc: 0.630 - ETA: 1:38 - loss: 1.1119 - acc: 0.630 - ETA: 1:37 - loss: 1.1138 - acc: 0.628 - ETA: 1:36 - loss: 1.1124 - acc: 0.629 - ETA: 1:36 - loss: 1.1079 - acc: 0.631 - ETA: 1:35 - loss: 1.1102 - acc: 0.630 - ETA: 1:34 - loss: 1.1125 - acc: 0.628 - ETA: 1:33 - loss: 1.1095 - acc: 0.628 - ETA: 1:32 - loss: 1.1105 - acc: 0.629 - ETA: 1:32 - loss: 1.1116 - acc: 0.629 - ETA: 1:31 - loss: 1.1096 - acc: 0.630 - ETA: 1:30 - loss: 1.1095 - acc: 0.629 - ETA: 1:29 - loss: 1.1069 - acc: 0.630 - ETA: 1:29 - loss: 1.1038 - acc: 0.632 - ETA: 1:28 - loss: 1.1061 - acc: 0.631 - ETA: 1:27 - loss: 1.1043 - acc: 0.632 - ETA: 1:26 - loss: 1.1025 - acc: 0.632 - ETA: 1:26 - loss: 1.0998 - acc: 0.633 - ETA: 1:25 - loss: 1.0976 - acc: 0.635 - ETA: 1:24 - loss: 1.0949 - acc: 0.636 - ETA: 1:23 - loss: 1.0957 - acc: 0.636 - ETA: 1:22 - loss: 1.0924 - acc: 0.638 - ETA: 1:22 - loss: 1.0913 - acc: 0.639 - ETA: 1:21 - loss: 1.0910 - acc: 0.639 - ETA: 1:20 - loss: 1.0904 - acc: 0.639 - ETA: 1:19 - loss: 1.0900 - acc: 0.638 - ETA: 1:19 - loss: 1.0943 - acc: 0.636 - ETA: 1:18 - loss: 1.0942 - acc: 0.636 - ETA: 1:17 - loss: 1.0973 - acc: 0.635 - ETA: 1:17 - loss: 1.0991 - acc: 0.633 - ETA: 1:16 - loss: 1.0970 - acc: 0.633 - ETA: 1:15 - loss: 1.0983 - acc: 0.632 - ETA: 1:14 - loss: 1.0953 - acc: 0.633 - ETA: 1:14 - loss: 1.0935 - acc: 0.634 - ETA: 1:13 - loss: 1.0939 - acc: 0.634 - ETA: 1:12 - loss: 1.0937 - acc: 0.634 - ETA: 1:11 - loss: 1.0978 - acc: 0.633 - ETA: 1:11 - loss: 1.0966 - acc: 0.633 - ETA: 1:10 - loss: 1.0962 - acc: 0.633 - ETA: 1:09 - loss: 1.0941 - acc: 0.634 - ETA: 1:08 - loss: 1.0935 - acc: 0.634 - ETA: 1:08 - loss: 1.0969 - acc: 0.632 - ETA: 1:07 - loss: 1.0968 - acc: 0.631 - ETA: 1:06 - loss: 1.0938 - acc: 0.632 - ETA: 1:05 - loss: 1.0954 - acc: 0.631 - ETA: 1:05 - loss: 1.0976 - acc: 0.630 - ETA: 1:04 - loss: 1.0965 - acc: 0.631 - ETA: 1:03 - loss: 1.0954 - acc: 0.631 - ETA: 1:02 - loss: 1.0952 - acc: 0.632 - ETA: 1:02 - loss: 1.0935 - acc: 0.631 - ETA: 1:01 - loss: 1.0923 - acc: 0.631 - ETA: 1:00 - loss: 1.0906 - acc: 0.633 - ETA: 59s - loss: 1.0912 - acc: 0.632 - ETA: 59s - loss: 1.0940 - acc: 0.63 - ETA: 58s - loss: 1.0957 - acc: 0.63 - ETA: 57s - loss: 1.0959 - acc: 0.63 - ETA: 56s - loss: 1.0961 - acc: 0.63 - ETA: 56s - loss: 1.0970 - acc: 0.63 - ETA: 55s - loss: 1.0966 - acc: 0.63 - ETA: 54s - loss: 1.0971 - acc: 0.63 - ETA: 53s - loss: 1.0961 - acc: 0.63 - ETA: 53s - loss: 1.0954 - acc: 0.63 - ETA: 52s - loss: 1.0950 - acc: 0.63 - ETA: 51s - loss: 1.0964 - acc: 0.63 - ETA: 50s - loss: 1.0964 - acc: 0.63 - ETA: 50s - loss: 1.0954 - acc: 0.63 - ETA: 49s - loss: 1.0955 - acc: 0.63 - ETA: 48s - loss: 1.0934 - acc: 0.63 - ETA: 47s - loss: 1.0938 - acc: 0.63 - ETA: 46s - loss: 1.0931 - acc: 0.63 - ETA: 46s - loss: 1.0907 - acc: 0.63 - ETA: 45s - loss: 1.0894 - acc: 0.63 - ETA: 44s - loss: 1.0913 - acc: 0.63 - ETA: 43s - loss: 1.0915 - acc: 0.63 - ETA: 43s - loss: 1.0917 - acc: 0.63 - ETA: 42s - loss: 1.0939 - acc: 0.63 - ETA: 41s - loss: 1.0940 - acc: 0.63 - ETA: 40s - loss: 1.0952 - acc: 0.63 - ETA: 40s - loss: 1.0944 - acc: 0.63 - ETA: 39s - loss: 1.0970 - acc: 0.63 - ETA: 38s - loss: 1.0985 - acc: 0.63 - ETA: 37s - loss: 1.0974 - acc: 0.63 - ETA: 37s - loss: 1.0961 - acc: 0.63 - ETA: 36s - loss: 1.0959 - acc: 0.63 - ETA: 35s - loss: 1.0968 - acc: 0.63 - ETA: 34s - loss: 1.0989 - acc: 0.63 - ETA: 34s - loss: 1.0989 - acc: 0.63 - ETA: 33s - loss: 1.0998 - acc: 0.63 - ETA: 32s - loss: 1.0976 - acc: 0.63 - ETA: 31s - loss: 1.0969 - acc: 0.63 - ETA: 31s - loss: 1.0956 - acc: 0.63 - ETA: 30s - loss: 1.0934 - acc: 0.63 - ETA: 29s - loss: 1.0939 - acc: 0.63 - ETA: 28s - loss: 1.0926 - acc: 0.63 - ETA: 28s - loss: 1.0921 - acc: 0.63 - ETA: 27s - loss: 1.0911 - acc: 0.63 - ETA: 26s - loss: 1.0912 - acc: 0.63 - ETA: 25s - loss: 1.0899 - acc: 0.63 - ETA: 25s - loss: 1.0917 - acc: 0.63 - ETA: 24s - loss: 1.0919 - acc: 0.63 - ETA: 23s - loss: 1.0928 - acc: 0.63 - ETA: 22s - loss: 1.0941 - acc: 0.6392"
     ]
    },
    {
     "name": "stdout",
     "output_type": "stream",
     "text": [
      "238/237 [==============================] - ETA: 22s - loss: 1.0923 - acc: 0.64 - ETA: 21s - loss: 1.0939 - acc: 0.63 - ETA: 20s - loss: 1.0951 - acc: 0.63 - ETA: 19s - loss: 1.0932 - acc: 0.64 - ETA: 19s - loss: 1.0939 - acc: 0.64 - ETA: 18s - loss: 1.0949 - acc: 0.64 - ETA: 17s - loss: 1.0953 - acc: 0.64 - ETA: 16s - loss: 1.0948 - acc: 0.64 - ETA: 16s - loss: 1.0948 - acc: 0.64 - ETA: 15s - loss: 1.0939 - acc: 0.64 - ETA: 14s - loss: 1.0945 - acc: 0.63 - ETA: 13s - loss: 1.0927 - acc: 0.64 - ETA: 13s - loss: 1.0920 - acc: 0.64 - ETA: 12s - loss: 1.0916 - acc: 0.64 - ETA: 11s - loss: 1.0911 - acc: 0.64 - ETA: 10s - loss: 1.0914 - acc: 0.64 - ETA: 10s - loss: 1.0921 - acc: 0.64 - ETA: 9s - loss: 1.0941 - acc: 0.6417 - ETA: 8s - loss: 1.0940 - acc: 0.641 - ETA: 7s - loss: 1.0935 - acc: 0.642 - ETA: 7s - loss: 1.0939 - acc: 0.641 - ETA: 6s - loss: 1.0971 - acc: 0.640 - ETA: 5s - loss: 1.0997 - acc: 0.639 - ETA: 4s - loss: 1.0986 - acc: 0.639 - ETA: 4s - loss: 1.0993 - acc: 0.639 - ETA: 3s - loss: 1.0987 - acc: 0.638 - ETA: 2s - loss: 1.0969 - acc: 0.639 - ETA: 1s - loss: 1.0969 - acc: 0.639 - ETA: 1s - loss: 1.0969 - acc: 0.639 - ETA: 0s - loss: 1.0982 - acc: 0.639 - 200s 839ms/step - loss: 1.0973 - acc: 0.6392 - val_loss: 0.8982 - val_acc: 0.6968\n",
      "Epoch 9/10\n"
     ]
    },
    {
     "name": "stdout",
     "output_type": "stream",
     "text": [
      "207/237 [=========================>....] - ETA: 2:49 - loss: 0.8968 - acc: 0.687 - ETA: 2:51 - loss: 0.9066 - acc: 0.718 - ETA: 2:50 - loss: 1.0130 - acc: 0.666 - ETA: 2:50 - loss: 1.0526 - acc: 0.671 - ETA: 2:50 - loss: 1.0813 - acc: 0.662 - ETA: 2:49 - loss: 1.0339 - acc: 0.677 - ETA: 2:48 - loss: 0.9712 - acc: 0.696 - ETA: 2:48 - loss: 0.9893 - acc: 0.687 - ETA: 2:48 - loss: 1.0440 - acc: 0.666 - ETA: 2:46 - loss: 1.0245 - acc: 0.675 - ETA: 2:46 - loss: 1.0015 - acc: 0.676 - ETA: 2:46 - loss: 1.0050 - acc: 0.671 - ETA: 2:46 - loss: 0.9966 - acc: 0.673 - ETA: 2:48 - loss: 0.9973 - acc: 0.669 - ETA: 2:48 - loss: 1.0109 - acc: 0.666 - ETA: 2:48 - loss: 1.0091 - acc: 0.671 - ETA: 2:48 - loss: 1.0098 - acc: 0.669 - ETA: 2:50 - loss: 1.0068 - acc: 0.673 - ETA: 2:50 - loss: 0.9933 - acc: 0.684 - ETA: 2:49 - loss: 0.9714 - acc: 0.696 - ETA: 2:48 - loss: 0.9639 - acc: 0.702 - ETA: 2:47 - loss: 0.9624 - acc: 0.698 - ETA: 2:46 - loss: 0.9760 - acc: 0.692 - ETA: 2:45 - loss: 0.9736 - acc: 0.690 - ETA: 2:44 - loss: 0.9699 - acc: 0.692 - ETA: 2:43 - loss: 0.9831 - acc: 0.687 - ETA: 2:42 - loss: 0.9958 - acc: 0.675 - ETA: 2:41 - loss: 1.0015 - acc: 0.676 - ETA: 2:40 - loss: 1.0092 - acc: 0.676 - ETA: 2:39 - loss: 0.9989 - acc: 0.681 - ETA: 2:38 - loss: 0.9948 - acc: 0.685 - ETA: 2:37 - loss: 0.9901 - acc: 0.687 - ETA: 2:36 - loss: 0.9968 - acc: 0.685 - ETA: 2:35 - loss: 0.9903 - acc: 0.689 - ETA: 2:34 - loss: 0.9866 - acc: 0.691 - ETA: 2:34 - loss: 0.9888 - acc: 0.691 - ETA: 2:33 - loss: 0.9856 - acc: 0.689 - ETA: 2:32 - loss: 0.9873 - acc: 0.690 - ETA: 2:31 - loss: 0.9811 - acc: 0.692 - ETA: 2:30 - loss: 0.9852 - acc: 0.692 - ETA: 2:29 - loss: 0.9899 - acc: 0.690 - ETA: 2:28 - loss: 0.9936 - acc: 0.687 - ETA: 2:28 - loss: 0.9978 - acc: 0.687 - ETA: 2:27 - loss: 0.9964 - acc: 0.687 - ETA: 2:26 - loss: 0.9991 - acc: 0.688 - ETA: 2:25 - loss: 1.0080 - acc: 0.684 - ETA: 2:24 - loss: 1.0159 - acc: 0.680 - ETA: 2:23 - loss: 1.0162 - acc: 0.679 - ETA: 2:23 - loss: 1.0313 - acc: 0.674 - ETA: 2:22 - loss: 1.0321 - acc: 0.672 - ETA: 2:21 - loss: 1.0356 - acc: 0.671 - ETA: 2:20 - loss: 1.0369 - acc: 0.671 - ETA: 2:19 - loss: 1.0408 - acc: 0.672 - ETA: 2:19 - loss: 1.0540 - acc: 0.666 - ETA: 2:18 - loss: 1.0586 - acc: 0.664 - ETA: 2:17 - loss: 1.0517 - acc: 0.668 - ETA: 2:16 - loss: 1.0482 - acc: 0.668 - ETA: 2:15 - loss: 1.0420 - acc: 0.670 - ETA: 2:15 - loss: 1.0463 - acc: 0.669 - ETA: 2:14 - loss: 1.0507 - acc: 0.666 - ETA: 2:13 - loss: 1.0471 - acc: 0.667 - ETA: 2:12 - loss: 1.0458 - acc: 0.665 - ETA: 2:11 - loss: 1.0530 - acc: 0.662 - ETA: 2:11 - loss: 1.0601 - acc: 0.659 - ETA: 2:10 - loss: 1.0597 - acc: 0.658 - ETA: 2:09 - loss: 1.0594 - acc: 0.658 - ETA: 2:08 - loss: 1.0574 - acc: 0.658 - ETA: 2:08 - loss: 1.0618 - acc: 0.657 - ETA: 2:07 - loss: 1.0567 - acc: 0.658 - ETA: 2:06 - loss: 1.0520 - acc: 0.661 - ETA: 2:05 - loss: 1.0500 - acc: 0.661 - ETA: 2:04 - loss: 1.0507 - acc: 0.659 - ETA: 2:04 - loss: 1.0478 - acc: 0.661 - ETA: 2:03 - loss: 1.0462 - acc: 0.663 - ETA: 2:02 - loss: 1.0588 - acc: 0.660 - ETA: 2:01 - loss: 1.0582 - acc: 0.661 - ETA: 2:00 - loss: 1.0568 - acc: 0.660 - ETA: 2:00 - loss: 1.0561 - acc: 0.661 - ETA: 1:59 - loss: 1.0588 - acc: 0.660 - ETA: 1:58 - loss: 1.0535 - acc: 0.662 - ETA: 1:57 - loss: 1.0514 - acc: 0.663 - ETA: 1:57 - loss: 1.0523 - acc: 0.663 - ETA: 1:56 - loss: 1.0534 - acc: 0.664 - ETA: 1:55 - loss: 1.0500 - acc: 0.665 - ETA: 1:54 - loss: 1.0511 - acc: 0.664 - ETA: 1:54 - loss: 1.0513 - acc: 0.663 - ETA: 1:52 - loss: 1.0510 - acc: 0.661 - ETA: 1:51 - loss: 1.0477 - acc: 0.661 - ETA: 1:51 - loss: 1.0513 - acc: 0.660 - ETA: 1:50 - loss: 1.0464 - acc: 0.664 - ETA: 1:49 - loss: 1.0480 - acc: 0.664 - ETA: 1:48 - loss: 1.0491 - acc: 0.665 - ETA: 1:48 - loss: 1.0470 - acc: 0.666 - ETA: 1:47 - loss: 1.0548 - acc: 0.664 - ETA: 1:46 - loss: 1.0550 - acc: 0.664 - ETA: 1:45 - loss: 1.0568 - acc: 0.664 - ETA: 1:45 - loss: 1.0543 - acc: 0.664 - ETA: 1:44 - loss: 1.0528 - acc: 0.666 - ETA: 1:43 - loss: 1.0524 - acc: 0.666 - ETA: 1:42 - loss: 1.0536 - acc: 0.665 - ETA: 1:42 - loss: 1.0503 - acc: 0.666 - ETA: 1:41 - loss: 1.0510 - acc: 0.666 - ETA: 1:40 - loss: 1.0509 - acc: 0.665 - ETA: 1:39 - loss: 1.0527 - acc: 0.664 - ETA: 1:39 - loss: 1.0544 - acc: 0.664 - ETA: 1:38 - loss: 1.0578 - acc: 0.662 - ETA: 1:37 - loss: 1.0585 - acc: 0.662 - ETA: 1:36 - loss: 1.0608 - acc: 0.661 - ETA: 1:36 - loss: 1.0642 - acc: 0.659 - ETA: 1:35 - loss: 1.0685 - acc: 0.658 - ETA: 1:34 - loss: 1.0689 - acc: 0.657 - ETA: 1:33 - loss: 1.0696 - acc: 0.656 - ETA: 1:33 - loss: 1.0671 - acc: 0.658 - ETA: 1:32 - loss: 1.0663 - acc: 0.659 - ETA: 1:31 - loss: 1.0675 - acc: 0.657 - ETA: 1:30 - loss: 1.0718 - acc: 0.656 - ETA: 1:30 - loss: 1.0705 - acc: 0.657 - ETA: 1:29 - loss: 1.0694 - acc: 0.657 - ETA: 1:28 - loss: 1.0731 - acc: 0.654 - ETA: 1:27 - loss: 1.0743 - acc: 0.653 - ETA: 1:27 - loss: 1.0748 - acc: 0.653 - ETA: 1:26 - loss: 1.0780 - acc: 0.653 - ETA: 1:25 - loss: 1.0759 - acc: 0.654 - ETA: 1:24 - loss: 1.0791 - acc: 0.653 - ETA: 1:24 - loss: 1.0800 - acc: 0.652 - ETA: 1:23 - loss: 1.0800 - acc: 0.652 - ETA: 1:22 - loss: 1.0801 - acc: 0.653 - ETA: 1:21 - loss: 1.0779 - acc: 0.653 - ETA: 1:21 - loss: 1.0773 - acc: 0.653 - ETA: 1:20 - loss: 1.0797 - acc: 0.652 - ETA: 1:19 - loss: 1.0814 - acc: 0.652 - ETA: 1:18 - loss: 1.0801 - acc: 0.652 - ETA: 1:18 - loss: 1.0831 - acc: 0.650 - ETA: 1:17 - loss: 1.0851 - acc: 0.649 - ETA: 1:16 - loss: 1.0827 - acc: 0.649 - ETA: 1:16 - loss: 1.0833 - acc: 0.649 - ETA: 1:15 - loss: 1.0810 - acc: 0.649 - ETA: 1:14 - loss: 1.0831 - acc: 0.649 - ETA: 1:13 - loss: 1.0808 - acc: 0.649 - ETA: 1:13 - loss: 1.0776 - acc: 0.650 - ETA: 1:12 - loss: 1.0775 - acc: 0.651 - ETA: 1:11 - loss: 1.0766 - acc: 0.651 - ETA: 1:10 - loss: 1.0790 - acc: 0.651 - ETA: 1:10 - loss: 1.0777 - acc: 0.651 - ETA: 1:09 - loss: 1.0753 - acc: 0.651 - ETA: 1:08 - loss: 1.0735 - acc: 0.652 - ETA: 1:07 - loss: 1.0737 - acc: 0.650 - ETA: 1:07 - loss: 1.0749 - acc: 0.650 - ETA: 1:06 - loss: 1.0751 - acc: 0.650 - ETA: 1:05 - loss: 1.0751 - acc: 0.650 - ETA: 1:05 - loss: 1.0755 - acc: 0.649 - ETA: 1:04 - loss: 1.0730 - acc: 0.650 - ETA: 1:03 - loss: 1.0715 - acc: 0.651 - ETA: 1:02 - loss: 1.0678 - acc: 0.653 - ETA: 1:02 - loss: 1.0696 - acc: 0.652 - ETA: 1:01 - loss: 1.0707 - acc: 0.652 - ETA: 1:00 - loss: 1.0704 - acc: 0.652 - ETA: 59s - loss: 1.0690 - acc: 0.653 - ETA: 59s - loss: 1.0672 - acc: 0.65 - ETA: 58s - loss: 1.0659 - acc: 0.65 - ETA: 57s - loss: 1.0633 - acc: 0.65 - ETA: 56s - loss: 1.0616 - acc: 0.65 - ETA: 55s - loss: 1.0596 - acc: 0.65 - ETA: 55s - loss: 1.0581 - acc: 0.65 - ETA: 54s - loss: 1.0601 - acc: 0.65 - ETA: 53s - loss: 1.0606 - acc: 0.65 - ETA: 52s - loss: 1.0599 - acc: 0.65 - ETA: 52s - loss: 1.0585 - acc: 0.65 - ETA: 51s - loss: 1.0576 - acc: 0.65 - ETA: 50s - loss: 1.0569 - acc: 0.65 - ETA: 49s - loss: 1.0554 - acc: 0.65 - ETA: 49s - loss: 1.0544 - acc: 0.65 - ETA: 48s - loss: 1.0536 - acc: 0.65 - ETA: 47s - loss: 1.0525 - acc: 0.65 - ETA: 46s - loss: 1.0529 - acc: 0.65 - ETA: 46s - loss: 1.0524 - acc: 0.65 - ETA: 45s - loss: 1.0532 - acc: 0.65 - ETA: 44s - loss: 1.0511 - acc: 0.65 - ETA: 43s - loss: 1.0510 - acc: 0.65 - ETA: 43s - loss: 1.0509 - acc: 0.65 - ETA: 42s - loss: 1.0507 - acc: 0.65 - ETA: 41s - loss: 1.0493 - acc: 0.65 - ETA: 40s - loss: 1.0493 - acc: 0.65 - ETA: 40s - loss: 1.0498 - acc: 0.65 - ETA: 39s - loss: 1.0480 - acc: 0.66 - ETA: 38s - loss: 1.0475 - acc: 0.66 - ETA: 37s - loss: 1.0485 - acc: 0.66 - ETA: 37s - loss: 1.0479 - acc: 0.66 - ETA: 36s - loss: 1.0452 - acc: 0.66 - ETA: 35s - loss: 1.0443 - acc: 0.66 - ETA: 34s - loss: 1.0444 - acc: 0.66 - ETA: 34s - loss: 1.0425 - acc: 0.66 - ETA: 33s - loss: 1.0419 - acc: 0.66 - ETA: 32s - loss: 1.0407 - acc: 0.66 - ETA: 31s - loss: 1.0383 - acc: 0.66 - ETA: 31s - loss: 1.0379 - acc: 0.66 - ETA: 30s - loss: 1.0376 - acc: 0.66 - ETA: 29s - loss: 1.0368 - acc: 0.66 - ETA: 28s - loss: 1.0370 - acc: 0.66 - ETA: 28s - loss: 1.0392 - acc: 0.66 - ETA: 27s - loss: 1.0381 - acc: 0.66 - ETA: 26s - loss: 1.0393 - acc: 0.66 - ETA: 25s - loss: 1.0419 - acc: 0.66 - ETA: 25s - loss: 1.0428 - acc: 0.66 - ETA: 24s - loss: 1.0424 - acc: 0.66 - ETA: 23s - loss: 1.0412 - acc: 0.66 - ETA: 22s - loss: 1.0420 - acc: 0.6639"
     ]
    },
    {
     "name": "stdout",
     "output_type": "stream",
     "text": [
      "238/237 [==============================] - ETA: 22s - loss: 1.0432 - acc: 0.66 - ETA: 21s - loss: 1.0434 - acc: 0.66 - ETA: 20s - loss: 1.0427 - acc: 0.66 - ETA: 19s - loss: 1.0417 - acc: 0.66 - ETA: 19s - loss: 1.0404 - acc: 0.66 - ETA: 18s - loss: 1.0398 - acc: 0.66 - ETA: 17s - loss: 1.0410 - acc: 0.66 - ETA: 16s - loss: 1.0414 - acc: 0.66 - ETA: 16s - loss: 1.0423 - acc: 0.66 - ETA: 15s - loss: 1.0413 - acc: 0.66 - ETA: 14s - loss: 1.0414 - acc: 0.66 - ETA: 13s - loss: 1.0404 - acc: 0.66 - ETA: 13s - loss: 1.0404 - acc: 0.66 - ETA: 12s - loss: 1.0399 - acc: 0.66 - ETA: 11s - loss: 1.0414 - acc: 0.66 - ETA: 10s - loss: 1.0409 - acc: 0.66 - ETA: 10s - loss: 1.0406 - acc: 0.66 - ETA: 9s - loss: 1.0420 - acc: 0.6625 - ETA: 8s - loss: 1.0428 - acc: 0.661 - ETA: 7s - loss: 1.0414 - acc: 0.662 - ETA: 7s - loss: 1.0403 - acc: 0.663 - ETA: 6s - loss: 1.0417 - acc: 0.662 - ETA: 5s - loss: 1.0407 - acc: 0.663 - ETA: 4s - loss: 1.0392 - acc: 0.663 - ETA: 4s - loss: 1.0389 - acc: 0.663 - ETA: 3s - loss: 1.0393 - acc: 0.663 - ETA: 2s - loss: 1.0394 - acc: 0.662 - ETA: 1s - loss: 1.0397 - acc: 0.662 - ETA: 1s - loss: 1.0407 - acc: 0.662 - ETA: 0s - loss: 1.0413 - acc: 0.662 - 200s 839ms/step - loss: 1.0413 - acc: 0.6626 - val_loss: 1.1120 - val_acc: 0.5989\n",
      "Epoch 10/10\n"
     ]
    },
    {
     "name": "stdout",
     "output_type": "stream",
     "text": [
      "207/237 [=========================>....] - ETA: 2:53 - loss: 1.0278 - acc: 0.687 - ETA: 2:53 - loss: 1.0161 - acc: 0.625 - ETA: 2:51 - loss: 0.9713 - acc: 0.666 - ETA: 2:51 - loss: 0.9073 - acc: 0.687 - ETA: 2:50 - loss: 0.9958 - acc: 0.662 - ETA: 2:50 - loss: 0.9814 - acc: 0.666 - ETA: 2:49 - loss: 0.9406 - acc: 0.678 - ETA: 2:49 - loss: 0.9821 - acc: 0.648 - ETA: 2:48 - loss: 0.9589 - acc: 0.666 - ETA: 2:47 - loss: 0.9437 - acc: 0.675 - ETA: 2:47 - loss: 0.9504 - acc: 0.681 - ETA: 2:46 - loss: 0.9518 - acc: 0.677 - ETA: 2:45 - loss: 1.0005 - acc: 0.663 - ETA: 2:45 - loss: 0.9909 - acc: 0.674 - ETA: 2:44 - loss: 1.0121 - acc: 0.658 - ETA: 2:44 - loss: 1.0146 - acc: 0.656 - ETA: 2:43 - loss: 1.0031 - acc: 0.658 - ETA: 2:42 - loss: 0.9851 - acc: 0.670 - ETA: 2:41 - loss: 0.9875 - acc: 0.671 - ETA: 2:40 - loss: 0.9874 - acc: 0.671 - ETA: 2:40 - loss: 1.0001 - acc: 0.663 - ETA: 2:39 - loss: 0.9947 - acc: 0.667 - ETA: 2:38 - loss: 0.9837 - acc: 0.676 - ETA: 2:37 - loss: 0.9635 - acc: 0.684 - ETA: 2:37 - loss: 0.9836 - acc: 0.675 - ETA: 2:37 - loss: 0.9761 - acc: 0.675 - ETA: 2:36 - loss: 0.9738 - acc: 0.675 - ETA: 2:35 - loss: 0.9830 - acc: 0.671 - ETA: 2:35 - loss: 0.9827 - acc: 0.674 - ETA: 2:34 - loss: 0.9768 - acc: 0.679 - ETA: 2:33 - loss: 0.9939 - acc: 0.673 - ETA: 2:32 - loss: 0.9989 - acc: 0.673 - ETA: 2:32 - loss: 1.0099 - acc: 0.670 - ETA: 2:31 - loss: 1.0195 - acc: 0.663 - ETA: 2:30 - loss: 1.0208 - acc: 0.660 - ETA: 2:29 - loss: 1.0194 - acc: 0.661 - ETA: 2:29 - loss: 1.0168 - acc: 0.662 - ETA: 2:28 - loss: 1.0077 - acc: 0.666 - ETA: 2:27 - loss: 1.0052 - acc: 0.669 - ETA: 2:26 - loss: 1.0192 - acc: 0.665 - ETA: 2:26 - loss: 1.0186 - acc: 0.663 - ETA: 2:25 - loss: 1.0137 - acc: 0.665 - ETA: 2:24 - loss: 1.0162 - acc: 0.665 - ETA: 2:24 - loss: 1.0081 - acc: 0.669 - ETA: 2:23 - loss: 1.0165 - acc: 0.665 - ETA: 2:22 - loss: 1.0317 - acc: 0.660 - ETA: 2:21 - loss: 1.0240 - acc: 0.662 - ETA: 2:21 - loss: 1.0136 - acc: 0.668 - ETA: 2:20 - loss: 1.0225 - acc: 0.664 - ETA: 2:19 - loss: 1.0188 - acc: 0.665 - ETA: 2:18 - loss: 1.0134 - acc: 0.667 - ETA: 2:18 - loss: 1.0148 - acc: 0.667 - ETA: 2:17 - loss: 1.0144 - acc: 0.668 - ETA: 2:16 - loss: 1.0140 - acc: 0.666 - ETA: 2:15 - loss: 1.0249 - acc: 0.665 - ETA: 2:15 - loss: 1.0279 - acc: 0.662 - ETA: 2:14 - loss: 1.0235 - acc: 0.663 - ETA: 2:13 - loss: 1.0329 - acc: 0.659 - ETA: 2:12 - loss: 1.0238 - acc: 0.663 - ETA: 2:12 - loss: 1.0323 - acc: 0.662 - ETA: 2:11 - loss: 1.0284 - acc: 0.663 - ETA: 2:10 - loss: 1.0268 - acc: 0.664 - ETA: 2:09 - loss: 1.0259 - acc: 0.665 - ETA: 2:09 - loss: 1.0298 - acc: 0.663 - ETA: 2:08 - loss: 1.0282 - acc: 0.660 - ETA: 2:07 - loss: 1.0246 - acc: 0.662 - ETA: 2:07 - loss: 1.0295 - acc: 0.662 - ETA: 2:06 - loss: 1.0306 - acc: 0.660 - ETA: 2:05 - loss: 1.0356 - acc: 0.660 - ETA: 2:05 - loss: 1.0360 - acc: 0.661 - ETA: 2:04 - loss: 1.0389 - acc: 0.660 - ETA: 2:03 - loss: 1.0387 - acc: 0.660 - ETA: 2:02 - loss: 1.0384 - acc: 0.663 - ETA: 2:01 - loss: 1.0414 - acc: 0.662 - ETA: 2:01 - loss: 1.0394 - acc: 0.662 - ETA: 2:00 - loss: 1.0378 - acc: 0.663 - ETA: 1:59 - loss: 1.0327 - acc: 0.664 - ETA: 1:58 - loss: 1.0297 - acc: 0.665 - ETA: 1:57 - loss: 1.0264 - acc: 0.666 - ETA: 1:57 - loss: 1.0233 - acc: 0.668 - ETA: 1:56 - loss: 1.0232 - acc: 0.667 - ETA: 1:55 - loss: 1.0223 - acc: 0.669 - ETA: 1:54 - loss: 1.0267 - acc: 0.667 - ETA: 1:53 - loss: 1.0277 - acc: 0.668 - ETA: 1:53 - loss: 1.0264 - acc: 0.669 - ETA: 1:52 - loss: 1.0209 - acc: 0.670 - ETA: 1:51 - loss: 1.0223 - acc: 0.671 - ETA: 1:50 - loss: 1.0235 - acc: 0.670 - ETA: 1:50 - loss: 1.0281 - acc: 0.669 - ETA: 1:49 - loss: 1.0271 - acc: 0.670 - ETA: 1:49 - loss: 1.0282 - acc: 0.669 - ETA: 1:48 - loss: 1.0237 - acc: 0.671 - ETA: 1:47 - loss: 1.0203 - acc: 0.672 - ETA: 1:46 - loss: 1.0170 - acc: 0.672 - ETA: 1:46 - loss: 1.0191 - acc: 0.671 - ETA: 1:45 - loss: 1.0190 - acc: 0.671 - ETA: 1:44 - loss: 1.0172 - acc: 0.672 - ETA: 1:44 - loss: 1.0121 - acc: 0.673 - ETA: 1:43 - loss: 1.0074 - acc: 0.676 - ETA: 1:43 - loss: 1.0116 - acc: 0.675 - ETA: 1:42 - loss: 1.0181 - acc: 0.673 - ETA: 1:41 - loss: 1.0161 - acc: 0.674 - ETA: 1:41 - loss: 1.0203 - acc: 0.672 - ETA: 1:40 - loss: 1.0198 - acc: 0.671 - ETA: 1:39 - loss: 1.0259 - acc: 0.669 - ETA: 1:39 - loss: 1.0246 - acc: 0.669 - ETA: 1:38 - loss: 1.0256 - acc: 0.668 - ETA: 1:38 - loss: 1.0265 - acc: 0.669 - ETA: 1:37 - loss: 1.0287 - acc: 0.668 - ETA: 1:36 - loss: 1.0288 - acc: 0.667 - ETA: 1:36 - loss: 1.0265 - acc: 0.668 - ETA: 1:35 - loss: 1.0249 - acc: 0.669 - ETA: 1:34 - loss: 1.0214 - acc: 0.669 - ETA: 1:34 - loss: 1.0213 - acc: 0.670 - ETA: 1:33 - loss: 1.0201 - acc: 0.670 - ETA: 1:32 - loss: 1.0205 - acc: 0.670 - ETA: 1:32 - loss: 1.0205 - acc: 0.669 - ETA: 1:31 - loss: 1.0221 - acc: 0.669 - ETA: 1:31 - loss: 1.0239 - acc: 0.668 - ETA: 1:30 - loss: 1.0230 - acc: 0.668 - ETA: 1:30 - loss: 1.0208 - acc: 0.669 - ETA: 1:29 - loss: 1.0189 - acc: 0.669 - ETA: 1:28 - loss: 1.0215 - acc: 0.668 - ETA: 1:28 - loss: 1.0227 - acc: 0.667 - ETA: 1:27 - loss: 1.0228 - acc: 0.667 - ETA: 1:26 - loss: 1.0226 - acc: 0.668 - ETA: 1:26 - loss: 1.0253 - acc: 0.666 - ETA: 1:25 - loss: 1.0246 - acc: 0.667 - ETA: 1:24 - loss: 1.0289 - acc: 0.665 - ETA: 1:23 - loss: 1.0274 - acc: 0.665 - ETA: 1:23 - loss: 1.0267 - acc: 0.665 - ETA: 1:22 - loss: 1.0267 - acc: 0.665 - ETA: 1:21 - loss: 1.0286 - acc: 0.664 - ETA: 1:20 - loss: 1.0328 - acc: 0.662 - ETA: 1:20 - loss: 1.0329 - acc: 0.662 - ETA: 1:19 - loss: 1.0328 - acc: 0.663 - ETA: 1:18 - loss: 1.0323 - acc: 0.662 - ETA: 1:17 - loss: 1.0336 - acc: 0.662 - ETA: 1:16 - loss: 1.0318 - acc: 0.662 - ETA: 1:15 - loss: 1.0341 - acc: 0.662 - ETA: 1:15 - loss: 1.0355 - acc: 0.660 - ETA: 1:14 - loss: 1.0384 - acc: 0.659 - ETA: 1:13 - loss: 1.0367 - acc: 0.660 - ETA: 1:12 - loss: 1.0368 - acc: 0.660 - ETA: 1:11 - loss: 1.0375 - acc: 0.660 - ETA: 1:10 - loss: 1.0394 - acc: 0.660 - ETA: 1:10 - loss: 1.0399 - acc: 0.658 - ETA: 1:09 - loss: 1.0391 - acc: 0.658 - ETA: 1:08 - loss: 1.0368 - acc: 0.659 - ETA: 1:07 - loss: 1.0367 - acc: 0.659 - ETA: 1:06 - loss: 1.0381 - acc: 0.658 - ETA: 1:06 - loss: 1.0377 - acc: 0.658 - ETA: 1:05 - loss: 1.0400 - acc: 0.657 - ETA: 1:04 - loss: 1.0409 - acc: 0.657 - ETA: 1:03 - loss: 1.0402 - acc: 0.657 - ETA: 1:03 - loss: 1.0403 - acc: 0.657 - ETA: 1:02 - loss: 1.0402 - acc: 0.657 - ETA: 1:01 - loss: 1.0414 - acc: 0.657 - ETA: 1:00 - loss: 1.0374 - acc: 0.659 - ETA: 1:00 - loss: 1.0352 - acc: 0.660 - ETA: 59s - loss: 1.0327 - acc: 0.661 - ETA: 58s - loss: 1.0331 - acc: 0.66 - ETA: 57s - loss: 1.0341 - acc: 0.66 - ETA: 57s - loss: 1.0313 - acc: 0.66 - ETA: 56s - loss: 1.0334 - acc: 0.66 - ETA: 55s - loss: 1.0345 - acc: 0.66 - ETA: 54s - loss: 1.0323 - acc: 0.66 - ETA: 54s - loss: 1.0317 - acc: 0.66 - ETA: 53s - loss: 1.0315 - acc: 0.66 - ETA: 52s - loss: 1.0311 - acc: 0.66 - ETA: 51s - loss: 1.0317 - acc: 0.66 - ETA: 50s - loss: 1.0331 - acc: 0.66 - ETA: 50s - loss: 1.0352 - acc: 0.65 - ETA: 49s - loss: 1.0367 - acc: 0.65 - ETA: 48s - loss: 1.0374 - acc: 0.65 - ETA: 47s - loss: 1.0375 - acc: 0.65 - ETA: 47s - loss: 1.0377 - acc: 0.66 - ETA: 46s - loss: 1.0377 - acc: 0.66 - ETA: 45s - loss: 1.0381 - acc: 0.65 - ETA: 44s - loss: 1.0386 - acc: 0.65 - ETA: 44s - loss: 1.0387 - acc: 0.65 - ETA: 43s - loss: 1.0390 - acc: 0.65 - ETA: 42s - loss: 1.0385 - acc: 0.65 - ETA: 41s - loss: 1.0405 - acc: 0.65 - ETA: 41s - loss: 1.0405 - acc: 0.65 - ETA: 40s - loss: 1.0396 - acc: 0.65 - ETA: 39s - loss: 1.0387 - acc: 0.65 - ETA: 38s - loss: 1.0417 - acc: 0.65 - ETA: 37s - loss: 1.0425 - acc: 0.65 - ETA: 37s - loss: 1.0416 - acc: 0.65 - ETA: 36s - loss: 1.0454 - acc: 0.65 - ETA: 35s - loss: 1.0442 - acc: 0.65 - ETA: 34s - loss: 1.0422 - acc: 0.65 - ETA: 33s - loss: 1.0446 - acc: 0.65 - ETA: 33s - loss: 1.0430 - acc: 0.65 - ETA: 32s - loss: 1.0442 - acc: 0.65 - ETA: 31s - loss: 1.0423 - acc: 0.65 - ETA: 30s - loss: 1.0446 - acc: 0.65 - ETA: 30s - loss: 1.0447 - acc: 0.65 - ETA: 29s - loss: 1.0439 - acc: 0.65 - ETA: 28s - loss: 1.0453 - acc: 0.65 - ETA: 27s - loss: 1.0442 - acc: 0.65 - ETA: 26s - loss: 1.0426 - acc: 0.65 - ETA: 26s - loss: 1.0433 - acc: 0.65 - ETA: 25s - loss: 1.0450 - acc: 0.65 - ETA: 24s - loss: 1.0453 - acc: 0.65 - ETA: 23s - loss: 1.0449 - acc: 0.6567"
     ]
    },
    {
     "name": "stdout",
     "output_type": "stream",
     "text": [
      "238/237 [==============================] - ETA: 22s - loss: 1.0480 - acc: 0.65 - ETA: 22s - loss: 1.0482 - acc: 0.65 - ETA: 21s - loss: 1.0491 - acc: 0.65 - ETA: 20s - loss: 1.0491 - acc: 0.65 - ETA: 19s - loss: 1.0464 - acc: 0.65 - ETA: 19s - loss: 1.0460 - acc: 0.65 - ETA: 18s - loss: 1.0454 - acc: 0.65 - ETA: 17s - loss: 1.0459 - acc: 0.65 - ETA: 16s - loss: 1.0445 - acc: 0.65 - ETA: 15s - loss: 1.0454 - acc: 0.65 - ETA: 15s - loss: 1.0443 - acc: 0.65 - ETA: 14s - loss: 1.0466 - acc: 0.65 - ETA: 13s - loss: 1.0496 - acc: 0.65 - ETA: 12s - loss: 1.0505 - acc: 0.65 - ETA: 12s - loss: 1.0497 - acc: 0.65 - ETA: 11s - loss: 1.0510 - acc: 0.65 - ETA: 10s - loss: 1.0509 - acc: 0.65 - ETA: 9s - loss: 1.0507 - acc: 0.6556 - ETA: 8s - loss: 1.0511 - acc: 0.655 - ETA: 8s - loss: 1.0513 - acc: 0.656 - ETA: 7s - loss: 1.0528 - acc: 0.655 - ETA: 6s - loss: 1.0525 - acc: 0.655 - ETA: 5s - loss: 1.0535 - acc: 0.655 - ETA: 5s - loss: 1.0522 - acc: 0.656 - ETA: 4s - loss: 1.0518 - acc: 0.656 - ETA: 3s - loss: 1.0517 - acc: 0.656 - ETA: 2s - loss: 1.0508 - acc: 0.657 - ETA: 1s - loss: 1.0503 - acc: 0.657 - ETA: 1s - loss: 1.0509 - acc: 0.657 - ETA: 0s - loss: 1.0487 - acc: 0.658 - 206s 866ms/step - loss: 1.0478 - acc: 0.6584 - val_loss: 1.3431 - val_acc: 0.5611\n"
     ]
    }
   ],
   "source": [
    "train_model(X_train, y_train)"
   ]
  },
  {
   "cell_type": "code",
   "execution_count": 27,
   "metadata": {},
   "outputs": [
    {
     "name": "stdout",
     "output_type": "stream",
     "text": [
      "_________________________________________________________________\n",
      "Layer (type)                 Output Shape              Param #   \n",
      "=================================================================\n",
      "input_2 (InputLayer)         (None, 51, 51, 3)         0         \n",
      "_________________________________________________________________\n",
      "conv2d_8 (Conv2D)            (None, 49, 49, 16)        448       \n",
      "_________________________________________________________________\n",
      "batch_normalization_10 (Batc (None, 49, 49, 16)        64        \n",
      "_________________________________________________________________\n",
      "leaky_re_lu_8 (LeakyReLU)    (None, 49, 49, 16)        0         \n",
      "_________________________________________________________________\n",
      "conv2d_9 (Conv2D)            (None, 47, 47, 16)        2320      \n",
      "_________________________________________________________________\n",
      "batch_normalization_11 (Batc (None, 47, 47, 16)        64        \n",
      "_________________________________________________________________\n",
      "leaky_re_lu_9 (LeakyReLU)    (None, 47, 47, 16)        0         \n",
      "_________________________________________________________________\n",
      "max_pooling2d_4 (MaxPooling2 (None, 23, 23, 16)        0         \n",
      "_________________________________________________________________\n",
      "conv2d_10 (Conv2D)           (None, 21, 21, 32)        4640      \n",
      "_________________________________________________________________\n",
      "batch_normalization_12 (Batc (None, 21, 21, 32)        128       \n",
      "_________________________________________________________________\n",
      "leaky_re_lu_10 (LeakyReLU)   (None, 21, 21, 32)        0         \n",
      "_________________________________________________________________\n",
      "conv2d_11 (Conv2D)           (None, 19, 19, 32)        9248      \n",
      "_________________________________________________________________\n",
      "batch_normalization_13 (Batc (None, 19, 19, 32)        128       \n",
      "_________________________________________________________________\n",
      "leaky_re_lu_11 (LeakyReLU)   (None, 19, 19, 32)        0         \n",
      "_________________________________________________________________\n",
      "max_pooling2d_5 (MaxPooling2 (None, 9, 9, 32)          0         \n",
      "_________________________________________________________________\n",
      "conv2d_12 (Conv2D)           (None, 7, 7, 64)          18496     \n",
      "_________________________________________________________________\n",
      "batch_normalization_14 (Batc (None, 7, 7, 64)          256       \n",
      "_________________________________________________________________\n",
      "leaky_re_lu_12 (LeakyReLU)   (None, 7, 7, 64)          0         \n",
      "_________________________________________________________________\n",
      "conv2d_13 (Conv2D)           (None, 5, 5, 64)          36928     \n",
      "_________________________________________________________________\n",
      "batch_normalization_15 (Batc (None, 5, 5, 64)          256       \n",
      "_________________________________________________________________\n",
      "leaky_re_lu_13 (LeakyReLU)   (None, 5, 5, 64)          0         \n",
      "_________________________________________________________________\n",
      "conv2d_14 (Conv2D)           (None, 3, 3, 64)          36928     \n",
      "_________________________________________________________________\n",
      "batch_normalization_16 (Batc (None, 3, 3, 64)          256       \n",
      "_________________________________________________________________\n",
      "leaky_re_lu_14 (LeakyReLU)   (None, 3, 3, 64)          0         \n",
      "_________________________________________________________________\n",
      "max_pooling2d_6 (MaxPooling2 (None, 1, 1, 64)          0         \n",
      "_________________________________________________________________\n",
      "flatten_2 (Flatten)          (None, 64)                0         \n",
      "_________________________________________________________________\n",
      "dropout_3 (Dropout)          (None, 64)                0         \n",
      "_________________________________________________________________\n",
      "dense_3 (Dense)              (None, 128)               8320      \n",
      "_________________________________________________________________\n",
      "batch_normalization_17 (Batc (None, 128)               512       \n",
      "_________________________________________________________________\n",
      "activation_3 (Activation)    (None, 128)               0         \n",
      "_________________________________________________________________\n",
      "dropout_4 (Dropout)          (None, 128)               0         \n",
      "_________________________________________________________________\n",
      "dense_4 (Dense)              (None, 12)                1548      \n",
      "_________________________________________________________________\n",
      "batch_normalization_18 (Batc (None, 12)                48        \n",
      "_________________________________________________________________\n",
      "activation_4 (Activation)    (None, 12)                0         \n",
      "=================================================================\n",
      "Total params: 120,588\n",
      "Trainable params: 119,732\n",
      "Non-trainable params: 856\n",
      "_________________________________________________________________\n",
      "794/794 [==============================] - ETA: 26 - ETA: 22 - ETA: 19 - ETA: 18 - ETA: 17 - ETA: 16 - ETA: 15 - ETA: 14 - ETA: 13 - ETA: 12 - ETA: 11 - ETA: 11 - ETA: 10 - ETA: 9 - ETA:  - ETA:  - ETA:  - ETA:  - ETA:  - ETA:  - ETA:  - ETA:  - ETA:  - ETA:  - 21s 26ms/step\n"
     ]
    }
   ],
   "source": [
    "test_model(X_test, label)"
   ]
  },
  {
   "cell_type": "code",
   "execution_count": 28,
   "metadata": {},
   "outputs": [],
   "source": [
    "# 0.6801"
   ]
  }
 ],
 "metadata": {
  "kernelspec": {
   "display_name": "Python 3",
   "language": "python",
   "name": "python3"
  },
  "language_info": {
   "codemirror_mode": {
    "name": "ipython",
    "version": 3
   },
   "file_extension": ".py",
   "mimetype": "text/x-python",
   "name": "python",
   "nbconvert_exporter": "python",
   "pygments_lexer": "ipython3",
   "version": "3.6.4"
  },
  "toc": {
   "base_numbering": 1,
   "nav_menu": {},
   "number_sections": true,
   "sideBar": true,
   "skip_h1_title": false,
   "title_cell": "Table of Contents",
   "title_sidebar": "Contents",
   "toc_cell": false,
   "toc_position": {},
   "toc_section_display": true,
   "toc_window_display": false
  }
 },
 "nbformat": 4,
 "nbformat_minor": 2
}
