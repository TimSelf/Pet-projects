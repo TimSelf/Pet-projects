{
 "cells": [
  {
   "cell_type": "code",
   "execution_count": 1,
   "metadata": {
    "collapsed": true
   },
   "outputs": [],
   "source": [
    "import os\n",
    "import numpy as np\n",
    "import cv2\n",
    "from glob import glob\n",
    "from sklearn.decomposition import PCA"
   ]
  },
  {
   "cell_type": "code",
   "execution_count": null,
   "metadata": {},
   "outputs": [],
   "source": []
  },
  {
   "cell_type": "code",
   "execution_count": 2,
   "metadata": {},
   "outputs": [],
   "source": [
    "def void(x):\n",
    "    pass\n",
    "\n",
    "cv2.namedWindow('Trackbars')\n",
    "\n",
    "cv2.createTrackbar('hmin', 'Trackbars', 24, 180, void)\n",
    "cv2.createTrackbar('hmax', 'Trackbars', 55, 180, void)\n",
    "cv2.createTrackbar('smin', 'Trackbars', 50, 256, void)\n",
    "cv2.createTrackbar('smax', 'Trackbars', 255, 256, void)\n",
    "cv2.createTrackbar('vmin', 'Trackbars', 0, 256, void)\n",
    "cv2.createTrackbar('vmax', 'Trackbars', 140, 256, void)\n",
    "\n",
    "key = 32\n",
    "\n",
    "files = iter(glob(os.path.join('test', '*.png')))\n",
    "\n",
    "while True:\n",
    "    \n",
    "    if key == 32:\n",
    "        file = next(files)\n",
    "        src = cv2.imread(file)\n",
    "        key = None\n",
    "        \n",
    "    hsv = cv2.cvtColor(src, cv2.COLOR_BGR2HSV)\n",
    "    # hsv[..., 2] = cv2.equalizeHist(hsv[..., 2])\n",
    "    \n",
    "    hmin = cv2.getTrackbarPos('hmin', 'Trackbars')\n",
    "    hmax = cv2.getTrackbarPos('hmax', 'Trackbars')\n",
    "    smin = cv2.getTrackbarPos('smin', 'Trackbars')\n",
    "    smax = cv2.getTrackbarPos('smax', 'Trackbars')    \n",
    "    vmin = cv2.getTrackbarPos('vmin', 'Trackbars')\n",
    "    vmax = cv2.getTrackbarPos('vmax', 'Trackbars')\n",
    "    \n",
    "    dst = np.zeros((115, 115))\n",
    "    \n",
    "    # Size: 115 x 115\n",
    "    \n",
    "    mask = cv2.inRange(hsv, (hmin, smin, vmin), (hmax, smax, vmax))\n",
    "    image = cv2.bitwise_and(src, src, mask=mask)\n",
    "    \n",
    "    mask = cv2.resize(mask, dsize=dst.shape, interpolation=cv2.INTER_CUBIC)\n",
    "    \n",
    "    cv2.imshow('Image', mask)\n",
    "    \n",
    "    key = cv2.waitKey(10) & 0xFF\n",
    "    if key == 27:\n",
    "        break\n",
    "\n",
    "cv2.destroyAllWindows()"
   ]
  },
  {
   "cell_type": "code",
   "execution_count": null,
   "metadata": {
    "collapsed": true
   },
   "outputs": [],
   "source": [
    "    image = cv2.resize"
   ]
  },
  {
   "cell_type": "code",
   "execution_count": null,
   "metadata": {
    "collapsed": true
   },
   "outputs": [],
   "source": []
  }
 ],
 "metadata": {
  "kernelspec": {
   "display_name": "Python 3",
   "language": "python",
   "name": "python3"
  },
  "language_info": {
   "codemirror_mode": {
    "name": "ipython",
    "version": 3
   },
   "file_extension": ".py",
   "mimetype": "text/x-python",
   "name": "python",
   "nbconvert_exporter": "python",
   "pygments_lexer": "ipython3",
   "version": "3.6.4"
  },
  "toc": {
   "base_numbering": 1,
   "nav_menu": {},
   "number_sections": true,
   "sideBar": true,
   "skip_h1_title": false,
   "title_cell": "Table of Contents",
   "title_sidebar": "Contents",
   "toc_cell": false,
   "toc_position": {},
   "toc_section_display": true,
   "toc_window_display": false
  }
 },
 "nbformat": 4,
 "nbformat_minor": 2
}
