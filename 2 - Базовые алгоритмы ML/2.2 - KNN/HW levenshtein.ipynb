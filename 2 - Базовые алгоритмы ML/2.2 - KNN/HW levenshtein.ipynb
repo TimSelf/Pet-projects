{
 "cells": [
  {
   "cell_type": "markdown",
   "metadata": {},
   "source": [
    "# Поиск наиболее близкого имени участника"
   ]
  },
  {
   "cell_type": "code",
   "execution_count": 1,
   "metadata": {},
   "outputs": [],
   "source": [
    "# conda install -c conda-forge python-levenshtein\n",
    "# или pip install python-levenshtein\n",
    "\n",
    "import Levenshtein"
   ]
  },
  {
   "cell_type": "code",
   "execution_count": 2,
   "metadata": {},
   "outputs": [],
   "source": [
    "# что было написано в заявке\n",
    "\n",
    "claim_list = [\n",
    "    'Шехавцова Анна',\n",
    "    'Гречихина Наталья',\n",
    "    'Козлова Алена',\n",
    "    'Груздева Алина',\n",
    "    'Кущенко Анна',\n",
    "    'Чистякова Анастасия' \n",
    "]"
   ]
  },
  {
   "cell_type": "code",
   "execution_count": 3,
   "metadata": {},
   "outputs": [],
   "source": [
    "# результат расшифровки речи диктора\n",
    "\n",
    "speech_recognition = [\n",
    "    'кучменко она',\n",
    "    'кущенко оксана',\n",
    "    'груздь алина',\n",
    "    'рычихина наталья',\n",
    "    'шиховцева на',\n",
    "    'чистова анастасия'\n",
    "]"
   ]
  },
  {
   "cell_type": "markdown",
   "metadata": {},
   "source": [
    "Считаем расстояние левенштейна для всех комбинаций, составляем и сортируем словарь. В итоговый список добавляем только первые элементы словаря (с наименьшим расстоянием, то есть с наименьшей вероятностью ошибки распознавания речи)."
   ]
  },
  {
   "cell_type": "code",
   "execution_count": 4,
   "metadata": {},
   "outputs": [
    {
     "data": {
      "text/plain": [
       "['Кущенко Анна',\n",
       " 'Кущенко Анна',\n",
       " 'Груздева Алина',\n",
       " 'Гречихина Наталья',\n",
       " 'Шехавцова Анна',\n",
       " 'Чистякова Анастасия']"
      ]
     },
     "execution_count": 4,
     "metadata": {},
     "output_type": "execute_result"
    }
   ],
   "source": [
    "list_ = []\n",
    "for recognized_name in speech_recognition:\n",
    "    distances = {real_name: Levenshtein.distance(recognized_name, real_name) for real_name in claim_list}\n",
    "    distances = sorted(distances.items(), key = lambda x: x[1])\n",
    "    list_.append(distances[0][0])\n",
    "list_\n",
    "    \n",
    "    "
   ]
  },
  {
   "cell_type": "markdown",
   "metadata": {},
   "source": [
    "Ок, получили список, можно остановиться. Но в списке повторы - кого-то диктор не упомянул. Нехорошо. Попытаемся добавлять в список неповторяющиеся элементы. То есть, если элемент в списке уже есть, добавим следующий по расстоянию левенштейна элемент."
   ]
  },
  {
   "cell_type": "code",
   "execution_count": 5,
   "metadata": {},
   "outputs": [
    {
     "data": {
      "text/plain": [
       "['Кущенко Анна',\n",
       " 'Шехавцова Анна',\n",
       " 'Груздева Алина',\n",
       " 'Гречихина Наталья',\n",
       " 'Козлова Алена',\n",
       " 'Чистякова Анастасия']"
      ]
     },
     "execution_count": 5,
     "metadata": {},
     "output_type": "execute_result"
    }
   ],
   "source": [
    "list_1 = []\n",
    "for recognized_name in speech_recognition:\n",
    "    distances = {real_name: Levenshtein.distance(recognized_name, real_name) for real_name in claim_list}\n",
    "    distances = sorted(distances.items(), key = lambda x: x[1])\n",
    "    for num in range(len(distances)):\n",
    "        if not distances[num][0] in list_1:\n",
    "            list_1.append(distances[num][0])\n",
    "            break\n",
    "        else:\n",
    "            num += 1\n",
    "list_1\n",
    "    \n",
    "    "
   ]
  },
  {
   "cell_type": "markdown",
   "metadata": {},
   "source": [
    "Ок, повторов нет, но после первого элемента вышло много ошибок (вернее, все определены ошибочно). Нужно действовать иначе."
   ]
  },
  {
   "cell_type": "markdown",
   "metadata": {},
   "source": [
    "Решим проблему в общем случае:\n",
    "1. Создаем счетчик повторений имен.\n",
    "2. Если повторений больше 1 (т.е. в принципе есть повторения), составим список повторений.\n",
    "3. Удалим все элементы, которые распознал наш несовершенный \"речевой анализатор\" из изначального списка спортсменов. Если все верно, то должно остаться ровно столько неупомянутых спортсменов, сколько было повторений.\n",
    "4. Заполним все повторные вхождения оставшимися спортсменами.\n",
    "5. Теперь мы имеем список без повторений. Однако сами повторения в нем вставлены рандомно. Можно оптимизировать, считая попарно расстояния левенштейна для повторов или что то еще. Но пока пусть работает так - проблема на стороне распознавателя речи :)"
   ]
  },
  {
   "cell_type": "code",
   "execution_count": 6,
   "metadata": {},
   "outputs": [],
   "source": [
    "from collections import Counter\n",
    "counter = Counter(list_)"
   ]
  },
  {
   "cell_type": "code",
   "execution_count": 7,
   "metadata": {},
   "outputs": [
    {
     "data": {
      "text/plain": [
       "[['Кущенко Анна', 2]]"
      ]
     },
     "execution_count": 7,
     "metadata": {},
     "output_type": "execute_result"
    }
   ],
   "source": [
    "d = sorted(dict(counter).items(), key = lambda x: -x[1])\n",
    "duplicates = []\n",
    "init_list = claim_list\n",
    "for i in d:\n",
    "    init_list.remove(i[0])\n",
    "for i in d:\n",
    "    if not i[1] == 1:\n",
    "        num_duplicates = i[1]\n",
    "        duplicate = i[0]\n",
    "        duplicates.append([duplicate,num_duplicates])\n",
    "duplicates"
   ]
  },
  {
   "cell_type": "code",
   "execution_count": 8,
   "metadata": {},
   "outputs": [
    {
     "data": {
      "text/plain": [
       "['Кущенко Анна',\n",
       " 'Козлова Алена',\n",
       " 'Груздева Алина',\n",
       " 'Гречихина Наталья',\n",
       " 'Шехавцова Анна',\n",
       " 'Чистякова Анастасия']"
      ]
     },
     "execution_count": 8,
     "metadata": {},
     "output_type": "execute_result"
    }
   ],
   "source": [
    "for i in range(len(duplicates)):\n",
    "    for j in range(1,duplicates[i][1]):\n",
    "        num = [a for a, n in enumerate(list_) if n == duplicates[i][0]][j]\n",
    "        list_[num] = init_list[0]\n",
    "        init_list.remove(init_list[0])\n",
    "list_"
   ]
  }
 ],
 "metadata": {
  "kernelspec": {
   "display_name": "Python 3",
   "language": "python",
   "name": "python3"
  },
  "language_info": {
   "codemirror_mode": {
    "name": "ipython",
    "version": 3
   },
   "file_extension": ".py",
   "mimetype": "text/x-python",
   "name": "python",
   "nbconvert_exporter": "python",
   "pygments_lexer": "ipython3",
   "version": "3.6.4"
  }
 },
 "nbformat": 4,
 "nbformat_minor": 2
}
