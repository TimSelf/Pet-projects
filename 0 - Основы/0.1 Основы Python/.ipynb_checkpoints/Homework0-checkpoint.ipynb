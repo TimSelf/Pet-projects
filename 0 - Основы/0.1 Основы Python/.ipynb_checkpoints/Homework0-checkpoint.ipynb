{
 "cells": [
  {
   "cell_type": "markdown",
   "metadata": {},
   "source": [
    "# 1.Подсчет тематик новостей"
   ]
  },
  {
   "cell_type": "code",
   "execution_count": 3,
   "metadata": {},
   "outputs": [],
   "source": [
    "\"\"\"\n",
    "1. Создаем регулярное выражение, которое ищем в каждой из строк файла URLs.\n",
    "2. Если строка содержит выражение, то это URL новости.\n",
    "3. Для каждой URL новости ищем тему, разбивая строку по '/' и выбирая [1] элемент\n",
    "4. Составляем словарь тем, используя значение по умолчанию.\n",
    "\"\"\"\n",
    "\n",
    "import re\n",
    "pattern = '.*/[0-9]{8}'\n",
    "selection = re.compile(pattern)"
   ]
  },
  {
   "cell_type": "code",
   "execution_count": 4,
   "metadata": {},
   "outputs": [],
   "source": [
    "file = open('URLs.txt', 'r')"
   ]
  },
  {
   "cell_type": "code",
   "execution_count": 5,
   "metadata": {},
   "outputs": [],
   "source": [
    "themes = {}"
   ]
  },
  {
   "cell_type": "code",
   "execution_count": 6,
   "metadata": {},
   "outputs": [
    {
     "data": {
      "text/plain": [
       "{'articles': 7,\n",
       " 'business': 4,\n",
       " 'cis': 4,\n",
       " 'crazy-world': 2,\n",
       " 'economics': 3,\n",
       " 'europe': 1,\n",
       " 'finances': 1,\n",
       " 'head': 2,\n",
       " 'health': 2,\n",
       " 'incidents': 5,\n",
       " 'kinomusic': 1,\n",
       " 'lifestyle': 1,\n",
       " 'middleeast': 3,\n",
       " 'politics': 10,\n",
       " 'science': 5,\n",
       " 'sport': 2,\n",
       " 'starlife': 12,\n",
       " 'travel': 1,\n",
       " 'video': 10,\n",
       " 'world': 8}"
      ]
     },
     "execution_count": 6,
     "metadata": {},
     "output_type": "execute_result"
    }
   ],
   "source": [
    "for line in file:\n",
    "    line = line.strip()\n",
    "    if selection.match( line ):\n",
    "        line = line.split('/')[1]\n",
    "        themes.setdefault(line, 0)\n",
    "        themes[line] +=1\n",
    "themes"
   ]
  },
  {
   "cell_type": "markdown",
   "metadata": {},
   "source": [
    "# 2. Подсчет количества слов, которые можно составить"
   ]
  },
  {
   "cell_type": "code",
   "execution_count": 7,
   "metadata": {},
   "outputs": [],
   "source": [
    "\"\"\"\n",
    "1. Преобразуем слово \"ростелеком\" в список символов.\n",
    "2. Для каждой строки из словаря, проверяем, есть ли его первая буква в нашем списке.\n",
    "3. Для выбранных строк преобразуем строку в список символов.\n",
    "4. Создаем копию исходного списка.\n",
    "5. В цикле по каждом символу ищем, есть ли символ из 2 списка в копии исходного.\n",
    "6. Если true, удаляем сивол из копии.\n",
    "7. Если дошли до конца 2 списка, добавляем слово в наш лист.\n",
    "\"\"\"\n",
    "\n",
    "import copy\n",
    "word = 'ростелеком'\n",
    "my_list = list(word)"
   ]
  },
  {
   "cell_type": "code",
   "execution_count": 8,
   "metadata": {},
   "outputs": [
    {
     "ename": "FileNotFoundError",
     "evalue": "[Errno 2] No such file or directory: 'dict.txt'",
     "output_type": "error",
     "traceback": [
      "\u001b[1;31m---------------------------------------------------------------------------\u001b[0m",
      "\u001b[1;31mFileNotFoundError\u001b[0m                         Traceback (most recent call last)",
      "\u001b[1;32m<ipython-input-8-ae7917ec86e5>\u001b[0m in \u001b[0;36m<module>\u001b[1;34m()\u001b[0m\n\u001b[0;32m      1\u001b[0m \u001b[0mwords\u001b[0m \u001b[1;33m=\u001b[0m \u001b[1;33m[\u001b[0m\u001b[1;33m]\u001b[0m\u001b[1;33m\u001b[0m\u001b[0m\n\u001b[0;32m      2\u001b[0m \u001b[1;33m\u001b[0m\u001b[0m\n\u001b[1;32m----> 3\u001b[1;33m \u001b[1;32mwith\u001b[0m \u001b[0mopen\u001b[0m\u001b[1;33m(\u001b[0m\u001b[1;34m'dict.txt'\u001b[0m\u001b[1;33m,\u001b[0m \u001b[1;34m'r'\u001b[0m\u001b[1;33m)\u001b[0m \u001b[1;32mas\u001b[0m \u001b[0mfile\u001b[0m\u001b[1;33m:\u001b[0m\u001b[1;33m\u001b[0m\u001b[0m\n\u001b[0m\u001b[0;32m      4\u001b[0m \u001b[1;33m\u001b[0m\u001b[0m\n\u001b[0;32m      5\u001b[0m     \u001b[1;32mfor\u001b[0m \u001b[0mline\u001b[0m \u001b[1;32min\u001b[0m \u001b[0mfile\u001b[0m\u001b[1;33m:\u001b[0m\u001b[1;33m\u001b[0m\u001b[0m\n",
      "\u001b[1;31mFileNotFoundError\u001b[0m: [Errno 2] No such file or directory: 'dict.txt'"
     ]
    }
   ],
   "source": [
    "words = []\n",
    "\n",
    "with open('dict.txt', 'r') as file:\n",
    "    \n",
    "    for line in file:\n",
    "        line = line.strip()\n",
    "        if not line[0] in my_list:\n",
    "            continue\n",
    "        current_list = list(line)\n",
    "        current_copy = copy.copy(my_list)        \n",
    "        for i in range(len(current_list)):\n",
    "            if not current_list[i] in current_copy:\n",
    "                break\n",
    "            current_copy.remove(current_list[i])\n",
    "            if i == len(current_list) - 1:\n",
    "                words.append(line)\n",
    "len(words)"
   ]
  },
  {
   "cell_type": "code",
   "execution_count": 13,
   "metadata": {},
   "outputs": [
    {
     "data": {
      "text/plain": [
       "['е',\n",
       " 'еле',\n",
       " 'ер',\n",
       " 'к',\n",
       " 'кермес',\n",
       " 'клер',\n",
       " 'клерет',\n",
       " 'ко',\n",
       " 'кол',\n",
       " 'колер',\n",
       " 'колесо',\n",
       " 'колет',\n",
       " 'коло',\n",
       " 'колос',\n",
       " 'ком',\n",
       " 'корм',\n",
       " 'корсет',\n",
       " 'корт',\n",
       " 'кот',\n",
       " 'крем',\n",
       " 'креол',\n",
       " 'кресло',\n",
       " 'крест',\n",
       " 'кроме',\n",
       " 'крот',\n",
       " 'кто',\n",
       " 'леер',\n",
       " 'лек',\n",
       " 'лектор',\n",
       " 'лес',\n",
       " 'лесок',\n",
       " 'лето',\n",
       " 'леток',\n",
       " 'летом',\n",
       " 'лом',\n",
       " 'лоск',\n",
       " 'лот',\n",
       " 'лото',\n",
       " 'лоток',\n",
       " 'лотос',\n",
       " 'мел',\n",
       " 'мелок',\n",
       " 'мелос',\n",
       " 'место',\n",
       " 'метек',\n",
       " 'метеор',\n",
       " 'метол',\n",
       " 'метр',\n",
       " 'метро',\n",
       " 'млеко',\n",
       " 'мо',\n",
       " 'мол',\n",
       " 'молот',\n",
       " 'мор',\n",
       " 'море',\n",
       " 'морок',\n",
       " 'морс',\n",
       " 'мосол',\n",
       " 'мост',\n",
       " 'мосток',\n",
       " 'мот',\n",
       " 'моток',\n",
       " 'мотор',\n",
       " 'о',\n",
       " 'око',\n",
       " 'окорм',\n",
       " 'окот',\n",
       " 'окрест',\n",
       " 'окрол',\n",
       " 'ом',\n",
       " 'омлет',\n",
       " 'ореол',\n",
       " 'орт',\n",
       " 'оселок',\n",
       " 'осмол',\n",
       " 'осмотр',\n",
       " 'осот',\n",
       " 'ост',\n",
       " 'от',\n",
       " 'откол',\n",
       " 'отколе',\n",
       " 'откорм',\n",
       " 'откос',\n",
       " 'ото',\n",
       " 'отроек',\n",
       " 'отрок',\n",
       " 'отсек',\n",
       " 'отселе',\n",
       " 'ре',\n",
       " 'реле',\n",
       " 'ремесло',\n",
       " 'рок',\n",
       " 'рокот',\n",
       " 'рол',\n",
       " 'ром',\n",
       " 'рост',\n",
       " 'росток',\n",
       " 'рот',\n",
       " 'роток',\n",
       " 'с',\n",
       " 'се',\n",
       " 'секрет',\n",
       " 'сектор',\n",
       " 'селектор',\n",
       " 'село',\n",
       " 'семеро',\n",
       " 'семо',\n",
       " 'серко',\n",
       " 'сет',\n",
       " 'скелет',\n",
       " 'скол',\n",
       " 'скорее',\n",
       " 'скорм',\n",
       " 'скоро',\n",
       " 'скот',\n",
       " 'слом',\n",
       " 'смотр',\n",
       " 'смотрок',\n",
       " 'со',\n",
       " 'сок',\n",
       " 'сокол',\n",
       " 'солемер',\n",
       " 'соло',\n",
       " 'сом',\n",
       " 'сор',\n",
       " 'сорок',\n",
       " 'сором',\n",
       " 'сорт',\n",
       " 'сот',\n",
       " 'соте',\n",
       " 'срок',\n",
       " 'стек',\n",
       " 'стекло',\n",
       " 'стер',\n",
       " 'сто',\n",
       " 'сток',\n",
       " 'стокер',\n",
       " 'стол',\n",
       " 'стрелок',\n",
       " 'тело',\n",
       " 'телок',\n",
       " 'тем',\n",
       " 'терем',\n",
       " 'теремок',\n",
       " 'термос',\n",
       " 'тесло',\n",
       " 'то',\n",
       " 'ток',\n",
       " 'токмо',\n",
       " 'тол',\n",
       " 'толк',\n",
       " 'толком',\n",
       " 'том',\n",
       " 'тор',\n",
       " 'торос',\n",
       " 'торс',\n",
       " 'трек',\n",
       " 'тремоло',\n",
       " 'треск',\n",
       " 'трое',\n",
       " 'трок',\n",
       " 'трос']"
      ]
     },
     "execution_count": 13,
     "metadata": {},
     "output_type": "execute_result"
    }
   ],
   "source": [
    "words"
   ]
  },
  {
   "cell_type": "code",
   "execution_count": null,
   "metadata": {},
   "outputs": [],
   "source": []
  }
 ],
 "metadata": {
  "kernelspec": {
   "display_name": "Python 3",
   "language": "python",
   "name": "python3"
  },
  "language_info": {
   "codemirror_mode": {
    "name": "ipython",
    "version": 3
   },
   "file_extension": ".py",
   "mimetype": "text/x-python",
   "name": "python",
   "nbconvert_exporter": "python",
   "pygments_lexer": "ipython3",
   "version": "3.6.4"
  },
  "toc": {
   "base_numbering": 1,
   "nav_menu": {},
   "number_sections": true,
   "sideBar": true,
   "skip_h1_title": false,
   "title_cell": "Table of Contents",
   "title_sidebar": "Contents",
   "toc_cell": false,
   "toc_position": {},
   "toc_section_display": true,
   "toc_window_display": false
  }
 },
 "nbformat": 4,
 "nbformat_minor": 2
}
