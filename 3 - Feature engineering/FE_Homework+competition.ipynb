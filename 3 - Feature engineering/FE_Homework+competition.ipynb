{
 "cells": [
  {
   "cell_type": "code",
   "execution_count": 1,
   "metadata": {},
   "outputs": [],
   "source": [
    "import pandas as pd\n",
    "import numpy as np\n",
    "import matplotlib.pyplot as plt\n",
    "%matplotlib inline"
   ]
  },
  {
   "cell_type": "markdown",
   "metadata": {},
   "source": [
    "## Rosbank ML Competition"
   ]
  },
  {
   "cell_type": "markdown",
   "metadata": {},
   "source": [
    "Ссылка на соревнование: https://boosters.pro/champ_15"
   ]
  },
  {
   "cell_type": "markdown",
   "metadata": {},
   "source": [
    "Росбанк – часть ведущей международной финансовой группы Societe Generale, банк включен ЦБ РФ в число 11 системно значимых кредитных организаций России. Инновации неотъемлемый процесс работы Росбанка, поэтому активно развивается направленный анализа больших данных."
   ]
  },
  {
   "cell_type": "markdown",
   "metadata": {},
   "source": [
    "- Данные\n",
    "\n",
    "Датасет, который содержит историю транзакций клиентов за 3 месяца льготного использования банковского продукта\n",
    "\n",
    "- Задача\n",
    "\n",
    "Задача бинарной классификации – прогноз оттока клиентов\n",
    "\n",
    "Колонка cl_id содержит вутренний id клиента. Для каждого уникальнго cl_id следует предсказать продолжит ли клиент пользоваться продуктом (target_flag). Значение 0 соответствует отказу, а значение 1 соответствует продолжению использования"
   ]
  },
  {
   "cell_type": "code",
   "execution_count": 2,
   "metadata": {},
   "outputs": [],
   "source": [
    "raw_df = pd.read_csv('rosbank_train.csv')\n",
    "raw_df.head(5)\n",
    "# target_sum - можно выкинуть, переменная участвует в другой задаче\n",
    "raw_df['istest'] = 0"
   ]
  },
  {
   "cell_type": "code",
   "execution_count": 3,
   "metadata": {},
   "outputs": [],
   "source": [
    "test = pd.read_csv('rosbank_test.csv')\n",
    "test['istest'] = 1"
   ]
  },
  {
   "cell_type": "code",
   "execution_count": 4,
   "metadata": {},
   "outputs": [],
   "source": [
    "raw_df = pd.concat([raw_df,test])"
   ]
  },
  {
   "cell_type": "code",
   "execution_count": 5,
   "metadata": {},
   "outputs": [
    {
     "data": {
      "text/plain": [
       "67"
      ]
     },
     "execution_count": 5,
     "metadata": {},
     "output_type": "execute_result"
    }
   ],
   "source": [
    "raw_df.currency.nunique()"
   ]
  },
  {
   "cell_type": "code",
   "execution_count": 6,
   "metadata": {
    "scrolled": true
   },
   "outputs": [
    {
     "name": "stdout",
     "output_type": "stream",
     "text": [
      "<class 'pandas.core.frame.DataFrame'>\n",
      "Int64Index: 1008889 entries, 0 to 518375\n",
      "Data columns (total 11 columns):\n",
      "MCC             1008889 non-null int64\n",
      "PERIOD          1008889 non-null object\n",
      "TRDATETIME      1008889 non-null object\n",
      "amount          1008889 non-null float64\n",
      "channel_type    1003825 non-null object\n",
      "cl_id           1008889 non-null int64\n",
      "currency        1008889 non-null int64\n",
      "istest          1008889 non-null int64\n",
      "target_flag     490513 non-null float64\n",
      "target_sum      490513 non-null float64\n",
      "trx_category    1008889 non-null object\n",
      "dtypes: float64(3), int64(4), object(4)\n",
      "memory usage: 92.4+ MB\n"
     ]
    }
   ],
   "source": [
    "raw_df.info()"
   ]
  },
  {
   "cell_type": "code",
   "execution_count": 7,
   "metadata": {},
   "outputs": [
    {
     "data": {
      "text/plain": [
       "type1    619756\n",
       "type2    357071\n",
       "type5      9668\n",
       "type4      9485\n",
       "type3      7845\n",
       "NaN        5064\n",
       "Name: channel_type, dtype: int64"
      ]
     },
     "execution_count": 7,
     "metadata": {},
     "output_type": "execute_result"
    }
   ],
   "source": [
    "raw_df.channel_type.value_counts(dropna=False)"
   ]
  },
  {
   "cell_type": "code",
   "execution_count": 8,
   "metadata": {},
   "outputs": [
    {
     "name": "stdout",
     "output_type": "stream",
     "text": [
      "Total clients:  10217\n"
     ]
    }
   ],
   "source": [
    "print(\"Total clients: \", len(raw_df.cl_id.unique()))"
   ]
  },
  {
   "cell_type": "markdown",
   "metadata": {},
   "source": [
    "Всего 5000 клиентов, случайным образом возьмем 1000 клиентов для тестирования"
   ]
  },
  {
   "cell_type": "markdown",
   "metadata": {},
   "source": [
    "## Домашняя работа\n",
    "\n",
    "1. Наборы данных вида Transactions (несколько транзакций на одного клиента) трансформировать в таблицу, где cl_id будут уникальными (соответственно 4000 строк в train и 1000 строк в test\n",
    "2. Для каждого cl_id будет уникальное целевое событие target_flag, а также уникальный канал привлечения клиента channel_type (клиент привлекается лишь однажды и с самого начала его записи присваивается значение канала привлечения)\n",
    "3. При агрегации (*pandas.DataFrame.groupby*) по cl_id (или по связке cl_id, channel_type, target_flag) необходимо создавать производные фичи, идеи для таких фичей могут быть следующими:\n",
    "\n",
    "    - общая сумма транзакций по каждой из trx_category\n",
    "    - общая сумма транзакции по основным вылютам (напр. выделить рубли, доллары и евро - предположительно, это будут самые крупные категории)\n",
    "    - общая сумма транзакций по категориям MCC кодов (например, выбрать основные/популярные MCC коды). ВНИМАНИ! Некоторые MCC коды из train могут быть не представлены в test. Про MCC коды в целом: http://www.banki.ru/wikibank/mcc-kod/; Справочник MCC кодов: https://mcc-codes.ru/code; Про некоторые категории кэшбека Росбанка: https://mcc-codes.ru/card/rosbank-sverkh-plus;\n",
    "    - возможные агрегации по времени суток и дням недели - траты в выходные (праздники) или будни, в ночное время или в рабочее и т.д.\n",
    "3. **Обязательная часть**: провести первичный анализ данных - посмотреть распределения признаков, выделить самые популярные MCC, помотреть активность клиентов по дням недели/времени, какие категории транзакции (trx_category) наиболее популярны и т.д. Получить инсайты, которые в дальнейшем помогут вам правильно подготовить фичи\n",
    "4. **Обязательная часть**: на большом количестве фичей применить Lasso регрессию и посмотреть, какие переменные получают 0 в качестве коэффициентов\n",
    "5. **Обязательная часть**: на фичах из MCC кодов применить PCA и посмотреть, какие фичи получаются и что они могут объяснять (для этого посмотреть на коэффициенты в *sklearn.decomposition.pca.components_* после построения главных компонент)\n",
    "6. **Обязательная часть**: с отобранными фичами и полученными компонентами обучить модель (тип алгоритма на свой вкус, можно начать с линейной) и померить качество на локальном тестовом наборе данных (локальная валидация), который создается в этом ноутбуке. Сравнить качество модели до добавления компонент/после добавления/только на главных компонентах. **Метрика оценки качества - ROC AUC**(https://en.wikipedia.org/wiki/Receiver_operating_characteristic)\n",
    "8. **Дополнительная часть**: поучаствовать в соревновании - загрузить предсказания на https://boosters.pro/champ_15. Для этого необходимо использовать все данные из файла rosbank_train.csv, на них делать feature engineering и обучениеб затем делать предсказания для клиентов из файла rosbank_test.csv, предварительно создав фичи по аналогии с train.\n",
    "9. Задания принимаются в виде ноутбука с кодом/картинками выполненной обязательной части + указанием места в leaderboard при решении дополнительной\n",
    "\n",
    "При возникновении вопросов и для отправки домашнего задания - egsachko@gmail.com или http://fb.com/sachkoe\n",
    "    "
   ]
  },
  {
   "cell_type": "code",
   "execution_count": 9,
   "metadata": {},
   "outputs": [],
   "source": [
    "from sklearn.model_selection import train_test_split\n",
    "import xgboost as xgb"
   ]
  },
  {
   "cell_type": "code",
   "execution_count": 10,
   "metadata": {},
   "outputs": [],
   "source": [
    "from datetime import datetime, date, time\n",
    "'''Create new col with Date (or DateTime) format'''\n",
    "\n",
    "# Creating separate cols for yr, month,...\n",
    "raw_df['Year'] = raw_df.TRDATETIME.str[5:7]\n",
    "raw_df['Month'] = raw_df.TRDATETIME.str[2:5]\n",
    "raw_df['Date'] = raw_df.TRDATETIME.str[0:2]\n",
    "raw_df['Hour'] = raw_df.TRDATETIME.str[8:10]\n",
    "\n",
    "# Replace month with ints\n",
    "raw_df.Month = raw_df.Month.replace(to_replace=['JAN', 'FEB', 'MAR', 'APR', 'MAY', 'JUN',\n",
    "                                                'JUL','AUG','SEP','OCT','NOV','DEC' ], \n",
    "                                    value=[1,2,3,4,5,6,7,8,9,10,11,12])\n",
    "# Convert to ints (add 2000 to yr)\n",
    "raw_df.Year = raw_df.Year.apply(pd.to_numeric)\n",
    "raw_df.Date = raw_df.Date.apply(pd.to_numeric)\n",
    "raw_df.Hour = raw_df.Hour.apply(pd.to_numeric)\n",
    "raw_df.Year = raw_df.Year + 2000"
   ]
  },
  {
   "cell_type": "code",
   "execution_count": 20,
   "metadata": {},
   "outputs": [],
   "source": [
    "# Add function to convert to DateTime and apply it\n",
    "def to_date(row):    \n",
    "    return date(row['Year'],row['Month'],row['Date'])\n",
    "raw_df['DateFormat'] = raw_df.apply(to_date, axis=1)"
   ]
  },
  {
   "cell_type": "code",
   "execution_count": 21,
   "metadata": {},
   "outputs": [],
   "source": [
    "raw_df['channel_type'].fillna('type10', inplace = True)"
   ]
  },
  {
   "cell_type": "code",
   "execution_count": 22,
   "metadata": {},
   "outputs": [
    {
     "data": {
      "text/html": [
       "<div>\n",
       "<style scoped>\n",
       "    .dataframe tbody tr th:only-of-type {\n",
       "        vertical-align: middle;\n",
       "    }\n",
       "\n",
       "    .dataframe tbody tr th {\n",
       "        vertical-align: top;\n",
       "    }\n",
       "\n",
       "    .dataframe thead th {\n",
       "        text-align: right;\n",
       "    }\n",
       "</style>\n",
       "<table border=\"1\" class=\"dataframe\">\n",
       "  <thead>\n",
       "    <tr style=\"text-align: right;\">\n",
       "      <th></th>\n",
       "      <th>MCC</th>\n",
       "      <th>PERIOD</th>\n",
       "      <th>TRDATETIME</th>\n",
       "      <th>amount</th>\n",
       "      <th>channel_type</th>\n",
       "      <th>cl_id</th>\n",
       "      <th>currency</th>\n",
       "      <th>istest</th>\n",
       "      <th>target_flag</th>\n",
       "      <th>target_sum</th>\n",
       "      <th>trx_category</th>\n",
       "      <th>Year</th>\n",
       "      <th>Month</th>\n",
       "      <th>Date</th>\n",
       "      <th>Hour</th>\n",
       "      <th>DateFormat</th>\n",
       "    </tr>\n",
       "  </thead>\n",
       "  <tbody>\n",
       "    <tr>\n",
       "      <th>0</th>\n",
       "      <td>5200</td>\n",
       "      <td>01/10/2017</td>\n",
       "      <td>21OCT17:00:00:00</td>\n",
       "      <td>5023.0</td>\n",
       "      <td>type10</td>\n",
       "      <td>0</td>\n",
       "      <td>810</td>\n",
       "      <td>0</td>\n",
       "      <td>0.0</td>\n",
       "      <td>0.0</td>\n",
       "      <td>POS</td>\n",
       "      <td>2017</td>\n",
       "      <td>10</td>\n",
       "      <td>21</td>\n",
       "      <td>0</td>\n",
       "      <td>2017-10-21</td>\n",
       "    </tr>\n",
       "    <tr>\n",
       "      <th>1</th>\n",
       "      <td>6011</td>\n",
       "      <td>01/10/2017</td>\n",
       "      <td>12OCT17:12:24:07</td>\n",
       "      <td>20000.0</td>\n",
       "      <td>type10</td>\n",
       "      <td>0</td>\n",
       "      <td>810</td>\n",
       "      <td>0</td>\n",
       "      <td>0.0</td>\n",
       "      <td>0.0</td>\n",
       "      <td>DEPOSIT</td>\n",
       "      <td>2017</td>\n",
       "      <td>10</td>\n",
       "      <td>12</td>\n",
       "      <td>12</td>\n",
       "      <td>2017-10-12</td>\n",
       "    </tr>\n",
       "    <tr>\n",
       "      <th>2</th>\n",
       "      <td>5921</td>\n",
       "      <td>01/12/2017</td>\n",
       "      <td>05DEC17:00:00:00</td>\n",
       "      <td>767.0</td>\n",
       "      <td>type10</td>\n",
       "      <td>0</td>\n",
       "      <td>810</td>\n",
       "      <td>0</td>\n",
       "      <td>0.0</td>\n",
       "      <td>0.0</td>\n",
       "      <td>POS</td>\n",
       "      <td>2017</td>\n",
       "      <td>12</td>\n",
       "      <td>5</td>\n",
       "      <td>0</td>\n",
       "      <td>2017-12-05</td>\n",
       "    </tr>\n",
       "    <tr>\n",
       "      <th>3</th>\n",
       "      <td>5411</td>\n",
       "      <td>01/10/2017</td>\n",
       "      <td>21OCT17:00:00:00</td>\n",
       "      <td>2031.0</td>\n",
       "      <td>type10</td>\n",
       "      <td>0</td>\n",
       "      <td>810</td>\n",
       "      <td>0</td>\n",
       "      <td>0.0</td>\n",
       "      <td>0.0</td>\n",
       "      <td>POS</td>\n",
       "      <td>2017</td>\n",
       "      <td>10</td>\n",
       "      <td>21</td>\n",
       "      <td>0</td>\n",
       "      <td>2017-10-21</td>\n",
       "    </tr>\n",
       "    <tr>\n",
       "      <th>4</th>\n",
       "      <td>6012</td>\n",
       "      <td>01/10/2017</td>\n",
       "      <td>24OCT17:13:14:24</td>\n",
       "      <td>36562.0</td>\n",
       "      <td>type10</td>\n",
       "      <td>0</td>\n",
       "      <td>810</td>\n",
       "      <td>0</td>\n",
       "      <td>0.0</td>\n",
       "      <td>0.0</td>\n",
       "      <td>C2C_OUT</td>\n",
       "      <td>2017</td>\n",
       "      <td>10</td>\n",
       "      <td>24</td>\n",
       "      <td>13</td>\n",
       "      <td>2017-10-24</td>\n",
       "    </tr>\n",
       "  </tbody>\n",
       "</table>\n",
       "</div>"
      ],
      "text/plain": [
       "    MCC      PERIOD        TRDATETIME   amount channel_type  cl_id  currency  \\\n",
       "0  5200  01/10/2017  21OCT17:00:00:00   5023.0       type10      0       810   \n",
       "1  6011  01/10/2017  12OCT17:12:24:07  20000.0       type10      0       810   \n",
       "2  5921  01/12/2017  05DEC17:00:00:00    767.0       type10      0       810   \n",
       "3  5411  01/10/2017  21OCT17:00:00:00   2031.0       type10      0       810   \n",
       "4  6012  01/10/2017  24OCT17:13:14:24  36562.0       type10      0       810   \n",
       "\n",
       "   istest  target_flag  target_sum trx_category  Year  Month  Date  Hour  \\\n",
       "0       0          0.0         0.0          POS  2017     10    21     0   \n",
       "1       0          0.0         0.0      DEPOSIT  2017     10    12    12   \n",
       "2       0          0.0         0.0          POS  2017     12     5     0   \n",
       "3       0          0.0         0.0          POS  2017     10    21     0   \n",
       "4       0          0.0         0.0      C2C_OUT  2017     10    24    13   \n",
       "\n",
       "   DateFormat  \n",
       "0  2017-10-21  \n",
       "1  2017-10-12  \n",
       "2  2017-12-05  \n",
       "3  2017-10-21  \n",
       "4  2017-10-24  "
      ]
     },
     "execution_count": 22,
     "metadata": {},
     "output_type": "execute_result"
    }
   ],
   "source": [
    "raw_df.head()"
   ]
  },
  {
   "cell_type": "code",
   "execution_count": 23,
   "metadata": {},
   "outputs": [],
   "source": [
    "'''Create columns with MCC general groups (20) and MCC groups (338)'''\n",
    "\n",
    "# Extract data from excel\n",
    "codes = pd.read_excel('mcc_codes.xlsx')\n",
    "\n",
    "# Merge dataframes with mutual insex 'MCC'\n",
    "merged = raw_df.merge(codes, left_on='MCC',right_on='чисоло',how = 'left')\n",
    "merged.drop('чисоло',axis = 1, inplace = True)\n",
    "\n",
    "# Fill NaN values (manually)\n",
    "merged['Имя'].fillna('Отели, мотели, курорты', inplace = True)\n",
    "merged['Группа'].fillna('Отели и мотели', inplace = True)"
   ]
  },
  {
   "cell_type": "code",
   "execution_count": 24,
   "metadata": {},
   "outputs": [],
   "source": [
    "# raw_df.groupby(['cl_id','channel_type','target_flag','MCC','currency']).agg({'amount':'sum', 'DateFormat':'min'})"
   ]
  },
  {
   "cell_type": "code",
   "execution_count": 25,
   "metadata": {},
   "outputs": [],
   "source": [
    "'''Add columns with converted amount values'''\n",
    "\n",
    "curr = pd.read_excel('curr.xlsx')\n",
    "merg_curr = merged.merge(curr, left_on='currency',right_on='Code_int',how = 'left')\n",
    "merg_curr.drop(['Code','Code_int'],axis = 1, inplace = True)\n",
    "\n",
    "def to_curr(row):\n",
    "    return row['amount']*row['Curr']\n",
    "\n",
    "merg_curr['amount_conv'] = merg_curr.apply(to_curr, axis = 1)"
   ]
  },
  {
   "cell_type": "code",
   "execution_count": 31,
   "metadata": {},
   "outputs": [],
   "source": [
    "# merg_curr[merg_curr['Code_int'].isnull() == True]['currency'].unique()"
   ]
  },
  {
   "cell_type": "code",
   "execution_count": 32,
   "metadata": {},
   "outputs": [],
   "source": [
    "# Средняя дата операций\n",
    "# date.fromordinal(int(merged['DateFormat'].apply(lambda x: x.toordinal()).mean()))"
   ]
  },
  {
   "cell_type": "code",
   "execution_count": 33,
   "metadata": {},
   "outputs": [],
   "source": [
    "merg_curr.to_csv('amounts_conv')"
   ]
  },
  {
   "cell_type": "code",
   "execution_count": 34,
   "metadata": {},
   "outputs": [],
   "source": [
    "w_df = merg_curr.copy()"
   ]
  },
  {
   "cell_type": "code",
   "execution_count": 35,
   "metadata": {},
   "outputs": [],
   "source": [
    "# w_df.drop(['PERIOD', 'TRDATETIME','amount','Year','Month','Date','Имя','Curr'],axis=1,inplace=True)"
   ]
  },
  {
   "cell_type": "code",
   "execution_count": 36,
   "metadata": {},
   "outputs": [],
   "source": [
    "'''Calculating duration of using period'''\n",
    "\n",
    "date_df = w_df.groupby(['cl_id']).agg({'DateFormat':'min', 'target_flag':'min'})\n",
    "date_df['Last'] = w_df.groupby(['cl_id']).agg({'DateFormat':'max'})['DateFormat']\n",
    "\n",
    "def duration(row):\n",
    "    return row[2].toordinal() - row[0].toordinal()\n",
    "\n",
    "date_df['Duration'] = date_df.apply(duration, axis = 1)"
   ]
  },
  {
   "cell_type": "code",
   "execution_count": 37,
   "metadata": {},
   "outputs": [
    {
     "data": {
      "text/plain": [
       "'Если удалять операции по снятию наличнки, то количество людей, пользующихся продуктом\\nболее 3 месяцев уменьшается (с 300 до 77 или 35, если применить еще и 6012)'"
      ]
     },
     "execution_count": 37,
     "metadata": {},
     "output_type": "execute_result"
    }
   ],
   "source": [
    "'''Если удалять операции по снятию наличнки, то количество людей, пользующихся продуктом\n",
    "более 3 месяцев уменьшается (с 300 до 77 или 35, если применить еще и 6012)'''\n",
    "# w_df = w_df.drop(np.where(w_df['MCC'] == 6011)[0])\n",
    "# w_df = w_df.query(\"MCC != 6011\")\n",
    "# w_df = w_df.query(\"MCC != 6012\")\n",
    "\n",
    "# date_df.Duration.max()\n",
    "# date_df[date_df.Duration > 95].target_flag.sum(), date_df[date_df.Duration > 95].shape\n",
    "# date_df[(date_df.Duration > 100) & (date_df.target_flag ==0)].head()"
   ]
  },
  {
   "cell_type": "code",
   "execution_count": null,
   "metadata": {},
   "outputs": [],
   "source": [
    "w_df.head()"
   ]
  },
  {
   "cell_type": "code",
   "execution_count": 38,
   "metadata": {},
   "outputs": [],
   "source": [
    "'''Creating my_table\n",
    "Adding duration, amount sum'''\n",
    "\n",
    "my_table = date_df.copy()\n",
    "my_table.drop(['DateFormat','Last'],axis = 1, inplace = True)\n",
    "temp = w_df.groupby('cl_id').agg({'amount_conv':'sum','amount':'sum'})\n",
    "my_table['amount_sum'] = temp['amount_conv']"
   ]
  },
  {
   "cell_type": "code",
   "execution_count": 39,
   "metadata": {},
   "outputs": [],
   "source": [
    "'''Adding columns presents separate MCC and separate operation types'''\n",
    "\n",
    "from pandas import pivot_table\n",
    "\n",
    "table = pivot_table(w_df, values = 'amount_conv',\n",
    "                   index = ['cl_id'],columns = 'trx_category', aggfunc=np.sum)\n",
    "table1 = pivot_table(w_df, values = 'amount_conv',\n",
    "                   index = ['cl_id'],columns = 'Группа', aggfunc=np.sum)\n",
    "table.fillna(0,inplace=True)\n",
    "table1.fillna(0,inplace=True)\n",
    "my_table = my_table.join(table)\n",
    "my_table = my_table.join(table1)"
   ]
  },
  {
   "cell_type": "code",
   "execution_count": 40,
   "metadata": {},
   "outputs": [],
   "source": [
    "table2 = pivot_table(w_df, values = 'amount_conv',\n",
    "                   index = ['cl_id'],columns = 'MCC', aggfunc=len)"
   ]
  },
  {
   "cell_type": "code",
   "execution_count": 41,
   "metadata": {},
   "outputs": [],
   "source": [
    "table2.fillna(0,inplace=True)"
   ]
  },
  {
   "cell_type": "code",
   "execution_count": 42,
   "metadata": {},
   "outputs": [
    {
     "data": {
      "text/plain": [
       "Text(0,0.5,'explained_variance_ratio_')"
      ]
     },
     "execution_count": 42,
     "metadata": {},
     "output_type": "execute_result"
    },
    {
     "data": {
      "image/png": "[encoded data removed]",
      "text/plain": [
       "<matplotlib.figure.Figure at 0x37f81748>"
      ]
     },
     "metadata": {},
     "output_type": "display_data"
    }
   ],
   "source": [
    "from sklearn.decomposition import PCA\n",
    "pca = PCA(n_components=20).fit(table2)\n",
    "\n",
    "cum_evr = np.cumsum(pca.explained_variance_ratio_)\n",
    "xs = np.arange(cum_evr.size)+1\n",
    "plt.plot(xs, cum_evr, linewidth=2)\n",
    "plt.grid()\n",
    "plt.xlabel('n_components')\n",
    "plt.ylabel('explained_variance_ratio_')"
   ]
  },
  {
   "cell_type": "code",
   "execution_count": 43,
   "metadata": {},
   "outputs": [],
   "source": [
    "cols2 = table2.columns\n",
    "table3 = pca.transform(table2)\n",
    "colsPCA = []\n",
    "for i in range(20):\n",
    "    colsPCA.append('PCA' + str(i))"
   ]
  },
  {
   "cell_type": "code",
   "execution_count": 44,
   "metadata": {},
   "outputs": [],
   "source": [
    "table4 = pd.DataFrame(table3, columns=colsPCA)"
   ]
  },
  {
   "cell_type": "code",
   "execution_count": 45,
   "metadata": {},
   "outputs": [],
   "source": [
    "my_table = my_table.join(table4.set_index(my_table.index))"
   ]
  },
  {
   "cell_type": "code",
   "execution_count": 75,
   "metadata": {},
   "outputs": [],
   "source": [
    "X_te = my_table[my_table.target_flag.isna() == True]\n",
    "\n",
    "X_tr = my_table[my_table.target_flag.isna() == False]\n",
    "\n",
    "Y_tr = X_tr['target_flag']\n",
    "\n",
    "X_tr = X_tr.drop('target_flag',axis=1)\n",
    "\n",
    "X_te = X_te.drop('target_flag',axis=1)"
   ]
  },
  {
   "cell_type": "markdown",
   "metadata": {},
   "source": [
    "Тестовое предсказание"
   ]
  },
  {
   "cell_type": "code",
   "execution_count": 78,
   "metadata": {},
   "outputs": [
    {
     "name": "stderr",
     "output_type": "stream",
     "text": [
      "C:\\ProgramData\\Anaconda3\\lib\\site-packages\\sklearn\\preprocessing\\label.py:151: DeprecationWarning: The truth value of an empty array is ambiguous. Returning False, but in future this will result in an error. Use `array.size > 0` to check that an array is not empty.\n",
      "  if diff:\n"
     ]
    },
    {
     "data": {
      "text/plain": [
       "0.758"
      ]
     },
     "execution_count": 78,
     "metadata": {},
     "output_type": "execute_result"
    }
   ],
   "source": [
    "Xtr,Xte,Ytr,Yte = train_test_split(X_tr,Y_tr,test_size=0.2)\n",
    "params = {'n_estimators': 1000,\n",
    "          'learning_rate': 0.01,\n",
    "          'max_depth': 7,\n",
    "          'min_child_weight': 10,\n",
    "          'subsample': 0.6,\n",
    "          'colsample_bytree': 0.7,\n",
    "          'n_jobs': 4,\n",
    "         }\n",
    "model = xgb.XGBClassifier(**params)\n",
    "model.fit(Xtr,Ytr)\n",
    "model.score(Xte,Yte)"
   ]
  },
  {
   "cell_type": "code",
   "execution_count": 79,
   "metadata": {},
   "outputs": [
    {
     "data": {
      "text/plain": [
       "XGBClassifier(base_score=0.5, booster='gbtree', colsample_bylevel=1,\n",
       "       colsample_bytree=0.7, gamma=0, learning_rate=0.01, max_delta_step=0,\n",
       "       max_depth=7, min_child_weight=10, missing=None, n_estimators=1000,\n",
       "       n_jobs=4, nthread=None, objective='binary:logistic', random_state=0,\n",
       "       reg_alpha=0, reg_lambda=1, scale_pos_weight=1, seed=None,\n",
       "       silent=True, subsample=0.6)"
      ]
     },
     "execution_count": 79,
     "metadata": {},
     "output_type": "execute_result"
    }
   ],
   "source": [
    "model.fit(X_tr,Y_tr)"
   ]
  },
  {
   "cell_type": "code",
   "execution_count": 80,
   "metadata": {},
   "outputs": [
    {
     "name": "stderr",
     "output_type": "stream",
     "text": [
      "C:\\ProgramData\\Anaconda3\\lib\\site-packages\\sklearn\\preprocessing\\label.py:151: DeprecationWarning: The truth value of an empty array is ambiguous. Returning False, but in future this will result in an error. Use `array.size > 0` to check that an array is not empty.\n",
      "  if diff:\n"
     ]
    }
   ],
   "source": [
    "predictions = model.predict(X_te)"
   ]
  },
  {
   "cell_type": "code",
   "execution_count": 81,
   "metadata": {},
   "outputs": [
    {
     "data": {
      "text/plain": [
       "array([1., 1., 1., ..., 1., 0., 1.])"
      ]
     },
     "execution_count": 81,
     "metadata": {},
     "output_type": "execute_result"
    }
   ],
   "source": [
    "predictions"
   ]
  },
  {
   "cell_type": "code",
   "execution_count": 87,
   "metadata": {},
   "outputs": [],
   "source": [
    "for_sub = test.drop_duplicates('cl_id').copy()\n",
    "df_pred = pd.DataFrame(for_sub.cl_id, columns = ['cl_id'])\n",
    "df_pred['target_flag'] = predictions\n",
    "df_pred = df_pred.set_index('cl_id')\n",
    "df_pred.to_csv('submission.csv')"
   ]
  },
  {
   "cell_type": "code",
   "execution_count": null,
   "metadata": {},
   "outputs": [],
   "source": []
  }
 ],
 "metadata": {
  "kernelspec": {
   "display_name": "Python 3",
   "language": "python",
   "name": "python3"
  },
  "language_info": {
   "codemirror_mode": {
    "name": "ipython",
    "version": 3
   },
   "file_extension": ".py",
   "mimetype": "text/x-python",
   "name": "python",
   "nbconvert_exporter": "python",
   "pygments_lexer": "ipython3",
   "version": "3.6.4"
  },
  "toc": {
   "base_numbering": 1,
   "nav_menu": {},
   "number_sections": true,
   "sideBar": true,
   "skip_h1_title": false,
   "title_cell": "Table of Contents",
   "title_sidebar": "Contents",
   "toc_cell": false,
   "toc_position": {
    "height": "calc(100% - 180px)",
    "left": "10px",
    "top": "150px",
    "width": "273px"
   },
   "toc_section_display": true,
   "toc_window_display": false
  }
 },
 "nbformat": 4,
 "nbformat_minor": 2
}
