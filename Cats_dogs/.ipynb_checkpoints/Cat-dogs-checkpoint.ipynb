{
 "cells": [
  {
   "cell_type": "code",
   "execution_count": 1,
   "metadata": {},
   "outputs": [
    {
     "name": "stderr",
     "output_type": "stream",
     "text": [
      "C:\\Anaconda\\lib\\site-packages\\h5py\\__init__.py:36: FutureWarning: Conversion of the second argument of issubdtype from `float` to `np.floating` is deprecated. In future, it will be treated as `np.float64 == np.dtype(float).type`.\n",
      "  from ._conv import register_converters as _register_converters\n",
      "Using TensorFlow backend.\n"
     ]
    }
   ],
   "source": [
    "import numpy as np\n",
    "import keras\n",
    "from keras.models import Model\n",
    "from keras.preprocessing.image import load_img, img_to_array"
   ]
  },
  {
   "cell_type": "code",
   "execution_count": 2,
   "metadata": {},
   "outputs": [],
   "source": [
    "IMG_SIZE = (224, 224)  # размер входного изображения сети"
   ]
  },
  {
   "cell_type": "code",
   "execution_count": 3,
   "metadata": {},
   "outputs": [],
   "source": [
    "from keras.applications.inception_resnet_v2 import *"
   ]
  },
  {
   "cell_type": "code",
   "execution_count": 38,
   "metadata": {},
   "outputs": [],
   "source": [
    "import re\n",
    "from random import shuffle\n",
    "from glob import glob\n",
    "\n",
    "train_files = glob('../../../Data_cats/train/*.jpg')\n",
    "test_files = glob('../../../Data_cats/test/*.jpg')\n",
    "\n",
    "# загружаем входное изображение и предобрабатываем\n",
    "def load_image(path, target_size=IMG_SIZE):\n",
    "    img = load_img(path, target_size=target_size)  # загрузка и масштабирование изображения\n",
    "    array = img_to_array(img)\n",
    "    return preprocess_input(array)  # предобработка для VGG16\n",
    "\n",
    "# генератор для последовательного чтения обучающих данных с диска\n",
    "def fit_generator(files, batch_size=32):\n",
    "    while True:\n",
    "        shuffle(files)\n",
    "        for k in range(len(files) // batch_size):\n",
    "            i = k * batch_size\n",
    "            j = i + batch_size\n",
    "            if j > len(files):\n",
    "                j = - j % len(files)\n",
    "            x = np.array([load_image(path) for path in files[i:j]])\n",
    "            y = np.array([1. if re.match('.*dog\\.\\d', path) else 0. for path in files[i:j]])\n",
    "            yield (x, y)\n",
    "\n",
    "# генератор последовательного чтения тестовых данных с диска\n",
    "def predict_generator(files):\n",
    "    while True:\n",
    "        for path in files:\n",
    "            yield np.array([load_image(path)])"
   ]
  },
  {
   "cell_type": "code",
   "execution_count": 7,
   "metadata": {},
   "outputs": [],
   "source": [
    "shuffle(train_files)  # перемешиваем обучающую выборку\n",
    "\n",
    "train_val_split = 100"
   ]
  },
  {
   "cell_type": "code",
   "execution_count": 8,
   "metadata": {},
   "outputs": [
    {
     "data": {
      "text/plain": [
       "array([0., 1., 1., 0., 1., 1., 0., 0., 1., 1., 0., 0., 0., 1., 1., 0., 1.,\n",
       "       1., 1., 0., 0., 0., 1., 1., 0., 0., 1., 0., 0., 0., 1., 1., 1., 0.,\n",
       "       0., 0., 1., 0., 1., 0., 1., 1., 0., 1., 0., 1., 0., 1., 0., 1., 1.,\n",
       "       1., 0., 1., 1., 0., 0., 0., 1., 1., 1., 1., 0., 1., 1., 0., 1., 0.,\n",
       "       0., 0., 1., 0., 1., 1., 1., 1., 1., 1., 1., 1., 0., 0., 0., 1., 1.,\n",
       "       0., 1., 0., 1., 0., 1., 0., 1., 1., 0., 1., 0., 0., 0., 1.])"
      ]
     },
     "execution_count": 8,
     "metadata": {},
     "output_type": "execute_result"
    }
   ],
   "source": [
    "next(fit_generator(train_files[:train_val_split], train_val_split))[1]"
   ]
  },
  {
   "cell_type": "code",
   "execution_count": 9,
   "metadata": {},
   "outputs": [],
   "source": [
    "base_model = InceptionResNetV2(include_top = False,\n",
    "                   weights = 'imagenet',pooling='max',\n",
    "                   input_shape = (IMG_SIZE[0], IMG_SIZE[1], 3))"
   ]
  },
  {
   "cell_type": "code",
   "execution_count": 10,
   "metadata": {},
   "outputs": [],
   "source": [
    "# фиксируем все веса предобученной сети\n",
    "for layer in base_model.layers:\n",
    "    layer.trainable = False"
   ]
  },
  {
   "cell_type": "code",
   "execution_count": 11,
   "metadata": {},
   "outputs": [],
   "source": [
    "x = base_model.layers[-1].output\n",
    "x = keras.layers.Dense(100,  # один выход\n",
    "                activation='tanh',  # функция активации  \n",
    "                kernel_regularizer=keras.regularizers.l1(1e-4))(x)\n",
    "x = keras.layers.Dense(1,  # один выход\n",
    "                activation='sigmoid',  # функция активации  \n",
    "                kernel_regularizer=keras.regularizers.l1(1e-4))(x)\n",
    "model = Model(inputs=base_model.input, outputs=x)"
   ]
  },
  {
   "cell_type": "code",
   "execution_count": 12,
   "metadata": {},
   "outputs": [],
   "source": [
    "from keras.optimizers import Adam, SGD\n",
    "\n",
    "mypotim = Adam(lr=2 * 1e-3, beta_1=0.9, beta_2=0.999, epsilon=1e-08)\n",
    "\n",
    "model.compile(optimizer=mypotim, \n",
    "              loss='binary_crossentropy',  # функция потерь binary_crossentropy (log loss\n",
    "              metrics=['accuracy'])\n",
    "\n",
    "BS = 32\n",
    "EP = 2"
   ]
  },
  {
   "cell_type": "code",
   "execution_count": 13,
   "metadata": {},
   "outputs": [],
   "source": [
    "a = shuffle(train_files)"
   ]
  },
  {
   "cell_type": "code",
   "execution_count": 14,
   "metadata": {},
   "outputs": [],
   "source": [
    "a"
   ]
  },
  {
   "cell_type": "code",
   "execution_count": 15,
   "metadata": {},
   "outputs": [
    {
     "name": "stdout",
     "output_type": "stream",
     "text": [
      "Epoch 1/2\n",
      "782/781 [==============================] - 332s 425ms/step - loss: 0.4023 - acc: 0.9353 - val_loss: 0.2366 - val_acc: 0.9600\n",
      "Epoch 2/2\n",
      "782/781 [==============================] - 325s 415ms/step - loss: 0.2798 - acc: 0.9445 - val_loss: 0.1879 - val_acc: 0.9700\n"
     ]
    },
    {
     "data": {
      "text/plain": [
       "<keras.callbacks.History at 0x45c15898>"
      ]
     },
     "execution_count": 15,
     "metadata": {},
     "output_type": "execute_result"
    }
   ],
   "source": [
    "shuffle(train_files)  # перемешиваем обучающую выборку\n",
    "\n",
    "train_val_split = 100  # число изображений в валидационной выборке\n",
    "\n",
    "validation_data = next(fit_generator(train_files[:train_val_split], train_val_split))\n",
    "\n",
    "# запускаем процесс обучения\n",
    "model.fit_generator(fit_generator(train_files[train_val_split:], batch_size = BS),  # данные читаем функцией-генератором\n",
    "        steps_per_epoch=len(train_files)/BS,  # число вызовов генератора за эпоху\n",
    "        epochs=EP,\n",
    "        shuffle=True,# число эпох обучения\n",
    "        validation_data=validation_data)"
   ]
  },
  {
   "cell_type": "code",
   "execution_count": 16,
   "metadata": {},
   "outputs": [
    {
     "name": "stdout",
     "output_type": "stream",
     "text": [
      "Epoch 1/10\n",
      "782/781 [==============================] - 325s 415ms/step - loss: 0.2700 - acc: 0.9427 - val_loss: 0.1584 - val_acc: 0.9600\n",
      "Epoch 2/10\n",
      "782/781 [==============================] - 325s 416ms/step - loss: 0.2487 - acc: 0.9448 - val_loss: 0.1419 - val_acc: 0.9800\n",
      "Epoch 3/10\n",
      "782/781 [==============================] - 325s 416ms/step - loss: 0.2400 - acc: 0.9504 - val_loss: 0.1144 - val_acc: 0.9900\n",
      "Epoch 4/10\n",
      "782/781 [==============================] - 325s 416ms/step - loss: 0.2356 - acc: 0.9518 - val_loss: 0.1469 - val_acc: 0.9600\n",
      "Epoch 5/10\n",
      "782/781 [==============================] - 325s 416ms/step - loss: 0.2425 - acc: 0.9471 - val_loss: 0.1208 - val_acc: 0.9900\n",
      "Epoch 6/10\n",
      "782/781 [==============================] - 325s 416ms/step - loss: 0.2469 - acc: 0.9473 - val_loss: 0.3271 - val_acc: 0.9400\n",
      "Epoch 7/10\n",
      "782/781 [==============================] - 325s 416ms/step - loss: 0.2602 - acc: 0.9460 - val_loss: 0.1720 - val_acc: 0.9900\n",
      "Epoch 8/10\n",
      "782/781 [==============================] - 325s 416ms/step - loss: 0.2562 - acc: 0.9447 - val_loss: 0.1822 - val_acc: 0.9800\n",
      "Epoch 9/10\n",
      "782/781 [==============================] - 325s 416ms/step - loss: 0.2541 - acc: 0.9479 - val_loss: 0.2029 - val_acc: 0.9700\n",
      "Epoch 10/10\n",
      "782/781 [==============================] - 325s 416ms/step - loss: 0.2396 - acc: 0.9490 - val_loss: 0.2110 - val_acc: 0.9700\n"
     ]
    },
    {
     "data": {
      "text/plain": [
       "<keras.callbacks.History at 0x483fd9e8>"
      ]
     },
     "execution_count": 16,
     "metadata": {},
     "output_type": "execute_result"
    }
   ],
   "source": [
    "model.fit_generator(fit_generator(train_files[train_val_split:], batch_size = BS),  # данные читаем функцией-генератором\n",
    "        steps_per_epoch=len(train_files)/BS,  # число вызовов генератора за эпоху\n",
    "        epochs=10,\n",
    "        shuffle=True,# число эпох обучения\n",
    "        validation_data=validation_data)"
   ]
  },
  {
   "cell_type": "code",
   "execution_count": 40,
   "metadata": {},
   "outputs": [],
   "source": [
    "pred = model.predict_generator(predict_generator(test_files), len(test_files), max_queue_size=500)"
   ]
  },
  {
   "cell_type": "code",
   "execution_count": 41,
   "metadata": {},
   "outputs": [],
   "source": [
    "with open('submit.txt', 'w') as dst:\n",
    "    dst.write('id,label\\n')\n",
    "    for path, score in zip(test_files, pred):\n",
    "        dst.write('%s,%f\\n' % (re.search('(\\d+)', path).group(0), score))"
   ]
  },
  {
   "cell_type": "code",
   "execution_count": 42,
   "metadata": {},
   "outputs": [],
   "source": [
    "import pandas as pd"
   ]
  },
  {
   "cell_type": "code",
   "execution_count": 43,
   "metadata": {},
   "outputs": [],
   "source": [
    "df = pd.read_csv('submit.txt')"
   ]
  },
  {
   "cell_type": "code",
   "execution_count": 44,
   "metadata": {},
   "outputs": [],
   "source": [
    "df.set_index('id').to_csv('sub.csv')"
   ]
  }
 ],
 "metadata": {
  "kernelspec": {
   "display_name": "Python 3",
   "language": "python",
   "name": "python3"
  },
  "language_info": {
   "codemirror_mode": {
    "name": "ipython",
    "version": 3
   },
   "file_extension": ".py",
   "mimetype": "text/x-python",
   "name": "python",
   "nbconvert_exporter": "python",
   "pygments_lexer": "ipython3",
   "version": "3.6.4"
  }
 },
 "nbformat": 4,
 "nbformat_minor": 2
}
